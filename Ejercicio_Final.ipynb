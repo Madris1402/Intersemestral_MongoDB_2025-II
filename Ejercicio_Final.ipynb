{
  "nbformat": 4,
  "nbformat_minor": 0,
  "metadata": {
    "colab": {
      "provenance": []
    },
    "kernelspec": {
      "name": "python3",
      "display_name": "Python 3"
    },
    "language_info": {
      "name": "python"
    }
  },
  "cells": [
    {
      "cell_type": "markdown",
      "source": [
        "***Ricardo Madrigal Urencio***"
      ],
      "metadata": {
        "id": "68XA12t2-QwL"
      }
    },
    {
      "cell_type": "code",
      "execution_count": null,
      "metadata": {
        "colab": {
          "base_uri": "https://localhost:8080/"
        },
        "id": "67vPdCAOGFVG",
        "outputId": "6555e7db-e0a4-4983-e882-a1d0f79ebb1f"
      },
      "outputs": [
        {
          "output_type": "stream",
          "name": "stdout",
          "text": [
            "Collecting pymongo\n",
            "  Downloading pymongo-4.13.2-cp311-cp311-manylinux_2_17_x86_64.manylinux2014_x86_64.whl.metadata (22 kB)\n",
            "Collecting dnspython<3.0.0,>=1.16.0 (from pymongo)\n",
            "  Downloading dnspython-2.7.0-py3-none-any.whl.metadata (5.8 kB)\n",
            "Downloading pymongo-4.13.2-cp311-cp311-manylinux_2_17_x86_64.manylinux2014_x86_64.whl (1.4 MB)\n",
            "\u001b[2K   \u001b[90m━━━━━━━━━━━━━━━━━━━━━━━━━━━━━━━━━━━━━━━━\u001b[0m \u001b[32m1.4/1.4 MB\u001b[0m \u001b[31m24.1 MB/s\u001b[0m eta \u001b[36m0:00:00\u001b[0m\n",
            "\u001b[?25hDownloading dnspython-2.7.0-py3-none-any.whl (313 kB)\n",
            "\u001b[2K   \u001b[90m━━━━━━━━━━━━━━━━━━━━━━━━━━━━━━━━━━━━━━━━\u001b[0m \u001b[32m313.6/313.6 kB\u001b[0m \u001b[31m14.3 MB/s\u001b[0m eta \u001b[36m0:00:00\u001b[0m\n",
            "\u001b[?25hInstalling collected packages: dnspython, pymongo\n",
            "Successfully installed dnspython-2.7.0 pymongo-4.13.2\n",
            "Requirement already satisfied: plotly in /usr/local/lib/python3.11/dist-packages (5.24.1)\n",
            "Collecting plotly\n",
            "  Downloading plotly-6.1.2-py3-none-any.whl.metadata (6.9 kB)\n",
            "Requirement already satisfied: narwhals>=1.15.1 in /usr/local/lib/python3.11/dist-packages (from plotly) (1.42.0)\n",
            "Requirement already satisfied: packaging in /usr/local/lib/python3.11/dist-packages (from plotly) (24.2)\n",
            "Downloading plotly-6.1.2-py3-none-any.whl (16.3 MB)\n",
            "\u001b[2K   \u001b[90m━━━━━━━━━━━━━━━━━━━━━━━━━━━━━━━━━━━━━━━━\u001b[0m \u001b[32m16.3/16.3 MB\u001b[0m \u001b[31m51.9 MB/s\u001b[0m eta \u001b[36m0:00:00\u001b[0m\n",
            "\u001b[?25hInstalling collected packages: plotly\n",
            "  Attempting uninstall: plotly\n",
            "    Found existing installation: plotly 5.24.1\n",
            "    Uninstalling plotly-5.24.1:\n",
            "      Successfully uninstalled plotly-5.24.1\n",
            "Successfully installed plotly-6.1.2\n",
            "Collecting squarify\n",
            "  Downloading squarify-0.4.4-py3-none-any.whl.metadata (600 bytes)\n",
            "Downloading squarify-0.4.4-py3-none-any.whl (4.1 kB)\n",
            "Installing collected packages: squarify\n",
            "Successfully installed squarify-0.4.4\n"
          ]
        }
      ],
      "source": [
        "! pip install pymongo\n",
        "! pip install -U plotly\n",
        "! pip install squarify"
      ]
    },
    {
      "cell_type": "code",
      "source": [
        "from pymongo import MongoClient\n",
        "import pandas as pd\n",
        "import numpy as np\n",
        "import matplotlib.pyplot as plt\n",
        "import plotly.express as px\n",
        "import seaborn as sns\n",
        "\n",
        "import ipywidgets as widgets\n",
        "from IPython.display import display, clear_output\n",
        "\n",
        "import plotly.io as pio\n",
        "pio.renderers.default = \"notebook_connected\"  # opción segura en Colab\n",
        "\n",
        "from plotly.offline import init_notebook_mode, iplot\n",
        "init_notebook_mode(connected=True)\n",
        "\n",
        "%matplotlib inline"
      ],
      "metadata": {
        "colab": {
          "base_uri": "https://localhost:8080/",
          "height": 17
        },
        "id": "8o0TTTcaGOO_",
        "outputId": "a2397e58-1076-473c-caac-6bf96fb070d6"
      },
      "execution_count": null,
      "outputs": [
        {
          "output_type": "display_data",
          "data": {
            "text/html": [
              "        <script type=\"text/javascript\">\n",
              "        window.PlotlyConfig = {MathJaxConfig: 'local'};\n",
              "        if (window.MathJax && window.MathJax.Hub && window.MathJax.Hub.Config) {window.MathJax.Hub.Config({SVG: {font: \"STIX-Web\"}});}\n",
              "        </script>\n",
              "        <script type=\"module\">import \"https://cdn.plot.ly/plotly-3.0.1.min\"</script>\n",
              "        "
            ]
          },
          "metadata": {}
        }
      ]
    },
    {
      "cell_type": "code",
      "source": [
        "# Datos de conexión\n",
        "usuario = \"madris1402\"\n",
        "password = \"maranes8\"\n",
        "cluster = \"clusterrmu.s1ici9p.mongodb.net\"\n",
        "base_datos = \"analytics\"\n",
        "coleccion = \"sales_cubo\"\n",
        "\n",
        "# Cadena de conexión\n",
        "uri = f\"mongodb+srv://{usuario}:{password}@{cluster}/?retryWrites=true&w=majority\"\n",
        "# Crear cliente\n",
        "client = MongoClient(uri)\n",
        "\n",
        "#Madrigal Urencio Ricardo\n",
        "client\n",
        "\n",
        "#Conexion a la DB\n",
        "db = client[base_datos]\n",
        "coll = db[coleccion]\n",
        "\n",
        "print(db)\n",
        "print(coll)"
      ],
      "metadata": {
        "colab": {
          "base_uri": "https://localhost:8080/"
        },
        "id": "XL1v30FcGOpA",
        "outputId": "685a5705-73dd-4f94-f4cc-d89d4afef576"
      },
      "execution_count": null,
      "outputs": [
        {
          "output_type": "stream",
          "name": "stdout",
          "text": [
            "Database(MongoClient(host=['ac-tljpgji-shard-00-00.s1ici9p.mongodb.net:27017', 'ac-tljpgji-shard-00-02.s1ici9p.mongodb.net:27017', 'ac-tljpgji-shard-00-01.s1ici9p.mongodb.net:27017'], document_class=dict, tz_aware=False, connect=True, retrywrites=True, w='majority', authsource='admin', replicaset='atlas-10ra0l-shard-0', tls=True), 'analytics')\n",
            "Collection(Database(MongoClient(host=['ac-tljpgji-shard-00-00.s1ici9p.mongodb.net:27017', 'ac-tljpgji-shard-00-02.s1ici9p.mongodb.net:27017', 'ac-tljpgji-shard-00-01.s1ici9p.mongodb.net:27017'], document_class=dict, tz_aware=False, connect=True, retrywrites=True, w='majority', authsource='admin', replicaset='atlas-10ra0l-shard-0', tls=True), 'analytics'), 'sales_cubo')\n"
          ]
        }
      ]
    },
    {
      "cell_type": "markdown",
      "source": [
        "###**Consulta 1 – SLICE:**\n",
        "- Promedio de edad de los clientes por país y género, considerando únicamente la categoría Technology.\n",
        "- Visualiza con un gráfico de barras agrupadas."
      ],
      "metadata": {
        "id": "4RptuPbm8sL8"
      }
    },
    {
      "cell_type": "code",
      "source": [
        "#Ricardo Madrigal Urencio\n",
        "pipeline = [\n",
        "    {\n",
        "        \"$match\": {\n",
        "            \"category\": \"Technology\"\n",
        "        }\n",
        "    },\n",
        "    {\n",
        "        \"$group\": {\n",
        "            \"_id\": {\n",
        "                \"pais\": \"$country_name\",\n",
        "                \"genero\": \"$gender\"\n",
        "            },\n",
        "            \"avg_edad\": {\n",
        "                \"$avg\": \"$age\"\n",
        "            }\n",
        "        }\n",
        "    },\n",
        "    {\n",
        "        \"$project\": {\n",
        "            \"_id\": 0,\n",
        "            \"pais\": \"$_id.pais\",\n",
        "            \"genero\": \"$_id.genero\",\n",
        "            \"avg_edad\": {\"$floor\": [\"$avg_edad\"]}\n",
        "        }\n",
        "    },\n",
        "    {\"$sort\": {\"pais\": 1, \"genero\": 1}}\n",
        "]\n",
        "\n",
        "result = list(coll.aggregate(pipeline))\n",
        "\n",
        "df = pd.json_normalize(result)\n",
        "\n",
        "df"
      ],
      "metadata": {
        "colab": {
          "base_uri": "https://localhost:8080/",
          "height": 424
        },
        "id": "gmjjLYyc8raN",
        "outputId": "f1f1b7d8-3a49-4ff3-898e-215c59042584"
      },
      "execution_count": null,
      "outputs": [
        {
          "output_type": "execute_result",
          "data": {
            "text/plain": [
              "             pais      genero  avg_edad\n",
              "0       Argentina      Female      46.0\n",
              "1       Argentina        Male      64.0\n",
              "2       Argentina  Non-Binary      49.0\n",
              "3       Australia      Female      51.0\n",
              "4       Australia        Male      41.0\n",
              "..            ...         ...       ...\n",
              "85  United States        Male      24.0\n",
              "86  United States  Non-Binary      48.0\n",
              "87      Venezuela      Female      49.0\n",
              "88      Venezuela        Male      51.0\n",
              "89      Venezuela  Non-Binary      35.0\n",
              "\n",
              "[90 rows x 3 columns]"
            ],
            "text/html": [
              "\n",
              "  <div id=\"df-9325002b-5b23-47b4-9b9a-42e1f00f5c64\" class=\"colab-df-container\">\n",
              "    <div>\n",
              "<style scoped>\n",
              "    .dataframe tbody tr th:only-of-type {\n",
              "        vertical-align: middle;\n",
              "    }\n",
              "\n",
              "    .dataframe tbody tr th {\n",
              "        vertical-align: top;\n",
              "    }\n",
              "\n",
              "    .dataframe thead th {\n",
              "        text-align: right;\n",
              "    }\n",
              "</style>\n",
              "<table border=\"1\" class=\"dataframe\">\n",
              "  <thead>\n",
              "    <tr style=\"text-align: right;\">\n",
              "      <th></th>\n",
              "      <th>pais</th>\n",
              "      <th>genero</th>\n",
              "      <th>avg_edad</th>\n",
              "    </tr>\n",
              "  </thead>\n",
              "  <tbody>\n",
              "    <tr>\n",
              "      <th>0</th>\n",
              "      <td>Argentina</td>\n",
              "      <td>Female</td>\n",
              "      <td>46.0</td>\n",
              "    </tr>\n",
              "    <tr>\n",
              "      <th>1</th>\n",
              "      <td>Argentina</td>\n",
              "      <td>Male</td>\n",
              "      <td>64.0</td>\n",
              "    </tr>\n",
              "    <tr>\n",
              "      <th>2</th>\n",
              "      <td>Argentina</td>\n",
              "      <td>Non-Binary</td>\n",
              "      <td>49.0</td>\n",
              "    </tr>\n",
              "    <tr>\n",
              "      <th>3</th>\n",
              "      <td>Australia</td>\n",
              "      <td>Female</td>\n",
              "      <td>51.0</td>\n",
              "    </tr>\n",
              "    <tr>\n",
              "      <th>4</th>\n",
              "      <td>Australia</td>\n",
              "      <td>Male</td>\n",
              "      <td>41.0</td>\n",
              "    </tr>\n",
              "    <tr>\n",
              "      <th>...</th>\n",
              "      <td>...</td>\n",
              "      <td>...</td>\n",
              "      <td>...</td>\n",
              "    </tr>\n",
              "    <tr>\n",
              "      <th>85</th>\n",
              "      <td>United States</td>\n",
              "      <td>Male</td>\n",
              "      <td>24.0</td>\n",
              "    </tr>\n",
              "    <tr>\n",
              "      <th>86</th>\n",
              "      <td>United States</td>\n",
              "      <td>Non-Binary</td>\n",
              "      <td>48.0</td>\n",
              "    </tr>\n",
              "    <tr>\n",
              "      <th>87</th>\n",
              "      <td>Venezuela</td>\n",
              "      <td>Female</td>\n",
              "      <td>49.0</td>\n",
              "    </tr>\n",
              "    <tr>\n",
              "      <th>88</th>\n",
              "      <td>Venezuela</td>\n",
              "      <td>Male</td>\n",
              "      <td>51.0</td>\n",
              "    </tr>\n",
              "    <tr>\n",
              "      <th>89</th>\n",
              "      <td>Venezuela</td>\n",
              "      <td>Non-Binary</td>\n",
              "      <td>35.0</td>\n",
              "    </tr>\n",
              "  </tbody>\n",
              "</table>\n",
              "<p>90 rows × 3 columns</p>\n",
              "</div>\n",
              "    <div class=\"colab-df-buttons\">\n",
              "\n",
              "  <div class=\"colab-df-container\">\n",
              "    <button class=\"colab-df-convert\" onclick=\"convertToInteractive('df-9325002b-5b23-47b4-9b9a-42e1f00f5c64')\"\n",
              "            title=\"Convert this dataframe to an interactive table.\"\n",
              "            style=\"display:none;\">\n",
              "\n",
              "  <svg xmlns=\"http://www.w3.org/2000/svg\" height=\"24px\" viewBox=\"0 -960 960 960\">\n",
              "    <path d=\"M120-120v-720h720v720H120Zm60-500h600v-160H180v160Zm220 220h160v-160H400v160Zm0 220h160v-160H400v160ZM180-400h160v-160H180v160Zm440 0h160v-160H620v160ZM180-180h160v-160H180v160Zm440 0h160v-160H620v160Z\"/>\n",
              "  </svg>\n",
              "    </button>\n",
              "\n",
              "  <style>\n",
              "    .colab-df-container {\n",
              "      display:flex;\n",
              "      gap: 12px;\n",
              "    }\n",
              "\n",
              "    .colab-df-convert {\n",
              "      background-color: #E8F0FE;\n",
              "      border: none;\n",
              "      border-radius: 50%;\n",
              "      cursor: pointer;\n",
              "      display: none;\n",
              "      fill: #1967D2;\n",
              "      height: 32px;\n",
              "      padding: 0 0 0 0;\n",
              "      width: 32px;\n",
              "    }\n",
              "\n",
              "    .colab-df-convert:hover {\n",
              "      background-color: #E2EBFA;\n",
              "      box-shadow: 0px 1px 2px rgba(60, 64, 67, 0.3), 0px 1px 3px 1px rgba(60, 64, 67, 0.15);\n",
              "      fill: #174EA6;\n",
              "    }\n",
              "\n",
              "    .colab-df-buttons div {\n",
              "      margin-bottom: 4px;\n",
              "    }\n",
              "\n",
              "    [theme=dark] .colab-df-convert {\n",
              "      background-color: #3B4455;\n",
              "      fill: #D2E3FC;\n",
              "    }\n",
              "\n",
              "    [theme=dark] .colab-df-convert:hover {\n",
              "      background-color: #434B5C;\n",
              "      box-shadow: 0px 1px 3px 1px rgba(0, 0, 0, 0.15);\n",
              "      filter: drop-shadow(0px 1px 2px rgba(0, 0, 0, 0.3));\n",
              "      fill: #FFFFFF;\n",
              "    }\n",
              "  </style>\n",
              "\n",
              "    <script>\n",
              "      const buttonEl =\n",
              "        document.querySelector('#df-9325002b-5b23-47b4-9b9a-42e1f00f5c64 button.colab-df-convert');\n",
              "      buttonEl.style.display =\n",
              "        google.colab.kernel.accessAllowed ? 'block' : 'none';\n",
              "\n",
              "      async function convertToInteractive(key) {\n",
              "        const element = document.querySelector('#df-9325002b-5b23-47b4-9b9a-42e1f00f5c64');\n",
              "        const dataTable =\n",
              "          await google.colab.kernel.invokeFunction('convertToInteractive',\n",
              "                                                    [key], {});\n",
              "        if (!dataTable) return;\n",
              "\n",
              "        const docLinkHtml = 'Like what you see? Visit the ' +\n",
              "          '<a target=\"_blank\" href=https://colab.research.google.com/notebooks/data_table.ipynb>data table notebook</a>'\n",
              "          + ' to learn more about interactive tables.';\n",
              "        element.innerHTML = '';\n",
              "        dataTable['output_type'] = 'display_data';\n",
              "        await google.colab.output.renderOutput(dataTable, element);\n",
              "        const docLink = document.createElement('div');\n",
              "        docLink.innerHTML = docLinkHtml;\n",
              "        element.appendChild(docLink);\n",
              "      }\n",
              "    </script>\n",
              "  </div>\n",
              "\n",
              "\n",
              "    <div id=\"df-c84f992a-04ca-4ac3-9ecc-5ac7c3382ad6\">\n",
              "      <button class=\"colab-df-quickchart\" onclick=\"quickchart('df-c84f992a-04ca-4ac3-9ecc-5ac7c3382ad6')\"\n",
              "                title=\"Suggest charts\"\n",
              "                style=\"display:none;\">\n",
              "\n",
              "<svg xmlns=\"http://www.w3.org/2000/svg\" height=\"24px\"viewBox=\"0 0 24 24\"\n",
              "     width=\"24px\">\n",
              "    <g>\n",
              "        <path d=\"M19 3H5c-1.1 0-2 .9-2 2v14c0 1.1.9 2 2 2h14c1.1 0 2-.9 2-2V5c0-1.1-.9-2-2-2zM9 17H7v-7h2v7zm4 0h-2V7h2v10zm4 0h-2v-4h2v4z\"/>\n",
              "    </g>\n",
              "</svg>\n",
              "      </button>\n",
              "\n",
              "<style>\n",
              "  .colab-df-quickchart {\n",
              "      --bg-color: #E8F0FE;\n",
              "      --fill-color: #1967D2;\n",
              "      --hover-bg-color: #E2EBFA;\n",
              "      --hover-fill-color: #174EA6;\n",
              "      --disabled-fill-color: #AAA;\n",
              "      --disabled-bg-color: #DDD;\n",
              "  }\n",
              "\n",
              "  [theme=dark] .colab-df-quickchart {\n",
              "      --bg-color: #3B4455;\n",
              "      --fill-color: #D2E3FC;\n",
              "      --hover-bg-color: #434B5C;\n",
              "      --hover-fill-color: #FFFFFF;\n",
              "      --disabled-bg-color: #3B4455;\n",
              "      --disabled-fill-color: #666;\n",
              "  }\n",
              "\n",
              "  .colab-df-quickchart {\n",
              "    background-color: var(--bg-color);\n",
              "    border: none;\n",
              "    border-radius: 50%;\n",
              "    cursor: pointer;\n",
              "    display: none;\n",
              "    fill: var(--fill-color);\n",
              "    height: 32px;\n",
              "    padding: 0;\n",
              "    width: 32px;\n",
              "  }\n",
              "\n",
              "  .colab-df-quickchart:hover {\n",
              "    background-color: var(--hover-bg-color);\n",
              "    box-shadow: 0 1px 2px rgba(60, 64, 67, 0.3), 0 1px 3px 1px rgba(60, 64, 67, 0.15);\n",
              "    fill: var(--button-hover-fill-color);\n",
              "  }\n",
              "\n",
              "  .colab-df-quickchart-complete:disabled,\n",
              "  .colab-df-quickchart-complete:disabled:hover {\n",
              "    background-color: var(--disabled-bg-color);\n",
              "    fill: var(--disabled-fill-color);\n",
              "    box-shadow: none;\n",
              "  }\n",
              "\n",
              "  .colab-df-spinner {\n",
              "    border: 2px solid var(--fill-color);\n",
              "    border-color: transparent;\n",
              "    border-bottom-color: var(--fill-color);\n",
              "    animation:\n",
              "      spin 1s steps(1) infinite;\n",
              "  }\n",
              "\n",
              "  @keyframes spin {\n",
              "    0% {\n",
              "      border-color: transparent;\n",
              "      border-bottom-color: var(--fill-color);\n",
              "      border-left-color: var(--fill-color);\n",
              "    }\n",
              "    20% {\n",
              "      border-color: transparent;\n",
              "      border-left-color: var(--fill-color);\n",
              "      border-top-color: var(--fill-color);\n",
              "    }\n",
              "    30% {\n",
              "      border-color: transparent;\n",
              "      border-left-color: var(--fill-color);\n",
              "      border-top-color: var(--fill-color);\n",
              "      border-right-color: var(--fill-color);\n",
              "    }\n",
              "    40% {\n",
              "      border-color: transparent;\n",
              "      border-right-color: var(--fill-color);\n",
              "      border-top-color: var(--fill-color);\n",
              "    }\n",
              "    60% {\n",
              "      border-color: transparent;\n",
              "      border-right-color: var(--fill-color);\n",
              "    }\n",
              "    80% {\n",
              "      border-color: transparent;\n",
              "      border-right-color: var(--fill-color);\n",
              "      border-bottom-color: var(--fill-color);\n",
              "    }\n",
              "    90% {\n",
              "      border-color: transparent;\n",
              "      border-bottom-color: var(--fill-color);\n",
              "    }\n",
              "  }\n",
              "</style>\n",
              "\n",
              "      <script>\n",
              "        async function quickchart(key) {\n",
              "          const quickchartButtonEl =\n",
              "            document.querySelector('#' + key + ' button');\n",
              "          quickchartButtonEl.disabled = true;  // To prevent multiple clicks.\n",
              "          quickchartButtonEl.classList.add('colab-df-spinner');\n",
              "          try {\n",
              "            const charts = await google.colab.kernel.invokeFunction(\n",
              "                'suggestCharts', [key], {});\n",
              "          } catch (error) {\n",
              "            console.error('Error during call to suggestCharts:', error);\n",
              "          }\n",
              "          quickchartButtonEl.classList.remove('colab-df-spinner');\n",
              "          quickchartButtonEl.classList.add('colab-df-quickchart-complete');\n",
              "        }\n",
              "        (() => {\n",
              "          let quickchartButtonEl =\n",
              "            document.querySelector('#df-c84f992a-04ca-4ac3-9ecc-5ac7c3382ad6 button');\n",
              "          quickchartButtonEl.style.display =\n",
              "            google.colab.kernel.accessAllowed ? 'block' : 'none';\n",
              "        })();\n",
              "      </script>\n",
              "    </div>\n",
              "\n",
              "  <div id=\"id_4a581246-705e-4e6f-8422-500b13770b40\">\n",
              "    <style>\n",
              "      .colab-df-generate {\n",
              "        background-color: #E8F0FE;\n",
              "        border: none;\n",
              "        border-radius: 50%;\n",
              "        cursor: pointer;\n",
              "        display: none;\n",
              "        fill: #1967D2;\n",
              "        height: 32px;\n",
              "        padding: 0 0 0 0;\n",
              "        width: 32px;\n",
              "      }\n",
              "\n",
              "      .colab-df-generate:hover {\n",
              "        background-color: #E2EBFA;\n",
              "        box-shadow: 0px 1px 2px rgba(60, 64, 67, 0.3), 0px 1px 3px 1px rgba(60, 64, 67, 0.15);\n",
              "        fill: #174EA6;\n",
              "      }\n",
              "\n",
              "      [theme=dark] .colab-df-generate {\n",
              "        background-color: #3B4455;\n",
              "        fill: #D2E3FC;\n",
              "      }\n",
              "\n",
              "      [theme=dark] .colab-df-generate:hover {\n",
              "        background-color: #434B5C;\n",
              "        box-shadow: 0px 1px 3px 1px rgba(0, 0, 0, 0.15);\n",
              "        filter: drop-shadow(0px 1px 2px rgba(0, 0, 0, 0.3));\n",
              "        fill: #FFFFFF;\n",
              "      }\n",
              "    </style>\n",
              "    <button class=\"colab-df-generate\" onclick=\"generateWithVariable('df')\"\n",
              "            title=\"Generate code using this dataframe.\"\n",
              "            style=\"display:none;\">\n",
              "\n",
              "  <svg xmlns=\"http://www.w3.org/2000/svg\" height=\"24px\"viewBox=\"0 0 24 24\"\n",
              "       width=\"24px\">\n",
              "    <path d=\"M7,19H8.4L18.45,9,17,7.55,7,17.6ZM5,21V16.75L18.45,3.32a2,2,0,0,1,2.83,0l1.4,1.43a1.91,1.91,0,0,1,.58,1.4,1.91,1.91,0,0,1-.58,1.4L9.25,21ZM18.45,9,17,7.55Zm-12,3A5.31,5.31,0,0,0,4.9,8.1,5.31,5.31,0,0,0,1,6.5,5.31,5.31,0,0,0,4.9,4.9,5.31,5.31,0,0,0,6.5,1,5.31,5.31,0,0,0,8.1,4.9,5.31,5.31,0,0,0,12,6.5,5.46,5.46,0,0,0,6.5,12Z\"/>\n",
              "  </svg>\n",
              "    </button>\n",
              "    <script>\n",
              "      (() => {\n",
              "      const buttonEl =\n",
              "        document.querySelector('#id_4a581246-705e-4e6f-8422-500b13770b40 button.colab-df-generate');\n",
              "      buttonEl.style.display =\n",
              "        google.colab.kernel.accessAllowed ? 'block' : 'none';\n",
              "\n",
              "      buttonEl.onclick = () => {\n",
              "        google.colab.notebook.generateWithVariable('df');\n",
              "      }\n",
              "      })();\n",
              "    </script>\n",
              "  </div>\n",
              "\n",
              "    </div>\n",
              "  </div>\n"
            ],
            "application/vnd.google.colaboratory.intrinsic+json": {
              "type": "dataframe",
              "variable_name": "df",
              "summary": "{\n  \"name\": \"df\",\n  \"rows\": 90,\n  \"fields\": [\n    {\n      \"column\": \"pais\",\n      \"properties\": {\n        \"dtype\": \"category\",\n        \"num_unique_values\": 30,\n        \"samples\": [\n          \"United Kingdom\",\n          \"Japan\",\n          \"Solomon Islands\"\n        ],\n        \"semantic_type\": \"\",\n        \"description\": \"\"\n      }\n    },\n    {\n      \"column\": \"genero\",\n      \"properties\": {\n        \"dtype\": \"category\",\n        \"num_unique_values\": 3,\n        \"samples\": [\n          \"Female\",\n          \"Male\",\n          \"Non-Binary\"\n        ],\n        \"semantic_type\": \"\",\n        \"description\": \"\"\n      }\n    },\n    {\n      \"column\": \"avg_edad\",\n      \"properties\": {\n        \"dtype\": \"number\",\n        \"std\": 9.073186959277455,\n        \"min\": 18.0,\n        \"max\": 72.0,\n        \"num_unique_values\": 35,\n        \"samples\": [\n          67.0,\n          54.0,\n          63.0\n        ],\n        \"semantic_type\": \"\",\n        \"description\": \"\"\n      }\n    }\n  ]\n}"
            }
          },
          "metadata": {},
          "execution_count": 4
        }
      ]
    },
    {
      "cell_type": "code",
      "source": [
        "#Grafica de Barras\n",
        "plt.figure(figsize=(18, 6))\n",
        "sns.barplot(x='pais', y='avg_edad', hue='genero', data=df, palette='Paired')\n",
        "plt.title('Promedio de Edad de Clientes por País y Género de la categoría Technology')\n",
        "plt.xticks(rotation=45)\n",
        "plt.xlabel('País')\n",
        "plt.ylabel('Promedio de Edad')\n",
        "plt.tight_layout()\n",
        "plt.show()"
      ],
      "metadata": {
        "colab": {
          "base_uri": "https://localhost:8080/",
          "height": 531
        },
        "id": "tJB1th05A2_v",
        "outputId": "1a0c3037-1b64-4092-d001-eb836b3312e1"
      },
      "execution_count": null,
      "outputs": [
        {
          "output_type": "display_data",
          "data": {
            "text/plain": [
              "<Figure size 1800x600 with 1 Axes>"
            ],
            "image/png": "[encoded data removed]"
          },
          "metadata": {}
        }
      ]
    },
    {
      "cell_type": "markdown",
      "source": [
        "###**Consulta 2 – DICE:**\n",
        "- Promedio de edad de los clientes filtrando múltiples dimensiones: categoría Technology, que no sean en fin de semana y años entre 2020 y 2022.\n",
        "- Usa un gráfico interactivo o comparativo."
      ],
      "metadata": {
        "id": "U-tIBrOU84hQ"
      }
    },
    {
      "cell_type": "code",
      "source": [
        "#Ricardo Madrigal Urencio\n",
        "pipeline = [\n",
        "    {\n",
        "        \"$match\": {\n",
        "            \"category\": \"Technology\",\n",
        "            \"is_weekend\": {\"$ne\": True},\n",
        "            \"year\": {\"$gte\": 2020, \"$lte\": 2022}\n",
        "            }\n",
        "    },\n",
        "    {\n",
        "        \"$group\": {\n",
        "            \"_id\": {\"anio\": \"$year\"},\n",
        "            \"avg_edad\": {\n",
        "                \"$avg\": \"$age\"\n",
        "            }\n",
        "        }\n",
        "    },\n",
        "    {\n",
        "        \"$project\": {\n",
        "            \"_id\": 0,\n",
        "            \"avg_edad\": {\"$floor\": [\"$avg_edad\"]},\n",
        "            \"año\": \"$_id.anio\"\n",
        "        }\n",
        "    }\n",
        "]\n",
        "\n",
        "result = list(coll.aggregate(pipeline))\n",
        "\n",
        "df = pd.json_normalize(result)\n",
        "\n",
        "df"
      ],
      "metadata": {
        "id": "X_EtnYUb9BDC",
        "colab": {
          "base_uri": "https://localhost:8080/",
          "height": 143
        },
        "outputId": "edf0b4ba-4ea2-4104-c9cc-febf0ca8bf84"
      },
      "execution_count": null,
      "outputs": [
        {
          "output_type": "execute_result",
          "data": {
            "text/plain": [
              "   avg_edad   año\n",
              "0      51.0  2020\n",
              "1      51.0  2022\n",
              "2      56.0  2021"
            ],
            "text/html": [
              "\n",
              "  <div id=\"df-62479d8b-bbee-4c25-8078-5ea1c4f7510c\" class=\"colab-df-container\">\n",
              "    <div>\n",
              "<style scoped>\n",
              "    .dataframe tbody tr th:only-of-type {\n",
              "        vertical-align: middle;\n",
              "    }\n",
              "\n",
              "    .dataframe tbody tr th {\n",
              "        vertical-align: top;\n",
              "    }\n",
              "\n",
              "    .dataframe thead th {\n",
              "        text-align: right;\n",
              "    }\n",
              "</style>\n",
              "<table border=\"1\" class=\"dataframe\">\n",
              "  <thead>\n",
              "    <tr style=\"text-align: right;\">\n",
              "      <th></th>\n",
              "      <th>avg_edad</th>\n",
              "      <th>año</th>\n",
              "    </tr>\n",
              "  </thead>\n",
              "  <tbody>\n",
              "    <tr>\n",
              "      <th>0</th>\n",
              "      <td>51.0</td>\n",
              "      <td>2020</td>\n",
              "    </tr>\n",
              "    <tr>\n",
              "      <th>1</th>\n",
              "      <td>51.0</td>\n",
              "      <td>2022</td>\n",
              "    </tr>\n",
              "    <tr>\n",
              "      <th>2</th>\n",
              "      <td>56.0</td>\n",
              "      <td>2021</td>\n",
              "    </tr>\n",
              "  </tbody>\n",
              "</table>\n",
              "</div>\n",
              "    <div class=\"colab-df-buttons\">\n",
              "\n",
              "  <div class=\"colab-df-container\">\n",
              "    <button class=\"colab-df-convert\" onclick=\"convertToInteractive('df-62479d8b-bbee-4c25-8078-5ea1c4f7510c')\"\n",
              "            title=\"Convert this dataframe to an interactive table.\"\n",
              "            style=\"display:none;\">\n",
              "\n",
              "  <svg xmlns=\"http://www.w3.org/2000/svg\" height=\"24px\" viewBox=\"0 -960 960 960\">\n",
              "    <path d=\"M120-120v-720h720v720H120Zm60-500h600v-160H180v160Zm220 220h160v-160H400v160Zm0 220h160v-160H400v160ZM180-400h160v-160H180v160Zm440 0h160v-160H620v160ZM180-180h160v-160H180v160Zm440 0h160v-160H620v160Z\"/>\n",
              "  </svg>\n",
              "    </button>\n",
              "\n",
              "  <style>\n",
              "    .colab-df-container {\n",
              "      display:flex;\n",
              "      gap: 12px;\n",
              "    }\n",
              "\n",
              "    .colab-df-convert {\n",
              "      background-color: #E8F0FE;\n",
              "      border: none;\n",
              "      border-radius: 50%;\n",
              "      cursor: pointer;\n",
              "      display: none;\n",
              "      fill: #1967D2;\n",
              "      height: 32px;\n",
              "      padding: 0 0 0 0;\n",
              "      width: 32px;\n",
              "    }\n",
              "\n",
              "    .colab-df-convert:hover {\n",
              "      background-color: #E2EBFA;\n",
              "      box-shadow: 0px 1px 2px rgba(60, 64, 67, 0.3), 0px 1px 3px 1px rgba(60, 64, 67, 0.15);\n",
              "      fill: #174EA6;\n",
              "    }\n",
              "\n",
              "    .colab-df-buttons div {\n",
              "      margin-bottom: 4px;\n",
              "    }\n",
              "\n",
              "    [theme=dark] .colab-df-convert {\n",
              "      background-color: #3B4455;\n",
              "      fill: #D2E3FC;\n",
              "    }\n",
              "\n",
              "    [theme=dark] .colab-df-convert:hover {\n",
              "      background-color: #434B5C;\n",
              "      box-shadow: 0px 1px 3px 1px rgba(0, 0, 0, 0.15);\n",
              "      filter: drop-shadow(0px 1px 2px rgba(0, 0, 0, 0.3));\n",
              "      fill: #FFFFFF;\n",
              "    }\n",
              "  </style>\n",
              "\n",
              "    <script>\n",
              "      const buttonEl =\n",
              "        document.querySelector('#df-62479d8b-bbee-4c25-8078-5ea1c4f7510c button.colab-df-convert');\n",
              "      buttonEl.style.display =\n",
              "        google.colab.kernel.accessAllowed ? 'block' : 'none';\n",
              "\n",
              "      async function convertToInteractive(key) {\n",
              "        const element = document.querySelector('#df-62479d8b-bbee-4c25-8078-5ea1c4f7510c');\n",
              "        const dataTable =\n",
              "          await google.colab.kernel.invokeFunction('convertToInteractive',\n",
              "                                                    [key], {});\n",
              "        if (!dataTable) return;\n",
              "\n",
              "        const docLinkHtml = 'Like what you see? Visit the ' +\n",
              "          '<a target=\"_blank\" href=https://colab.research.google.com/notebooks/data_table.ipynb>data table notebook</a>'\n",
              "          + ' to learn more about interactive tables.';\n",
              "        element.innerHTML = '';\n",
              "        dataTable['output_type'] = 'display_data';\n",
              "        await google.colab.output.renderOutput(dataTable, element);\n",
              "        const docLink = document.createElement('div');\n",
              "        docLink.innerHTML = docLinkHtml;\n",
              "        element.appendChild(docLink);\n",
              "      }\n",
              "    </script>\n",
              "  </div>\n",
              "\n",
              "\n",
              "    <div id=\"df-c4228e8e-6e43-48be-9af9-ff90bf79f0ef\">\n",
              "      <button class=\"colab-df-quickchart\" onclick=\"quickchart('df-c4228e8e-6e43-48be-9af9-ff90bf79f0ef')\"\n",
              "                title=\"Suggest charts\"\n",
              "                style=\"display:none;\">\n",
              "\n",
              "<svg xmlns=\"http://www.w3.org/2000/svg\" height=\"24px\"viewBox=\"0 0 24 24\"\n",
              "     width=\"24px\">\n",
              "    <g>\n",
              "        <path d=\"M19 3H5c-1.1 0-2 .9-2 2v14c0 1.1.9 2 2 2h14c1.1 0 2-.9 2-2V5c0-1.1-.9-2-2-2zM9 17H7v-7h2v7zm4 0h-2V7h2v10zm4 0h-2v-4h2v4z\"/>\n",
              "    </g>\n",
              "</svg>\n",
              "      </button>\n",
              "\n",
              "<style>\n",
              "  .colab-df-quickchart {\n",
              "      --bg-color: #E8F0FE;\n",
              "      --fill-color: #1967D2;\n",
              "      --hover-bg-color: #E2EBFA;\n",
              "      --hover-fill-color: #174EA6;\n",
              "      --disabled-fill-color: #AAA;\n",
              "      --disabled-bg-color: #DDD;\n",
              "  }\n",
              "\n",
              "  [theme=dark] .colab-df-quickchart {\n",
              "      --bg-color: #3B4455;\n",
              "      --fill-color: #D2E3FC;\n",
              "      --hover-bg-color: #434B5C;\n",
              "      --hover-fill-color: #FFFFFF;\n",
              "      --disabled-bg-color: #3B4455;\n",
              "      --disabled-fill-color: #666;\n",
              "  }\n",
              "\n",
              "  .colab-df-quickchart {\n",
              "    background-color: var(--bg-color);\n",
              "    border: none;\n",
              "    border-radius: 50%;\n",
              "    cursor: pointer;\n",
              "    display: none;\n",
              "    fill: var(--fill-color);\n",
              "    height: 32px;\n",
              "    padding: 0;\n",
              "    width: 32px;\n",
              "  }\n",
              "\n",
              "  .colab-df-quickchart:hover {\n",
              "    background-color: var(--hover-bg-color);\n",
              "    box-shadow: 0 1px 2px rgba(60, 64, 67, 0.3), 0 1px 3px 1px rgba(60, 64, 67, 0.15);\n",
              "    fill: var(--button-hover-fill-color);\n",
              "  }\n",
              "\n",
              "  .colab-df-quickchart-complete:disabled,\n",
              "  .colab-df-quickchart-complete:disabled:hover {\n",
              "    background-color: var(--disabled-bg-color);\n",
              "    fill: var(--disabled-fill-color);\n",
              "    box-shadow: none;\n",
              "  }\n",
              "\n",
              "  .colab-df-spinner {\n",
              "    border: 2px solid var(--fill-color);\n",
              "    border-color: transparent;\n",
              "    border-bottom-color: var(--fill-color);\n",
              "    animation:\n",
              "      spin 1s steps(1) infinite;\n",
              "  }\n",
              "\n",
              "  @keyframes spin {\n",
              "    0% {\n",
              "      border-color: transparent;\n",
              "      border-bottom-color: var(--fill-color);\n",
              "      border-left-color: var(--fill-color);\n",
              "    }\n",
              "    20% {\n",
              "      border-color: transparent;\n",
              "      border-left-color: var(--fill-color);\n",
              "      border-top-color: var(--fill-color);\n",
              "    }\n",
              "    30% {\n",
              "      border-color: transparent;\n",
              "      border-left-color: var(--fill-color);\n",
              "      border-top-color: var(--fill-color);\n",
              "      border-right-color: var(--fill-color);\n",
              "    }\n",
              "    40% {\n",
              "      border-color: transparent;\n",
              "      border-right-color: var(--fill-color);\n",
              "      border-top-color: var(--fill-color);\n",
              "    }\n",
              "    60% {\n",
              "      border-color: transparent;\n",
              "      border-right-color: var(--fill-color);\n",
              "    }\n",
              "    80% {\n",
              "      border-color: transparent;\n",
              "      border-right-color: var(--fill-color);\n",
              "      border-bottom-color: var(--fill-color);\n",
              "    }\n",
              "    90% {\n",
              "      border-color: transparent;\n",
              "      border-bottom-color: var(--fill-color);\n",
              "    }\n",
              "  }\n",
              "</style>\n",
              "\n",
              "      <script>\n",
              "        async function quickchart(key) {\n",
              "          const quickchartButtonEl =\n",
              "            document.querySelector('#' + key + ' button');\n",
              "          quickchartButtonEl.disabled = true;  // To prevent multiple clicks.\n",
              "          quickchartButtonEl.classList.add('colab-df-spinner');\n",
              "          try {\n",
              "            const charts = await google.colab.kernel.invokeFunction(\n",
              "                'suggestCharts', [key], {});\n",
              "          } catch (error) {\n",
              "            console.error('Error during call to suggestCharts:', error);\n",
              "          }\n",
              "          quickchartButtonEl.classList.remove('colab-df-spinner');\n",
              "          quickchartButtonEl.classList.add('colab-df-quickchart-complete');\n",
              "        }\n",
              "        (() => {\n",
              "          let quickchartButtonEl =\n",
              "            document.querySelector('#df-c4228e8e-6e43-48be-9af9-ff90bf79f0ef button');\n",
              "          quickchartButtonEl.style.display =\n",
              "            google.colab.kernel.accessAllowed ? 'block' : 'none';\n",
              "        })();\n",
              "      </script>\n",
              "    </div>\n",
              "\n",
              "  <div id=\"id_d88b3756-888d-46ee-9caf-712605fdd9be\">\n",
              "    <style>\n",
              "      .colab-df-generate {\n",
              "        background-color: #E8F0FE;\n",
              "        border: none;\n",
              "        border-radius: 50%;\n",
              "        cursor: pointer;\n",
              "        display: none;\n",
              "        fill: #1967D2;\n",
              "        height: 32px;\n",
              "        padding: 0 0 0 0;\n",
              "        width: 32px;\n",
              "      }\n",
              "\n",
              "      .colab-df-generate:hover {\n",
              "        background-color: #E2EBFA;\n",
              "        box-shadow: 0px 1px 2px rgba(60, 64, 67, 0.3), 0px 1px 3px 1px rgba(60, 64, 67, 0.15);\n",
              "        fill: #174EA6;\n",
              "      }\n",
              "\n",
              "      [theme=dark] .colab-df-generate {\n",
              "        background-color: #3B4455;\n",
              "        fill: #D2E3FC;\n",
              "      }\n",
              "\n",
              "      [theme=dark] .colab-df-generate:hover {\n",
              "        background-color: #434B5C;\n",
              "        box-shadow: 0px 1px 3px 1px rgba(0, 0, 0, 0.15);\n",
              "        filter: drop-shadow(0px 1px 2px rgba(0, 0, 0, 0.3));\n",
              "        fill: #FFFFFF;\n",
              "      }\n",
              "    </style>\n",
              "    <button class=\"colab-df-generate\" onclick=\"generateWithVariable('df')\"\n",
              "            title=\"Generate code using this dataframe.\"\n",
              "            style=\"display:none;\">\n",
              "\n",
              "  <svg xmlns=\"http://www.w3.org/2000/svg\" height=\"24px\"viewBox=\"0 0 24 24\"\n",
              "       width=\"24px\">\n",
              "    <path d=\"M7,19H8.4L18.45,9,17,7.55,7,17.6ZM5,21V16.75L18.45,3.32a2,2,0,0,1,2.83,0l1.4,1.43a1.91,1.91,0,0,1,.58,1.4,1.91,1.91,0,0,1-.58,1.4L9.25,21ZM18.45,9,17,7.55Zm-12,3A5.31,5.31,0,0,0,4.9,8.1,5.31,5.31,0,0,0,1,6.5,5.31,5.31,0,0,0,4.9,4.9,5.31,5.31,0,0,0,6.5,1,5.31,5.31,0,0,0,8.1,4.9,5.31,5.31,0,0,0,12,6.5,5.46,5.46,0,0,0,6.5,12Z\"/>\n",
              "  </svg>\n",
              "    </button>\n",
              "    <script>\n",
              "      (() => {\n",
              "      const buttonEl =\n",
              "        document.querySelector('#id_d88b3756-888d-46ee-9caf-712605fdd9be button.colab-df-generate');\n",
              "      buttonEl.style.display =\n",
              "        google.colab.kernel.accessAllowed ? 'block' : 'none';\n",
              "\n",
              "      buttonEl.onclick = () => {\n",
              "        google.colab.notebook.generateWithVariable('df');\n",
              "      }\n",
              "      })();\n",
              "    </script>\n",
              "  </div>\n",
              "\n",
              "    </div>\n",
              "  </div>\n"
            ],
            "application/vnd.google.colaboratory.intrinsic+json": {
              "type": "dataframe",
              "variable_name": "df",
              "summary": "{\n  \"name\": \"df\",\n  \"rows\": 3,\n  \"fields\": [\n    {\n      \"column\": \"avg_edad\",\n      \"properties\": {\n        \"dtype\": \"number\",\n        \"std\": 2.8867513459481287,\n        \"min\": 51.0,\n        \"max\": 56.0,\n        \"num_unique_values\": 2,\n        \"samples\": [\n          56.0,\n          51.0\n        ],\n        \"semantic_type\": \"\",\n        \"description\": \"\"\n      }\n    },\n    {\n      \"column\": \"a\\u00f1o\",\n      \"properties\": {\n        \"dtype\": \"number\",\n        \"std\": 1,\n        \"min\": 2020,\n        \"max\": 2022,\n        \"num_unique_values\": 3,\n        \"samples\": [\n          2020,\n          2022\n        ],\n        \"semantic_type\": \"\",\n        \"description\": \"\"\n      }\n    }\n  ]\n}"
            }
          },
          "metadata": {},
          "execution_count": 64
        }
      ]
    },
    {
      "cell_type": "code",
      "source": [
        "#Grafica comparativa\n",
        "fig = px.treemap(\n",
        "    df, values='avg_edad', path=['año'],\n",
        "    title= \"Promedio de edad de los clientes filtrando múltiples dimensiones: categoría Technology, que no sean en fin de semana y años entre 2020 y 2022\",\n",
        "    labels={'avg_edad': 'Promedio de Edad', 'año': 'Año'},\n",
        ")\n",
        "\n",
        "fig.update_traces(textinfo='label+value+percent entry')\n",
        "fig.show()"
      ],
      "metadata": {
        "colab": {
          "base_uri": "https://localhost:8080/",
          "height": 542
        },
        "id": "RoV7k2zlBPg3",
        "outputId": "7f1681ce-c979-4995-bd9b-b90cada6d9ac"
      },
      "execution_count": null,
      "outputs": [
        {
          "output_type": "display_data",
          "data": {
            "application/vnd.plotly.v1+json": {
              "data": [
                {
                  "branchvalues": "total",
                  "domain": {
                    "x": [
                      0,
                      1
                    ],
                    "y": [
                      0,
                      1
                    ]
                  },
                  "hovertemplate": "labels=%{label}<br>Promedio de Edad=%{value}<br>parent=%{parent}<br>id=%{id}<extra></extra>",
                  "ids": [
                    "2020",
                    "2022",
                    "2021"
                  ],
                  "labels": [
                    "2020",
                    "2022",
                    "2021"
                  ],
                  "name": "",
                  "parents": [
                    "",
                    "",
                    ""
                  ],
                  "values": {
                    "dtype": "f8",
                    "bdata": "AAAAAACASUAAAAAAAIBJQAAAAAAAAExA"
                  },
                  "type": "treemap",
                  "textinfo": "label+value+percent entry"
                }
              ],
              "layout": {
                "template": {
                  "data": {
                    "histogram2dcontour": [
                      {
                        "type": "histogram2dcontour",
                        "colorbar": {
                          "outlinewidth": 0,
                          "ticks": ""
                        },
                        "colorscale": [
                          [
                            0,
                            "#0d0887"
                          ],
                          [
                            0.1111111111111111,
                            "#46039f"
                          ],
                          [
                            0.2222222222222222,
                            "#7201a8"
                          ],
                          [
                            0.3333333333333333,
                            "#9c179e"
                          ],
                          [
                            0.4444444444444444,
                            "#bd3786"
                          ],
                          [
                            0.5555555555555556,
                            "#d8576b"
                          ],
                          [
                            0.6666666666666666,
                            "#ed7953"
                          ],
                          [
                            0.7777777777777778,
                            "#fb9f3a"
                          ],
                          [
                            0.8888888888888888,
                            "#fdca26"
                          ],
                          [
                            1,
                            "#f0f921"
                          ]
                        ]
                      }
                    ],
                    "choropleth": [
                      {
                        "type": "choropleth",
                        "colorbar": {
                          "outlinewidth": 0,
                          "ticks": ""
                        }
                      }
                    ],
                    "histogram2d": [
                      {
                        "type": "histogram2d",
                        "colorbar": {
                          "outlinewidth": 0,
                          "ticks": ""
                        },
                        "colorscale": [
                          [
                            0,
                            "#0d0887"
                          ],
                          [
                            0.1111111111111111,
                            "#46039f"
                          ],
                          [
                            0.2222222222222222,
                            "#7201a8"
                          ],
                          [
                            0.3333333333333333,
                            "#9c179e"
                          ],
                          [
                            0.4444444444444444,
                            "#bd3786"
                          ],
                          [
                            0.5555555555555556,
                            "#d8576b"
                          ],
                          [
                            0.6666666666666666,
                            "#ed7953"
                          ],
                          [
                            0.7777777777777778,
                            "#fb9f3a"
                          ],
                          [
                            0.8888888888888888,
                            "#fdca26"
                          ],
                          [
                            1,
                            "#f0f921"
                          ]
                        ]
                      }
                    ],
                    "heatmap": [
                      {
                        "type": "heatmap",
                        "colorbar": {
                          "outlinewidth": 0,
                          "ticks": ""
                        },
                        "colorscale": [
                          [
                            0,
                            "#0d0887"
                          ],
                          [
                            0.1111111111111111,
                            "#46039f"
                          ],
                          [
                            0.2222222222222222,
                            "#7201a8"
                          ],
                          [
                            0.3333333333333333,
                            "#9c179e"
                          ],
                          [
                            0.4444444444444444,
                            "#bd3786"
                          ],
                          [
                            0.5555555555555556,
                            "#d8576b"
                          ],
                          [
                            0.6666666666666666,
                            "#ed7953"
                          ],
                          [
                            0.7777777777777778,
                            "#fb9f3a"
                          ],
                          [
                            0.8888888888888888,
                            "#fdca26"
                          ],
                          [
                            1,
                            "#f0f921"
                          ]
                        ]
                      }
                    ],
                    "contourcarpet": [
                      {
                        "type": "contourcarpet",
                        "colorbar": {
                          "outlinewidth": 0,
                          "ticks": ""
                        }
                      }
                    ],
                    "contour": [
                      {
                        "type": "contour",
                        "colorbar": {
                          "outlinewidth": 0,
                          "ticks": ""
                        },
                        "colorscale": [
                          [
                            0,
                            "#0d0887"
                          ],
                          [
                            0.1111111111111111,
                            "#46039f"
                          ],
                          [
                            0.2222222222222222,
                            "#7201a8"
                          ],
                          [
                            0.3333333333333333,
                            "#9c179e"
                          ],
                          [
                            0.4444444444444444,
                            "#bd3786"
                          ],
                          [
                            0.5555555555555556,
                            "#d8576b"
                          ],
                          [
                            0.6666666666666666,
                            "#ed7953"
                          ],
                          [
                            0.7777777777777778,
                            "#fb9f3a"
                          ],
                          [
                            0.8888888888888888,
                            "#fdca26"
                          ],
                          [
                            1,
                            "#f0f921"
                          ]
                        ]
                      }
                    ],
                    "surface": [
                      {
                        "type": "surface",
                        "colorbar": {
                          "outlinewidth": 0,
                          "ticks": ""
                        },
                        "colorscale": [
                          [
                            0,
                            "#0d0887"
                          ],
                          [
                            0.1111111111111111,
                            "#46039f"
                          ],
                          [
                            0.2222222222222222,
                            "#7201a8"
                          ],
                          [
                            0.3333333333333333,
                            "#9c179e"
                          ],
                          [
                            0.4444444444444444,
                            "#bd3786"
                          ],
                          [
                            0.5555555555555556,
                            "#d8576b"
                          ],
                          [
                            0.6666666666666666,
                            "#ed7953"
                          ],
                          [
                            0.7777777777777778,
                            "#fb9f3a"
                          ],
                          [
                            0.8888888888888888,
                            "#fdca26"
                          ],
                          [
                            1,
                            "#f0f921"
                          ]
                        ]
                      }
                    ],
                    "mesh3d": [
                      {
                        "type": "mesh3d",
                        "colorbar": {
                          "outlinewidth": 0,
                          "ticks": ""
                        }
                      }
                    ],
                    "scatter": [
                      {
                        "fillpattern": {
                          "fillmode": "overlay",
                          "size": 10,
                          "solidity": 0.2
                        },
                        "type": "scatter"
                      }
                    ],
                    "parcoords": [
                      {
                        "type": "parcoords",
                        "line": {
                          "colorbar": {
                            "outlinewidth": 0,
                            "ticks": ""
                          }
                        }
                      }
                    ],
                    "scatterpolargl": [
                      {
                        "type": "scatterpolargl",
                        "marker": {
                          "colorbar": {
                            "outlinewidth": 0,
                            "ticks": ""
                          }
                        }
                      }
                    ],
                    "bar": [
                      {
                        "error_x": {
                          "color": "#2a3f5f"
                        },
                        "error_y": {
                          "color": "#2a3f5f"
                        },
                        "marker": {
                          "line": {
                            "color": "#E5ECF6",
                            "width": 0.5
                          },
                          "pattern": {
                            "fillmode": "overlay",
                            "size": 10,
                            "solidity": 0.2
                          }
                        },
                        "type": "bar"
                      }
                    ],
                    "scattergeo": [
                      {
                        "type": "scattergeo",
                        "marker": {
                          "colorbar": {
                            "outlinewidth": 0,
                            "ticks": ""
                          }
                        }
                      }
                    ],
                    "scatterpolar": [
                      {
                        "type": "scatterpolar",
                        "marker": {
                          "colorbar": {
                            "outlinewidth": 0,
                            "ticks": ""
                          }
                        }
                      }
                    ],
                    "histogram": [
                      {
                        "marker": {
                          "pattern": {
                            "fillmode": "overlay",
                            "size": 10,
                            "solidity": 0.2
                          }
                        },
                        "type": "histogram"
                      }
                    ],
                    "scattergl": [
                      {
                        "type": "scattergl",
                        "marker": {
                          "colorbar": {
                            "outlinewidth": 0,
                            "ticks": ""
                          }
                        }
                      }
                    ],
                    "scatter3d": [
                      {
                        "type": "scatter3d",
                        "line": {
                          "colorbar": {
                            "outlinewidth": 0,
                            "ticks": ""
                          }
                        },
                        "marker": {
                          "colorbar": {
                            "outlinewidth": 0,
                            "ticks": ""
                          }
                        }
                      }
                    ],
                    "scattermap": [
                      {
                        "type": "scattermap",
                        "marker": {
                          "colorbar": {
                            "outlinewidth": 0,
                            "ticks": ""
                          }
                        }
                      }
                    ],
                    "scattermapbox": [
                      {
                        "type": "scattermapbox",
                        "marker": {
                          "colorbar": {
                            "outlinewidth": 0,
                            "ticks": ""
                          }
                        }
                      }
                    ],
                    "scatterternary": [
                      {
                        "type": "scatterternary",
                        "marker": {
                          "colorbar": {
                            "outlinewidth": 0,
                            "ticks": ""
                          }
                        }
                      }
                    ],
                    "scattercarpet": [
                      {
                        "type": "scattercarpet",
                        "marker": {
                          "colorbar": {
                            "outlinewidth": 0,
                            "ticks": ""
                          }
                        }
                      }
                    ],
                    "carpet": [
                      {
                        "aaxis": {
                          "endlinecolor": "#2a3f5f",
                          "gridcolor": "white",
                          "linecolor": "white",
                          "minorgridcolor": "white",
                          "startlinecolor": "#2a3f5f"
                        },
                        "baxis": {
                          "endlinecolor": "#2a3f5f",
                          "gridcolor": "white",
                          "linecolor": "white",
                          "minorgridcolor": "white",
                          "startlinecolor": "#2a3f5f"
                        },
                        "type": "carpet"
                      }
                    ],
                    "table": [
                      {
                        "cells": {
                          "fill": {
                            "color": "#EBF0F8"
                          },
                          "line": {
                            "color": "white"
                          }
                        },
                        "header": {
                          "fill": {
                            "color": "#C8D4E3"
                          },
                          "line": {
                            "color": "white"
                          }
                        },
                        "type": "table"
                      }
                    ],
                    "barpolar": [
                      {
                        "marker": {
                          "line": {
                            "color": "#E5ECF6",
                            "width": 0.5
                          },
                          "pattern": {
                            "fillmode": "overlay",
                            "size": 10,
                            "solidity": 0.2
                          }
                        },
                        "type": "barpolar"
                      }
                    ],
                    "pie": [
                      {
                        "automargin": true,
                        "type": "pie"
                      }
                    ]
                  },
                  "layout": {
                    "autotypenumbers": "strict",
                    "colorway": [
                      "#636efa",
                      "#EF553B",
                      "#00cc96",
                      "#ab63fa",
                      "#FFA15A",
                      "#19d3f3",
                      "#FF6692",
                      "#B6E880",
                      "#FF97FF",
                      "#FECB52"
                    ],
                    "font": {
                      "color": "#2a3f5f"
                    },
                    "hovermode": "closest",
                    "hoverlabel": {
                      "align": "left"
                    },
                    "paper_bgcolor": "white",
                    "plot_bgcolor": "#E5ECF6",
                    "polar": {
                      "bgcolor": "#E5ECF6",
                      "angularaxis": {
                        "gridcolor": "white",
                        "linecolor": "white",
                        "ticks": ""
                      },
                      "radialaxis": {
                        "gridcolor": "white",
                        "linecolor": "white",
                        "ticks": ""
                      }
                    },
                    "ternary": {
                      "bgcolor": "#E5ECF6",
                      "aaxis": {
                        "gridcolor": "white",
                        "linecolor": "white",
                        "ticks": ""
                      },
                      "baxis": {
                        "gridcolor": "white",
                        "linecolor": "white",
                        "ticks": ""
                      },
                      "caxis": {
                        "gridcolor": "white",
                        "linecolor": "white",
                        "ticks": ""
                      }
                    },
                    "coloraxis": {
                      "colorbar": {
                        "outlinewidth": 0,
                        "ticks": ""
                      }
                    },
                    "colorscale": {
                      "sequential": [
                        [
                          0,
                          "#0d0887"
                        ],
                        [
                          0.1111111111111111,
                          "#46039f"
                        ],
                        [
                          0.2222222222222222,
                          "#7201a8"
                        ],
                        [
                          0.3333333333333333,
                          "#9c179e"
                        ],
                        [
                          0.4444444444444444,
                          "#bd3786"
                        ],
                        [
                          0.5555555555555556,
                          "#d8576b"
                        ],
                        [
                          0.6666666666666666,
                          "#ed7953"
                        ],
                        [
                          0.7777777777777778,
                          "#fb9f3a"
                        ],
                        [
                          0.8888888888888888,
                          "#fdca26"
                        ],
                        [
                          1,
                          "#f0f921"
                        ]
                      ],
                      "sequentialminus": [
                        [
                          0,
                          "#0d0887"
                        ],
                        [
                          0.1111111111111111,
                          "#46039f"
                        ],
                        [
                          0.2222222222222222,
                          "#7201a8"
                        ],
                        [
                          0.3333333333333333,
                          "#9c179e"
                        ],
                        [
                          0.4444444444444444,
                          "#bd3786"
                        ],
                        [
                          0.5555555555555556,
                          "#d8576b"
                        ],
                        [
                          0.6666666666666666,
                          "#ed7953"
                        ],
                        [
                          0.7777777777777778,
                          "#fb9f3a"
                        ],
                        [
                          0.8888888888888888,
                          "#fdca26"
                        ],
                        [
                          1,
                          "#f0f921"
                        ]
                      ],
                      "diverging": [
                        [
                          0,
                          "#8e0152"
                        ],
                        [
                          0.1,
                          "#c51b7d"
                        ],
                        [
                          0.2,
                          "#de77ae"
                        ],
                        [
                          0.3,
                          "#f1b6da"
                        ],
                        [
                          0.4,
                          "#fde0ef"
                        ],
                        [
                          0.5,
                          "#f7f7f7"
                        ],
                        [
                          0.6,
                          "#e6f5d0"
                        ],
                        [
                          0.7,
                          "#b8e186"
                        ],
                        [
                          0.8,
                          "#7fbc41"
                        ],
                        [
                          0.9,
                          "#4d9221"
                        ],
                        [
                          1,
                          "#276419"
                        ]
                      ]
                    },
                    "xaxis": {
                      "gridcolor": "white",
                      "linecolor": "white",
                      "ticks": "",
                      "title": {
                        "standoff": 15
                      },
                      "zerolinecolor": "white",
                      "automargin": true,
                      "zerolinewidth": 2
                    },
                    "yaxis": {
                      "gridcolor": "white",
                      "linecolor": "white",
                      "ticks": "",
                      "title": {
                        "standoff": 15
                      },
                      "zerolinecolor": "white",
                      "automargin": true,
                      "zerolinewidth": 2
                    },
                    "scene": {
                      "xaxis": {
                        "backgroundcolor": "#E5ECF6",
                        "gridcolor": "white",
                        "linecolor": "white",
                        "showbackground": true,
                        "ticks": "",
                        "zerolinecolor": "white",
                        "gridwidth": 2
                      },
                      "yaxis": {
                        "backgroundcolor": "#E5ECF6",
                        "gridcolor": "white",
                        "linecolor": "white",
                        "showbackground": true,
                        "ticks": "",
                        "zerolinecolor": "white",
                        "gridwidth": 2
                      },
                      "zaxis": {
                        "backgroundcolor": "#E5ECF6",
                        "gridcolor": "white",
                        "linecolor": "white",
                        "showbackground": true,
                        "ticks": "",
                        "zerolinecolor": "white",
                        "gridwidth": 2
                      }
                    },
                    "shapedefaults": {
                      "line": {
                        "color": "#2a3f5f"
                      }
                    },
                    "annotationdefaults": {
                      "arrowcolor": "#2a3f5f",
                      "arrowhead": 0,
                      "arrowwidth": 1
                    },
                    "geo": {
                      "bgcolor": "white",
                      "landcolor": "#E5ECF6",
                      "subunitcolor": "white",
                      "showland": true,
                      "showlakes": true,
                      "lakecolor": "white"
                    },
                    "title": {
                      "x": 0.05
                    },
                    "mapbox": {
                      "style": "light"
                    }
                  }
                },
                "legend": {
                  "tracegroupgap": 0
                },
                "title": {
                  "text": "Promedio de edad de los clientes filtrando múltiples dimensiones: categoría Technology, que no sean en fin de semana y años entre 2020 y 2022"
                }
              },
              "config": {
                "plotlyServerURL": "https://plot.ly"
              }
            },
            "text/html": [
              "<div>            <script src=\"https://cdnjs.cloudflare.com/ajax/libs/mathjax/2.7.5/MathJax.js?config=TeX-AMS-MML_SVG\"></script><script type=\"text/javascript\">if (window.MathJax && window.MathJax.Hub && window.MathJax.Hub.Config) {window.MathJax.Hub.Config({SVG: {font: \"STIX-Web\"}});}</script>                <script type=\"text/javascript\">window.PlotlyConfig = {MathJaxConfig: 'local'};</script>\n",
              "        <script charset=\"utf-8\" src=\"https://cdn.plot.ly/plotly-3.0.1.min.js\"></script>                <div id=\"b5cf4796-9e33-46c9-bed9-290d798f3951\" class=\"plotly-graph-div\" style=\"height:525px; width:100%;\"></div>            <script type=\"text/javascript\">                window.PLOTLYENV=window.PLOTLYENV || {};                                if (document.getElementById(\"b5cf4796-9e33-46c9-bed9-290d798f3951\")) {                    Plotly.newPlot(                        \"b5cf4796-9e33-46c9-bed9-290d798f3951\",                        [{\"branchvalues\":\"total\",\"domain\":{\"x\":[0.0,1.0],\"y\":[0.0,1.0]},\"hovertemplate\":\"labels=%{label}\\u003cbr\\u003ePromedio de Edad=%{value}\\u003cbr\\u003eparent=%{parent}\\u003cbr\\u003eid=%{id}\\u003cextra\\u003e\\u003c\\u002fextra\\u003e\",\"ids\":[\"2020\",\"2022\",\"2021\"],\"labels\":[\"2020\",\"2022\",\"2021\"],\"name\":\"\",\"parents\":[\"\",\"\",\"\"],\"values\":{\"dtype\":\"f8\",\"bdata\":\"AAAAAACASUAAAAAAAIBJQAAAAAAAAExA\"},\"type\":\"treemap\",\"textinfo\":\"label+value+percent entry\"}],                        {\"template\":{\"data\":{\"histogram2dcontour\":[{\"type\":\"histogram2dcontour\",\"colorbar\":{\"outlinewidth\":0,\"ticks\":\"\"},\"colorscale\":[[0.0,\"#0d0887\"],[0.1111111111111111,\"#46039f\"],[0.2222222222222222,\"#7201a8\"],[0.3333333333333333,\"#9c179e\"],[0.4444444444444444,\"#bd3786\"],[0.5555555555555556,\"#d8576b\"],[0.6666666666666666,\"#ed7953\"],[0.7777777777777778,\"#fb9f3a\"],[0.8888888888888888,\"#fdca26\"],[1.0,\"#f0f921\"]]}],\"choropleth\":[{\"type\":\"choropleth\",\"colorbar\":{\"outlinewidth\":0,\"ticks\":\"\"}}],\"histogram2d\":[{\"type\":\"histogram2d\",\"colorbar\":{\"outlinewidth\":0,\"ticks\":\"\"},\"colorscale\":[[0.0,\"#0d0887\"],[0.1111111111111111,\"#46039f\"],[0.2222222222222222,\"#7201a8\"],[0.3333333333333333,\"#9c179e\"],[0.4444444444444444,\"#bd3786\"],[0.5555555555555556,\"#d8576b\"],[0.6666666666666666,\"#ed7953\"],[0.7777777777777778,\"#fb9f3a\"],[0.8888888888888888,\"#fdca26\"],[1.0,\"#f0f921\"]]}],\"heatmap\":[{\"type\":\"heatmap\",\"colorbar\":{\"outlinewidth\":0,\"ticks\":\"\"},\"colorscale\":[[0.0,\"#0d0887\"],[0.1111111111111111,\"#46039f\"],[0.2222222222222222,\"#7201a8\"],[0.3333333333333333,\"#9c179e\"],[0.4444444444444444,\"#bd3786\"],[0.5555555555555556,\"#d8576b\"],[0.6666666666666666,\"#ed7953\"],[0.7777777777777778,\"#fb9f3a\"],[0.8888888888888888,\"#fdca26\"],[1.0,\"#f0f921\"]]}],\"contourcarpet\":[{\"type\":\"contourcarpet\",\"colorbar\":{\"outlinewidth\":0,\"ticks\":\"\"}}],\"contour\":[{\"type\":\"contour\",\"colorbar\":{\"outlinewidth\":0,\"ticks\":\"\"},\"colorscale\":[[0.0,\"#0d0887\"],[0.1111111111111111,\"#46039f\"],[0.2222222222222222,\"#7201a8\"],[0.3333333333333333,\"#9c179e\"],[0.4444444444444444,\"#bd3786\"],[0.5555555555555556,\"#d8576b\"],[0.6666666666666666,\"#ed7953\"],[0.7777777777777778,\"#fb9f3a\"],[0.8888888888888888,\"#fdca26\"],[1.0,\"#f0f921\"]]}],\"surface\":[{\"type\":\"surface\",\"colorbar\":{\"outlinewidth\":0,\"ticks\":\"\"},\"colorscale\":[[0.0,\"#0d0887\"],[0.1111111111111111,\"#46039f\"],[0.2222222222222222,\"#7201a8\"],[0.3333333333333333,\"#9c179e\"],[0.4444444444444444,\"#bd3786\"],[0.5555555555555556,\"#d8576b\"],[0.6666666666666666,\"#ed7953\"],[0.7777777777777778,\"#fb9f3a\"],[0.8888888888888888,\"#fdca26\"],[1.0,\"#f0f921\"]]}],\"mesh3d\":[{\"type\":\"mesh3d\",\"colorbar\":{\"outlinewidth\":0,\"ticks\":\"\"}}],\"scatter\":[{\"fillpattern\":{\"fillmode\":\"overlay\",\"size\":10,\"solidity\":0.2},\"type\":\"scatter\"}],\"parcoords\":[{\"type\":\"parcoords\",\"line\":{\"colorbar\":{\"outlinewidth\":0,\"ticks\":\"\"}}}],\"scatterpolargl\":[{\"type\":\"scatterpolargl\",\"marker\":{\"colorbar\":{\"outlinewidth\":0,\"ticks\":\"\"}}}],\"bar\":[{\"error_x\":{\"color\":\"#2a3f5f\"},\"error_y\":{\"color\":\"#2a3f5f\"},\"marker\":{\"line\":{\"color\":\"#E5ECF6\",\"width\":0.5},\"pattern\":{\"fillmode\":\"overlay\",\"size\":10,\"solidity\":0.2}},\"type\":\"bar\"}],\"scattergeo\":[{\"type\":\"scattergeo\",\"marker\":{\"colorbar\":{\"outlinewidth\":0,\"ticks\":\"\"}}}],\"scatterpolar\":[{\"type\":\"scatterpolar\",\"marker\":{\"colorbar\":{\"outlinewidth\":0,\"ticks\":\"\"}}}],\"histogram\":[{\"marker\":{\"pattern\":{\"fillmode\":\"overlay\",\"size\":10,\"solidity\":0.2}},\"type\":\"histogram\"}],\"scattergl\":[{\"type\":\"scattergl\",\"marker\":{\"colorbar\":{\"outlinewidth\":0,\"ticks\":\"\"}}}],\"scatter3d\":[{\"type\":\"scatter3d\",\"line\":{\"colorbar\":{\"outlinewidth\":0,\"ticks\":\"\"}},\"marker\":{\"colorbar\":{\"outlinewidth\":0,\"ticks\":\"\"}}}],\"scattermap\":[{\"type\":\"scattermap\",\"marker\":{\"colorbar\":{\"outlinewidth\":0,\"ticks\":\"\"}}}],\"scattermapbox\":[{\"type\":\"scattermapbox\",\"marker\":{\"colorbar\":{\"outlinewidth\":0,\"ticks\":\"\"}}}],\"scatterternary\":[{\"type\":\"scatterternary\",\"marker\":{\"colorbar\":{\"outlinewidth\":0,\"ticks\":\"\"}}}],\"scattercarpet\":[{\"type\":\"scattercarpet\",\"marker\":{\"colorbar\":{\"outlinewidth\":0,\"ticks\":\"\"}}}],\"carpet\":[{\"aaxis\":{\"endlinecolor\":\"#2a3f5f\",\"gridcolor\":\"white\",\"linecolor\":\"white\",\"minorgridcolor\":\"white\",\"startlinecolor\":\"#2a3f5f\"},\"baxis\":{\"endlinecolor\":\"#2a3f5f\",\"gridcolor\":\"white\",\"linecolor\":\"white\",\"minorgridcolor\":\"white\",\"startlinecolor\":\"#2a3f5f\"},\"type\":\"carpet\"}],\"table\":[{\"cells\":{\"fill\":{\"color\":\"#EBF0F8\"},\"line\":{\"color\":\"white\"}},\"header\":{\"fill\":{\"color\":\"#C8D4E3\"},\"line\":{\"color\":\"white\"}},\"type\":\"table\"}],\"barpolar\":[{\"marker\":{\"line\":{\"color\":\"#E5ECF6\",\"width\":0.5},\"pattern\":{\"fillmode\":\"overlay\",\"size\":10,\"solidity\":0.2}},\"type\":\"barpolar\"}],\"pie\":[{\"automargin\":true,\"type\":\"pie\"}]},\"layout\":{\"autotypenumbers\":\"strict\",\"colorway\":[\"#636efa\",\"#EF553B\",\"#00cc96\",\"#ab63fa\",\"#FFA15A\",\"#19d3f3\",\"#FF6692\",\"#B6E880\",\"#FF97FF\",\"#FECB52\"],\"font\":{\"color\":\"#2a3f5f\"},\"hovermode\":\"closest\",\"hoverlabel\":{\"align\":\"left\"},\"paper_bgcolor\":\"white\",\"plot_bgcolor\":\"#E5ECF6\",\"polar\":{\"bgcolor\":\"#E5ECF6\",\"angularaxis\":{\"gridcolor\":\"white\",\"linecolor\":\"white\",\"ticks\":\"\"},\"radialaxis\":{\"gridcolor\":\"white\",\"linecolor\":\"white\",\"ticks\":\"\"}},\"ternary\":{\"bgcolor\":\"#E5ECF6\",\"aaxis\":{\"gridcolor\":\"white\",\"linecolor\":\"white\",\"ticks\":\"\"},\"baxis\":{\"gridcolor\":\"white\",\"linecolor\":\"white\",\"ticks\":\"\"},\"caxis\":{\"gridcolor\":\"white\",\"linecolor\":\"white\",\"ticks\":\"\"}},\"coloraxis\":{\"colorbar\":{\"outlinewidth\":0,\"ticks\":\"\"}},\"colorscale\":{\"sequential\":[[0.0,\"#0d0887\"],[0.1111111111111111,\"#46039f\"],[0.2222222222222222,\"#7201a8\"],[0.3333333333333333,\"#9c179e\"],[0.4444444444444444,\"#bd3786\"],[0.5555555555555556,\"#d8576b\"],[0.6666666666666666,\"#ed7953\"],[0.7777777777777778,\"#fb9f3a\"],[0.8888888888888888,\"#fdca26\"],[1.0,\"#f0f921\"]],\"sequentialminus\":[[0.0,\"#0d0887\"],[0.1111111111111111,\"#46039f\"],[0.2222222222222222,\"#7201a8\"],[0.3333333333333333,\"#9c179e\"],[0.4444444444444444,\"#bd3786\"],[0.5555555555555556,\"#d8576b\"],[0.6666666666666666,\"#ed7953\"],[0.7777777777777778,\"#fb9f3a\"],[0.8888888888888888,\"#fdca26\"],[1.0,\"#f0f921\"]],\"diverging\":[[0,\"#8e0152\"],[0.1,\"#c51b7d\"],[0.2,\"#de77ae\"],[0.3,\"#f1b6da\"],[0.4,\"#fde0ef\"],[0.5,\"#f7f7f7\"],[0.6,\"#e6f5d0\"],[0.7,\"#b8e186\"],[0.8,\"#7fbc41\"],[0.9,\"#4d9221\"],[1,\"#276419\"]]},\"xaxis\":{\"gridcolor\":\"white\",\"linecolor\":\"white\",\"ticks\":\"\",\"title\":{\"standoff\":15},\"zerolinecolor\":\"white\",\"automargin\":true,\"zerolinewidth\":2},\"yaxis\":{\"gridcolor\":\"white\",\"linecolor\":\"white\",\"ticks\":\"\",\"title\":{\"standoff\":15},\"zerolinecolor\":\"white\",\"automargin\":true,\"zerolinewidth\":2},\"scene\":{\"xaxis\":{\"backgroundcolor\":\"#E5ECF6\",\"gridcolor\":\"white\",\"linecolor\":\"white\",\"showbackground\":true,\"ticks\":\"\",\"zerolinecolor\":\"white\",\"gridwidth\":2},\"yaxis\":{\"backgroundcolor\":\"#E5ECF6\",\"gridcolor\":\"white\",\"linecolor\":\"white\",\"showbackground\":true,\"ticks\":\"\",\"zerolinecolor\":\"white\",\"gridwidth\":2},\"zaxis\":{\"backgroundcolor\":\"#E5ECF6\",\"gridcolor\":\"white\",\"linecolor\":\"white\",\"showbackground\":true,\"ticks\":\"\",\"zerolinecolor\":\"white\",\"gridwidth\":2}},\"shapedefaults\":{\"line\":{\"color\":\"#2a3f5f\"}},\"annotationdefaults\":{\"arrowcolor\":\"#2a3f5f\",\"arrowhead\":0,\"arrowwidth\":1},\"geo\":{\"bgcolor\":\"white\",\"landcolor\":\"#E5ECF6\",\"subunitcolor\":\"white\",\"showland\":true,\"showlakes\":true,\"lakecolor\":\"white\"},\"title\":{\"x\":0.05},\"mapbox\":{\"style\":\"light\"}}},\"legend\":{\"tracegroupgap\":0},\"title\":{\"text\":\"Promedio de edad de los clientes filtrando múltiples dimensiones: categoría Technology, que no sean en fin de semana y años entre 2020 y 2022\"}},                        {\"responsive\": true}                    ).then(function(){\n",
              "                            \n",
              "var gd = document.getElementById('b5cf4796-9e33-46c9-bed9-290d798f3951');\n",
              "var x = new MutationObserver(function (mutations, observer) {{\n",
              "        var display = window.getComputedStyle(gd).display;\n",
              "        if (!display || display === 'none') {{\n",
              "            console.log([gd, 'removed!']);\n",
              "            Plotly.purge(gd);\n",
              "            observer.disconnect();\n",
              "        }}\n",
              "}});\n",
              "\n",
              "// Listen for the removal of the full notebook cells\n",
              "var notebookContainer = gd.closest('#notebook-container');\n",
              "if (notebookContainer) {{\n",
              "    x.observe(notebookContainer, {childList: true});\n",
              "}}\n",
              "\n",
              "// Listen for the clearing of the current output cell\n",
              "var outputEl = gd.closest('.output');\n",
              "if (outputEl) {{\n",
              "    x.observe(outputEl, {childList: true});\n",
              "}}\n",
              "\n",
              "                        })                };            </script>        </div>"
            ]
          },
          "metadata": {}
        }
      ]
    },
    {
      "cell_type": "markdown",
      "source": [
        "###**Consulta 3 – ROLL-UP:**\n",
        "- Total de unidades vendidas por continente.\n",
        "- Utiliza un gráfico tipo pastel o barras."
      ],
      "metadata": {
        "id": "dt2q4KsJ9BS6"
      }
    },
    {
      "cell_type": "code",
      "source": [
        "#Ricardo Madrigal Urencio\n",
        "pipeline = [\n",
        "    {\n",
        "        \"$group\": {\n",
        "            \"_id\": \"$continent\",\n",
        "            \"total_unidades\": {\n",
        "                \"$sum\": \"$units_sold\"\n",
        "            }\n",
        "        }\n",
        "        },\n",
        "    {\n",
        "        \"$project\": {\n",
        "            \"_id\": 0,\n",
        "            \"continente\": \"$_id\",\n",
        "            \"total_unidades\": 1\n",
        "        }\n",
        "    }\n",
        "]\n",
        "\n",
        "result = list(coll.aggregate(pipeline))\n",
        "\n",
        "df = pd.json_normalize(result)\n",
        "\n",
        "df"
      ],
      "metadata": {
        "colab": {
          "base_uri": "https://localhost:8080/",
          "height": 238
        },
        "id": "-OA7OMLr6imS",
        "outputId": "b7eaa332-18fd-4fba-b4ac-ff8dae57b612"
      },
      "execution_count": null,
      "outputs": [
        {
          "output_type": "execute_result",
          "data": {
            "text/plain": [
              "   total_unidades     continente\n",
              "0           15850        Oceania\n",
              "1           15085           Asia\n",
              "2           17431         Europe\n",
              "3           17568  South America\n",
              "4           15258  North America\n",
              "5           14938         Africa"
            ],
            "text/html": [
              "\n",
              "  <div id=\"df-381ea112-3b9c-4ded-9b3a-bf6e6357302a\" class=\"colab-df-container\">\n",
              "    <div>\n",
              "<style scoped>\n",
              "    .dataframe tbody tr th:only-of-type {\n",
              "        vertical-align: middle;\n",
              "    }\n",
              "\n",
              "    .dataframe tbody tr th {\n",
              "        vertical-align: top;\n",
              "    }\n",
              "\n",
              "    .dataframe thead th {\n",
              "        text-align: right;\n",
              "    }\n",
              "</style>\n",
              "<table border=\"1\" class=\"dataframe\">\n",
              "  <thead>\n",
              "    <tr style=\"text-align: right;\">\n",
              "      <th></th>\n",
              "      <th>total_unidades</th>\n",
              "      <th>continente</th>\n",
              "    </tr>\n",
              "  </thead>\n",
              "  <tbody>\n",
              "    <tr>\n",
              "      <th>0</th>\n",
              "      <td>15850</td>\n",
              "      <td>Oceania</td>\n",
              "    </tr>\n",
              "    <tr>\n",
              "      <th>1</th>\n",
              "      <td>15085</td>\n",
              "      <td>Asia</td>\n",
              "    </tr>\n",
              "    <tr>\n",
              "      <th>2</th>\n",
              "      <td>17431</td>\n",
              "      <td>Europe</td>\n",
              "    </tr>\n",
              "    <tr>\n",
              "      <th>3</th>\n",
              "      <td>17568</td>\n",
              "      <td>South America</td>\n",
              "    </tr>\n",
              "    <tr>\n",
              "      <th>4</th>\n",
              "      <td>15258</td>\n",
              "      <td>North America</td>\n",
              "    </tr>\n",
              "    <tr>\n",
              "      <th>5</th>\n",
              "      <td>14938</td>\n",
              "      <td>Africa</td>\n",
              "    </tr>\n",
              "  </tbody>\n",
              "</table>\n",
              "</div>\n",
              "    <div class=\"colab-df-buttons\">\n",
              "\n",
              "  <div class=\"colab-df-container\">\n",
              "    <button class=\"colab-df-convert\" onclick=\"convertToInteractive('df-381ea112-3b9c-4ded-9b3a-bf6e6357302a')\"\n",
              "            title=\"Convert this dataframe to an interactive table.\"\n",
              "            style=\"display:none;\">\n",
              "\n",
              "  <svg xmlns=\"http://www.w3.org/2000/svg\" height=\"24px\" viewBox=\"0 -960 960 960\">\n",
              "    <path d=\"M120-120v-720h720v720H120Zm60-500h600v-160H180v160Zm220 220h160v-160H400v160Zm0 220h160v-160H400v160ZM180-400h160v-160H180v160Zm440 0h160v-160H620v160ZM180-180h160v-160H180v160Zm440 0h160v-160H620v160Z\"/>\n",
              "  </svg>\n",
              "    </button>\n",
              "\n",
              "  <style>\n",
              "    .colab-df-container {\n",
              "      display:flex;\n",
              "      gap: 12px;\n",
              "    }\n",
              "\n",
              "    .colab-df-convert {\n",
              "      background-color: #E8F0FE;\n",
              "      border: none;\n",
              "      border-radius: 50%;\n",
              "      cursor: pointer;\n",
              "      display: none;\n",
              "      fill: #1967D2;\n",
              "      height: 32px;\n",
              "      padding: 0 0 0 0;\n",
              "      width: 32px;\n",
              "    }\n",
              "\n",
              "    .colab-df-convert:hover {\n",
              "      background-color: #E2EBFA;\n",
              "      box-shadow: 0px 1px 2px rgba(60, 64, 67, 0.3), 0px 1px 3px 1px rgba(60, 64, 67, 0.15);\n",
              "      fill: #174EA6;\n",
              "    }\n",
              "\n",
              "    .colab-df-buttons div {\n",
              "      margin-bottom: 4px;\n",
              "    }\n",
              "\n",
              "    [theme=dark] .colab-df-convert {\n",
              "      background-color: #3B4455;\n",
              "      fill: #D2E3FC;\n",
              "    }\n",
              "\n",
              "    [theme=dark] .colab-df-convert:hover {\n",
              "      background-color: #434B5C;\n",
              "      box-shadow: 0px 1px 3px 1px rgba(0, 0, 0, 0.15);\n",
              "      filter: drop-shadow(0px 1px 2px rgba(0, 0, 0, 0.3));\n",
              "      fill: #FFFFFF;\n",
              "    }\n",
              "  </style>\n",
              "\n",
              "    <script>\n",
              "      const buttonEl =\n",
              "        document.querySelector('#df-381ea112-3b9c-4ded-9b3a-bf6e6357302a button.colab-df-convert');\n",
              "      buttonEl.style.display =\n",
              "        google.colab.kernel.accessAllowed ? 'block' : 'none';\n",
              "\n",
              "      async function convertToInteractive(key) {\n",
              "        const element = document.querySelector('#df-381ea112-3b9c-4ded-9b3a-bf6e6357302a');\n",
              "        const dataTable =\n",
              "          await google.colab.kernel.invokeFunction('convertToInteractive',\n",
              "                                                    [key], {});\n",
              "        if (!dataTable) return;\n",
              "\n",
              "        const docLinkHtml = 'Like what you see? Visit the ' +\n",
              "          '<a target=\"_blank\" href=https://colab.research.google.com/notebooks/data_table.ipynb>data table notebook</a>'\n",
              "          + ' to learn more about interactive tables.';\n",
              "        element.innerHTML = '';\n",
              "        dataTable['output_type'] = 'display_data';\n",
              "        await google.colab.output.renderOutput(dataTable, element);\n",
              "        const docLink = document.createElement('div');\n",
              "        docLink.innerHTML = docLinkHtml;\n",
              "        element.appendChild(docLink);\n",
              "      }\n",
              "    </script>\n",
              "  </div>\n",
              "\n",
              "\n",
              "    <div id=\"df-4e41f8bb-8867-42d3-9ea7-c8f3623676c1\">\n",
              "      <button class=\"colab-df-quickchart\" onclick=\"quickchart('df-4e41f8bb-8867-42d3-9ea7-c8f3623676c1')\"\n",
              "                title=\"Suggest charts\"\n",
              "                style=\"display:none;\">\n",
              "\n",
              "<svg xmlns=\"http://www.w3.org/2000/svg\" height=\"24px\"viewBox=\"0 0 24 24\"\n",
              "     width=\"24px\">\n",
              "    <g>\n",
              "        <path d=\"M19 3H5c-1.1 0-2 .9-2 2v14c0 1.1.9 2 2 2h14c1.1 0 2-.9 2-2V5c0-1.1-.9-2-2-2zM9 17H7v-7h2v7zm4 0h-2V7h2v10zm4 0h-2v-4h2v4z\"/>\n",
              "    </g>\n",
              "</svg>\n",
              "      </button>\n",
              "\n",
              "<style>\n",
              "  .colab-df-quickchart {\n",
              "      --bg-color: #E8F0FE;\n",
              "      --fill-color: #1967D2;\n",
              "      --hover-bg-color: #E2EBFA;\n",
              "      --hover-fill-color: #174EA6;\n",
              "      --disabled-fill-color: #AAA;\n",
              "      --disabled-bg-color: #DDD;\n",
              "  }\n",
              "\n",
              "  [theme=dark] .colab-df-quickchart {\n",
              "      --bg-color: #3B4455;\n",
              "      --fill-color: #D2E3FC;\n",
              "      --hover-bg-color: #434B5C;\n",
              "      --hover-fill-color: #FFFFFF;\n",
              "      --disabled-bg-color: #3B4455;\n",
              "      --disabled-fill-color: #666;\n",
              "  }\n",
              "\n",
              "  .colab-df-quickchart {\n",
              "    background-color: var(--bg-color);\n",
              "    border: none;\n",
              "    border-radius: 50%;\n",
              "    cursor: pointer;\n",
              "    display: none;\n",
              "    fill: var(--fill-color);\n",
              "    height: 32px;\n",
              "    padding: 0;\n",
              "    width: 32px;\n",
              "  }\n",
              "\n",
              "  .colab-df-quickchart:hover {\n",
              "    background-color: var(--hover-bg-color);\n",
              "    box-shadow: 0 1px 2px rgba(60, 64, 67, 0.3), 0 1px 3px 1px rgba(60, 64, 67, 0.15);\n",
              "    fill: var(--button-hover-fill-color);\n",
              "  }\n",
              "\n",
              "  .colab-df-quickchart-complete:disabled,\n",
              "  .colab-df-quickchart-complete:disabled:hover {\n",
              "    background-color: var(--disabled-bg-color);\n",
              "    fill: var(--disabled-fill-color);\n",
              "    box-shadow: none;\n",
              "  }\n",
              "\n",
              "  .colab-df-spinner {\n",
              "    border: 2px solid var(--fill-color);\n",
              "    border-color: transparent;\n",
              "    border-bottom-color: var(--fill-color);\n",
              "    animation:\n",
              "      spin 1s steps(1) infinite;\n",
              "  }\n",
              "\n",
              "  @keyframes spin {\n",
              "    0% {\n",
              "      border-color: transparent;\n",
              "      border-bottom-color: var(--fill-color);\n",
              "      border-left-color: var(--fill-color);\n",
              "    }\n",
              "    20% {\n",
              "      border-color: transparent;\n",
              "      border-left-color: var(--fill-color);\n",
              "      border-top-color: var(--fill-color);\n",
              "    }\n",
              "    30% {\n",
              "      border-color: transparent;\n",
              "      border-left-color: var(--fill-color);\n",
              "      border-top-color: var(--fill-color);\n",
              "      border-right-color: var(--fill-color);\n",
              "    }\n",
              "    40% {\n",
              "      border-color: transparent;\n",
              "      border-right-color: var(--fill-color);\n",
              "      border-top-color: var(--fill-color);\n",
              "    }\n",
              "    60% {\n",
              "      border-color: transparent;\n",
              "      border-right-color: var(--fill-color);\n",
              "    }\n",
              "    80% {\n",
              "      border-color: transparent;\n",
              "      border-right-color: var(--fill-color);\n",
              "      border-bottom-color: var(--fill-color);\n",
              "    }\n",
              "    90% {\n",
              "      border-color: transparent;\n",
              "      border-bottom-color: var(--fill-color);\n",
              "    }\n",
              "  }\n",
              "</style>\n",
              "\n",
              "      <script>\n",
              "        async function quickchart(key) {\n",
              "          const quickchartButtonEl =\n",
              "            document.querySelector('#' + key + ' button');\n",
              "          quickchartButtonEl.disabled = true;  // To prevent multiple clicks.\n",
              "          quickchartButtonEl.classList.add('colab-df-spinner');\n",
              "          try {\n",
              "            const charts = await google.colab.kernel.invokeFunction(\n",
              "                'suggestCharts', [key], {});\n",
              "          } catch (error) {\n",
              "            console.error('Error during call to suggestCharts:', error);\n",
              "          }\n",
              "          quickchartButtonEl.classList.remove('colab-df-spinner');\n",
              "          quickchartButtonEl.classList.add('colab-df-quickchart-complete');\n",
              "        }\n",
              "        (() => {\n",
              "          let quickchartButtonEl =\n",
              "            document.querySelector('#df-4e41f8bb-8867-42d3-9ea7-c8f3623676c1 button');\n",
              "          quickchartButtonEl.style.display =\n",
              "            google.colab.kernel.accessAllowed ? 'block' : 'none';\n",
              "        })();\n",
              "      </script>\n",
              "    </div>\n",
              "\n",
              "  <div id=\"id_d02e4b27-55e5-4104-8723-aceee2fd5285\">\n",
              "    <style>\n",
              "      .colab-df-generate {\n",
              "        background-color: #E8F0FE;\n",
              "        border: none;\n",
              "        border-radius: 50%;\n",
              "        cursor: pointer;\n",
              "        display: none;\n",
              "        fill: #1967D2;\n",
              "        height: 32px;\n",
              "        padding: 0 0 0 0;\n",
              "        width: 32px;\n",
              "      }\n",
              "\n",
              "      .colab-df-generate:hover {\n",
              "        background-color: #E2EBFA;\n",
              "        box-shadow: 0px 1px 2px rgba(60, 64, 67, 0.3), 0px 1px 3px 1px rgba(60, 64, 67, 0.15);\n",
              "        fill: #174EA6;\n",
              "      }\n",
              "\n",
              "      [theme=dark] .colab-df-generate {\n",
              "        background-color: #3B4455;\n",
              "        fill: #D2E3FC;\n",
              "      }\n",
              "\n",
              "      [theme=dark] .colab-df-generate:hover {\n",
              "        background-color: #434B5C;\n",
              "        box-shadow: 0px 1px 3px 1px rgba(0, 0, 0, 0.15);\n",
              "        filter: drop-shadow(0px 1px 2px rgba(0, 0, 0, 0.3));\n",
              "        fill: #FFFFFF;\n",
              "      }\n",
              "    </style>\n",
              "    <button class=\"colab-df-generate\" onclick=\"generateWithVariable('df')\"\n",
              "            title=\"Generate code using this dataframe.\"\n",
              "            style=\"display:none;\">\n",
              "\n",
              "  <svg xmlns=\"http://www.w3.org/2000/svg\" height=\"24px\"viewBox=\"0 0 24 24\"\n",
              "       width=\"24px\">\n",
              "    <path d=\"M7,19H8.4L18.45,9,17,7.55,7,17.6ZM5,21V16.75L18.45,3.32a2,2,0,0,1,2.83,0l1.4,1.43a1.91,1.91,0,0,1,.58,1.4,1.91,1.91,0,0,1-.58,1.4L9.25,21ZM18.45,9,17,7.55Zm-12,3A5.31,5.31,0,0,0,4.9,8.1,5.31,5.31,0,0,0,1,6.5,5.31,5.31,0,0,0,4.9,4.9,5.31,5.31,0,0,0,6.5,1,5.31,5.31,0,0,0,8.1,4.9,5.31,5.31,0,0,0,12,6.5,5.46,5.46,0,0,0,6.5,12Z\"/>\n",
              "  </svg>\n",
              "    </button>\n",
              "    <script>\n",
              "      (() => {\n",
              "      const buttonEl =\n",
              "        document.querySelector('#id_d02e4b27-55e5-4104-8723-aceee2fd5285 button.colab-df-generate');\n",
              "      buttonEl.style.display =\n",
              "        google.colab.kernel.accessAllowed ? 'block' : 'none';\n",
              "\n",
              "      buttonEl.onclick = () => {\n",
              "        google.colab.notebook.generateWithVariable('df');\n",
              "      }\n",
              "      })();\n",
              "    </script>\n",
              "  </div>\n",
              "\n",
              "    </div>\n",
              "  </div>\n"
            ],
            "application/vnd.google.colaboratory.intrinsic+json": {
              "type": "dataframe",
              "variable_name": "df",
              "summary": "{\n  \"name\": \"df\",\n  \"rows\": 6,\n  \"fields\": [\n    {\n      \"column\": \"total_unidades\",\n      \"properties\": {\n        \"dtype\": \"number\",\n        \"std\": 1186,\n        \"min\": 14938,\n        \"max\": 17568,\n        \"num_unique_values\": 6,\n        \"samples\": [\n          15850,\n          15085,\n          14938\n        ],\n        \"semantic_type\": \"\",\n        \"description\": \"\"\n      }\n    },\n    {\n      \"column\": \"continente\",\n      \"properties\": {\n        \"dtype\": \"string\",\n        \"num_unique_values\": 6,\n        \"samples\": [\n          \"Oceania\",\n          \"Asia\",\n          \"Africa\"\n        ],\n        \"semantic_type\": \"\",\n        \"description\": \"\"\n      }\n    }\n  ]\n}"
            }
          },
          "metadata": {},
          "execution_count": 71
        }
      ]
    },
    {
      "cell_type": "code",
      "source": [
        "#Grafica de Pastel\n",
        "fig = px.pie(df, values='total_unidades', names='continente', title='Total de unidades vendidas por continente',\n",
        "             labels={'total_unidades': 'Total de Unidades Vendidas', 'continente': 'Continente'}\n",
        "             )\n",
        "fig.show()"
      ],
      "metadata": {
        "colab": {
          "base_uri": "https://localhost:8080/",
          "height": 542
        },
        "id": "go1kiQY3Ebk9",
        "outputId": "14ce7291-6033-4f23-c850-fe67a70fd5a0"
      },
      "execution_count": null,
      "outputs": [
        {
          "output_type": "display_data",
          "data": {
            "application/vnd.plotly.v1+json": {
              "data": [
                {
                  "domain": {
                    "x": [
                      0,
                      1
                    ],
                    "y": [
                      0,
                      1
                    ]
                  },
                  "hovertemplate": "Continente=%{label}<br>Total de Unidades Vendidas=%{value}<extra></extra>",
                  "labels": [
                    "Oceania",
                    "Asia",
                    "Europe",
                    "South America",
                    "North America",
                    "Africa"
                  ],
                  "legendgroup": "",
                  "name": "",
                  "showlegend": true,
                  "values": {
                    "dtype": "i2",
                    "bdata": "6j3tOhdEoESaO1o6"
                  },
                  "type": "pie"
                }
              ],
              "layout": {
                "template": {
                  "data": {
                    "histogram2dcontour": [
                      {
                        "type": "histogram2dcontour",
                        "colorbar": {
                          "outlinewidth": 0,
                          "ticks": ""
                        },
                        "colorscale": [
                          [
                            0,
                            "#0d0887"
                          ],
                          [
                            0.1111111111111111,
                            "#46039f"
                          ],
                          [
                            0.2222222222222222,
                            "#7201a8"
                          ],
                          [
                            0.3333333333333333,
                            "#9c179e"
                          ],
                          [
                            0.4444444444444444,
                            "#bd3786"
                          ],
                          [
                            0.5555555555555556,
                            "#d8576b"
                          ],
                          [
                            0.6666666666666666,
                            "#ed7953"
                          ],
                          [
                            0.7777777777777778,
                            "#fb9f3a"
                          ],
                          [
                            0.8888888888888888,
                            "#fdca26"
                          ],
                          [
                            1,
                            "#f0f921"
                          ]
                        ]
                      }
                    ],
                    "choropleth": [
                      {
                        "type": "choropleth",
                        "colorbar": {
                          "outlinewidth": 0,
                          "ticks": ""
                        }
                      }
                    ],
                    "histogram2d": [
                      {
                        "type": "histogram2d",
                        "colorbar": {
                          "outlinewidth": 0,
                          "ticks": ""
                        },
                        "colorscale": [
                          [
                            0,
                            "#0d0887"
                          ],
                          [
                            0.1111111111111111,
                            "#46039f"
                          ],
                          [
                            0.2222222222222222,
                            "#7201a8"
                          ],
                          [
                            0.3333333333333333,
                            "#9c179e"
                          ],
                          [
                            0.4444444444444444,
                            "#bd3786"
                          ],
                          [
                            0.5555555555555556,
                            "#d8576b"
                          ],
                          [
                            0.6666666666666666,
                            "#ed7953"
                          ],
                          [
                            0.7777777777777778,
                            "#fb9f3a"
                          ],
                          [
                            0.8888888888888888,
                            "#fdca26"
                          ],
                          [
                            1,
                            "#f0f921"
                          ]
                        ]
                      }
                    ],
                    "heatmap": [
                      {
                        "type": "heatmap",
                        "colorbar": {
                          "outlinewidth": 0,
                          "ticks": ""
                        },
                        "colorscale": [
                          [
                            0,
                            "#0d0887"
                          ],
                          [
                            0.1111111111111111,
                            "#46039f"
                          ],
                          [
                            0.2222222222222222,
                            "#7201a8"
                          ],
                          [
                            0.3333333333333333,
                            "#9c179e"
                          ],
                          [
                            0.4444444444444444,
                            "#bd3786"
                          ],
                          [
                            0.5555555555555556,
                            "#d8576b"
                          ],
                          [
                            0.6666666666666666,
                            "#ed7953"
                          ],
                          [
                            0.7777777777777778,
                            "#fb9f3a"
                          ],
                          [
                            0.8888888888888888,
                            "#fdca26"
                          ],
                          [
                            1,
                            "#f0f921"
                          ]
                        ]
                      }
                    ],
                    "contourcarpet": [
                      {
                        "type": "contourcarpet",
                        "colorbar": {
                          "outlinewidth": 0,
                          "ticks": ""
                        }
                      }
                    ],
                    "contour": [
                      {
                        "type": "contour",
                        "colorbar": {
                          "outlinewidth": 0,
                          "ticks": ""
                        },
                        "colorscale": [
                          [
                            0,
                            "#0d0887"
                          ],
                          [
                            0.1111111111111111,
                            "#46039f"
                          ],
                          [
                            0.2222222222222222,
                            "#7201a8"
                          ],
                          [
                            0.3333333333333333,
                            "#9c179e"
                          ],
                          [
                            0.4444444444444444,
                            "#bd3786"
                          ],
                          [
                            0.5555555555555556,
                            "#d8576b"
                          ],
                          [
                            0.6666666666666666,
                            "#ed7953"
                          ],
                          [
                            0.7777777777777778,
                            "#fb9f3a"
                          ],
                          [
                            0.8888888888888888,
                            "#fdca26"
                          ],
                          [
                            1,
                            "#f0f921"
                          ]
                        ]
                      }
                    ],
                    "surface": [
                      {
                        "type": "surface",
                        "colorbar": {
                          "outlinewidth": 0,
                          "ticks": ""
                        },
                        "colorscale": [
                          [
                            0,
                            "#0d0887"
                          ],
                          [
                            0.1111111111111111,
                            "#46039f"
                          ],
                          [
                            0.2222222222222222,
                            "#7201a8"
                          ],
                          [
                            0.3333333333333333,
                            "#9c179e"
                          ],
                          [
                            0.4444444444444444,
                            "#bd3786"
                          ],
                          [
                            0.5555555555555556,
                            "#d8576b"
                          ],
                          [
                            0.6666666666666666,
                            "#ed7953"
                          ],
                          [
                            0.7777777777777778,
                            "#fb9f3a"
                          ],
                          [
                            0.8888888888888888,
                            "#fdca26"
                          ],
                          [
                            1,
                            "#f0f921"
                          ]
                        ]
                      }
                    ],
                    "mesh3d": [
                      {
                        "type": "mesh3d",
                        "colorbar": {
                          "outlinewidth": 0,
                          "ticks": ""
                        }
                      }
                    ],
                    "scatter": [
                      {
                        "fillpattern": {
                          "fillmode": "overlay",
                          "size": 10,
                          "solidity": 0.2
                        },
                        "type": "scatter"
                      }
                    ],
                    "parcoords": [
                      {
                        "type": "parcoords",
                        "line": {
                          "colorbar": {
                            "outlinewidth": 0,
                            "ticks": ""
                          }
                        }
                      }
                    ],
                    "scatterpolargl": [
                      {
                        "type": "scatterpolargl",
                        "marker": {
                          "colorbar": {
                            "outlinewidth": 0,
                            "ticks": ""
                          }
                        }
                      }
                    ],
                    "bar": [
                      {
                        "error_x": {
                          "color": "#2a3f5f"
                        },
                        "error_y": {
                          "color": "#2a3f5f"
                        },
                        "marker": {
                          "line": {
                            "color": "#E5ECF6",
                            "width": 0.5
                          },
                          "pattern": {
                            "fillmode": "overlay",
                            "size": 10,
                            "solidity": 0.2
                          }
                        },
                        "type": "bar"
                      }
                    ],
                    "scattergeo": [
                      {
                        "type": "scattergeo",
                        "marker": {
                          "colorbar": {
                            "outlinewidth": 0,
                            "ticks": ""
                          }
                        }
                      }
                    ],
                    "scatterpolar": [
                      {
                        "type": "scatterpolar",
                        "marker": {
                          "colorbar": {
                            "outlinewidth": 0,
                            "ticks": ""
                          }
                        }
                      }
                    ],
                    "histogram": [
                      {
                        "marker": {
                          "pattern": {
                            "fillmode": "overlay",
                            "size": 10,
                            "solidity": 0.2
                          }
                        },
                        "type": "histogram"
                      }
                    ],
                    "scattergl": [
                      {
                        "type": "scattergl",
                        "marker": {
                          "colorbar": {
                            "outlinewidth": 0,
                            "ticks": ""
                          }
                        }
                      }
                    ],
                    "scatter3d": [
                      {
                        "type": "scatter3d",
                        "line": {
                          "colorbar": {
                            "outlinewidth": 0,
                            "ticks": ""
                          }
                        },
                        "marker": {
                          "colorbar": {
                            "outlinewidth": 0,
                            "ticks": ""
                          }
                        }
                      }
                    ],
                    "scattermap": [
                      {
                        "type": "scattermap",
                        "marker": {
                          "colorbar": {
                            "outlinewidth": 0,
                            "ticks": ""
                          }
                        }
                      }
                    ],
                    "scattermapbox": [
                      {
                        "type": "scattermapbox",
                        "marker": {
                          "colorbar": {
                            "outlinewidth": 0,
                            "ticks": ""
                          }
                        }
                      }
                    ],
                    "scatterternary": [
                      {
                        "type": "scatterternary",
                        "marker": {
                          "colorbar": {
                            "outlinewidth": 0,
                            "ticks": ""
                          }
                        }
                      }
                    ],
                    "scattercarpet": [
                      {
                        "type": "scattercarpet",
                        "marker": {
                          "colorbar": {
                            "outlinewidth": 0,
                            "ticks": ""
                          }
                        }
                      }
                    ],
                    "carpet": [
                      {
                        "aaxis": {
                          "endlinecolor": "#2a3f5f",
                          "gridcolor": "white",
                          "linecolor": "white",
                          "minorgridcolor": "white",
                          "startlinecolor": "#2a3f5f"
                        },
                        "baxis": {
                          "endlinecolor": "#2a3f5f",
                          "gridcolor": "white",
                          "linecolor": "white",
                          "minorgridcolor": "white",
                          "startlinecolor": "#2a3f5f"
                        },
                        "type": "carpet"
                      }
                    ],
                    "table": [
                      {
                        "cells": {
                          "fill": {
                            "color": "#EBF0F8"
                          },
                          "line": {
                            "color": "white"
                          }
                        },
                        "header": {
                          "fill": {
                            "color": "#C8D4E3"
                          },
                          "line": {
                            "color": "white"
                          }
                        },
                        "type": "table"
                      }
                    ],
                    "barpolar": [
                      {
                        "marker": {
                          "line": {
                            "color": "#E5ECF6",
                            "width": 0.5
                          },
                          "pattern": {
                            "fillmode": "overlay",
                            "size": 10,
                            "solidity": 0.2
                          }
                        },
                        "type": "barpolar"
                      }
                    ],
                    "pie": [
                      {
                        "automargin": true,
                        "type": "pie"
                      }
                    ]
                  },
                  "layout": {
                    "autotypenumbers": "strict",
                    "colorway": [
                      "#636efa",
                      "#EF553B",
                      "#00cc96",
                      "#ab63fa",
                      "#FFA15A",
                      "#19d3f3",
                      "#FF6692",
                      "#B6E880",
                      "#FF97FF",
                      "#FECB52"
                    ],
                    "font": {
                      "color": "#2a3f5f"
                    },
                    "hovermode": "closest",
                    "hoverlabel": {
                      "align": "left"
                    },
                    "paper_bgcolor": "white",
                    "plot_bgcolor": "#E5ECF6",
                    "polar": {
                      "bgcolor": "#E5ECF6",
                      "angularaxis": {
                        "gridcolor": "white",
                        "linecolor": "white",
                        "ticks": ""
                      },
                      "radialaxis": {
                        "gridcolor": "white",
                        "linecolor": "white",
                        "ticks": ""
                      }
                    },
                    "ternary": {
                      "bgcolor": "#E5ECF6",
                      "aaxis": {
                        "gridcolor": "white",
                        "linecolor": "white",
                        "ticks": ""
                      },
                      "baxis": {
                        "gridcolor": "white",
                        "linecolor": "white",
                        "ticks": ""
                      },
                      "caxis": {
                        "gridcolor": "white",
                        "linecolor": "white",
                        "ticks": ""
                      }
                    },
                    "coloraxis": {
                      "colorbar": {
                        "outlinewidth": 0,
                        "ticks": ""
                      }
                    },
                    "colorscale": {
                      "sequential": [
                        [
                          0,
                          "#0d0887"
                        ],
                        [
                          0.1111111111111111,
                          "#46039f"
                        ],
                        [
                          0.2222222222222222,
                          "#7201a8"
                        ],
                        [
                          0.3333333333333333,
                          "#9c179e"
                        ],
                        [
                          0.4444444444444444,
                          "#bd3786"
                        ],
                        [
                          0.5555555555555556,
                          "#d8576b"
                        ],
                        [
                          0.6666666666666666,
                          "#ed7953"
                        ],
                        [
                          0.7777777777777778,
                          "#fb9f3a"
                        ],
                        [
                          0.8888888888888888,
                          "#fdca26"
                        ],
                        [
                          1,
                          "#f0f921"
                        ]
                      ],
                      "sequentialminus": [
                        [
                          0,
                          "#0d0887"
                        ],
                        [
                          0.1111111111111111,
                          "#46039f"
                        ],
                        [
                          0.2222222222222222,
                          "#7201a8"
                        ],
                        [
                          0.3333333333333333,
                          "#9c179e"
                        ],
                        [
                          0.4444444444444444,
                          "#bd3786"
                        ],
                        [
                          0.5555555555555556,
                          "#d8576b"
                        ],
                        [
                          0.6666666666666666,
                          "#ed7953"
                        ],
                        [
                          0.7777777777777778,
                          "#fb9f3a"
                        ],
                        [
                          0.8888888888888888,
                          "#fdca26"
                        ],
                        [
                          1,
                          "#f0f921"
                        ]
                      ],
                      "diverging": [
                        [
                          0,
                          "#8e0152"
                        ],
                        [
                          0.1,
                          "#c51b7d"
                        ],
                        [
                          0.2,
                          "#de77ae"
                        ],
                        [
                          0.3,
                          "#f1b6da"
                        ],
                        [
                          0.4,
                          "#fde0ef"
                        ],
                        [
                          0.5,
                          "#f7f7f7"
                        ],
                        [
                          0.6,
                          "#e6f5d0"
                        ],
                        [
                          0.7,
                          "#b8e186"
                        ],
                        [
                          0.8,
                          "#7fbc41"
                        ],
                        [
                          0.9,
                          "#4d9221"
                        ],
                        [
                          1,
                          "#276419"
                        ]
                      ]
                    },
                    "xaxis": {
                      "gridcolor": "white",
                      "linecolor": "white",
                      "ticks": "",
                      "title": {
                        "standoff": 15
                      },
                      "zerolinecolor": "white",
                      "automargin": true,
                      "zerolinewidth": 2
                    },
                    "yaxis": {
                      "gridcolor": "white",
                      "linecolor": "white",
                      "ticks": "",
                      "title": {
                        "standoff": 15
                      },
                      "zerolinecolor": "white",
                      "automargin": true,
                      "zerolinewidth": 2
                    },
                    "scene": {
                      "xaxis": {
                        "backgroundcolor": "#E5ECF6",
                        "gridcolor": "white",
                        "linecolor": "white",
                        "showbackground": true,
                        "ticks": "",
                        "zerolinecolor": "white",
                        "gridwidth": 2
                      },
                      "yaxis": {
                        "backgroundcolor": "#E5ECF6",
                        "gridcolor": "white",
                        "linecolor": "white",
                        "showbackground": true,
                        "ticks": "",
                        "zerolinecolor": "white",
                        "gridwidth": 2
                      },
                      "zaxis": {
                        "backgroundcolor": "#E5ECF6",
                        "gridcolor": "white",
                        "linecolor": "white",
                        "showbackground": true,
                        "ticks": "",
                        "zerolinecolor": "white",
                        "gridwidth": 2
                      }
                    },
                    "shapedefaults": {
                      "line": {
                        "color": "#2a3f5f"
                      }
                    },
                    "annotationdefaults": {
                      "arrowcolor": "#2a3f5f",
                      "arrowhead": 0,
                      "arrowwidth": 1
                    },
                    "geo": {
                      "bgcolor": "white",
                      "landcolor": "#E5ECF6",
                      "subunitcolor": "white",
                      "showland": true,
                      "showlakes": true,
                      "lakecolor": "white"
                    },
                    "title": {
                      "x": 0.05
                    },
                    "mapbox": {
                      "style": "light"
                    }
                  }
                },
                "legend": {
                  "tracegroupgap": 0
                },
                "title": {
                  "text": "Total de unidades vendidas por continente"
                }
              },
              "config": {
                "plotlyServerURL": "https://plot.ly"
              }
            },
            "text/html": [
              "<div>            <script src=\"https://cdnjs.cloudflare.com/ajax/libs/mathjax/2.7.5/MathJax.js?config=TeX-AMS-MML_SVG\"></script><script type=\"text/javascript\">if (window.MathJax && window.MathJax.Hub && window.MathJax.Hub.Config) {window.MathJax.Hub.Config({SVG: {font: \"STIX-Web\"}});}</script>                <script type=\"text/javascript\">window.PlotlyConfig = {MathJaxConfig: 'local'};</script>\n",
              "        <script charset=\"utf-8\" src=\"https://cdn.plot.ly/plotly-3.0.1.min.js\"></script>                <div id=\"6c818128-b633-483e-b50a-9ab2cb0f8df1\" class=\"plotly-graph-div\" style=\"height:525px; width:100%;\"></div>            <script type=\"text/javascript\">                window.PLOTLYENV=window.PLOTLYENV || {};                                if (document.getElementById(\"6c818128-b633-483e-b50a-9ab2cb0f8df1\")) {                    Plotly.newPlot(                        \"6c818128-b633-483e-b50a-9ab2cb0f8df1\",                        [{\"domain\":{\"x\":[0.0,1.0],\"y\":[0.0,1.0]},\"hovertemplate\":\"Continente=%{label}\\u003cbr\\u003eTotal de Unidades Vendidas=%{value}\\u003cextra\\u003e\\u003c\\u002fextra\\u003e\",\"labels\":[\"Oceania\",\"Asia\",\"Europe\",\"South America\",\"North America\",\"Africa\"],\"legendgroup\":\"\",\"name\":\"\",\"showlegend\":true,\"values\":{\"dtype\":\"i2\",\"bdata\":\"6j3tOhdEoESaO1o6\"},\"type\":\"pie\"}],                        {\"template\":{\"data\":{\"histogram2dcontour\":[{\"type\":\"histogram2dcontour\",\"colorbar\":{\"outlinewidth\":0,\"ticks\":\"\"},\"colorscale\":[[0.0,\"#0d0887\"],[0.1111111111111111,\"#46039f\"],[0.2222222222222222,\"#7201a8\"],[0.3333333333333333,\"#9c179e\"],[0.4444444444444444,\"#bd3786\"],[0.5555555555555556,\"#d8576b\"],[0.6666666666666666,\"#ed7953\"],[0.7777777777777778,\"#fb9f3a\"],[0.8888888888888888,\"#fdca26\"],[1.0,\"#f0f921\"]]}],\"choropleth\":[{\"type\":\"choropleth\",\"colorbar\":{\"outlinewidth\":0,\"ticks\":\"\"}}],\"histogram2d\":[{\"type\":\"histogram2d\",\"colorbar\":{\"outlinewidth\":0,\"ticks\":\"\"},\"colorscale\":[[0.0,\"#0d0887\"],[0.1111111111111111,\"#46039f\"],[0.2222222222222222,\"#7201a8\"],[0.3333333333333333,\"#9c179e\"],[0.4444444444444444,\"#bd3786\"],[0.5555555555555556,\"#d8576b\"],[0.6666666666666666,\"#ed7953\"],[0.7777777777777778,\"#fb9f3a\"],[0.8888888888888888,\"#fdca26\"],[1.0,\"#f0f921\"]]}],\"heatmap\":[{\"type\":\"heatmap\",\"colorbar\":{\"outlinewidth\":0,\"ticks\":\"\"},\"colorscale\":[[0.0,\"#0d0887\"],[0.1111111111111111,\"#46039f\"],[0.2222222222222222,\"#7201a8\"],[0.3333333333333333,\"#9c179e\"],[0.4444444444444444,\"#bd3786\"],[0.5555555555555556,\"#d8576b\"],[0.6666666666666666,\"#ed7953\"],[0.7777777777777778,\"#fb9f3a\"],[0.8888888888888888,\"#fdca26\"],[1.0,\"#f0f921\"]]}],\"contourcarpet\":[{\"type\":\"contourcarpet\",\"colorbar\":{\"outlinewidth\":0,\"ticks\":\"\"}}],\"contour\":[{\"type\":\"contour\",\"colorbar\":{\"outlinewidth\":0,\"ticks\":\"\"},\"colorscale\":[[0.0,\"#0d0887\"],[0.1111111111111111,\"#46039f\"],[0.2222222222222222,\"#7201a8\"],[0.3333333333333333,\"#9c179e\"],[0.4444444444444444,\"#bd3786\"],[0.5555555555555556,\"#d8576b\"],[0.6666666666666666,\"#ed7953\"],[0.7777777777777778,\"#fb9f3a\"],[0.8888888888888888,\"#fdca26\"],[1.0,\"#f0f921\"]]}],\"surface\":[{\"type\":\"surface\",\"colorbar\":{\"outlinewidth\":0,\"ticks\":\"\"},\"colorscale\":[[0.0,\"#0d0887\"],[0.1111111111111111,\"#46039f\"],[0.2222222222222222,\"#7201a8\"],[0.3333333333333333,\"#9c179e\"],[0.4444444444444444,\"#bd3786\"],[0.5555555555555556,\"#d8576b\"],[0.6666666666666666,\"#ed7953\"],[0.7777777777777778,\"#fb9f3a\"],[0.8888888888888888,\"#fdca26\"],[1.0,\"#f0f921\"]]}],\"mesh3d\":[{\"type\":\"mesh3d\",\"colorbar\":{\"outlinewidth\":0,\"ticks\":\"\"}}],\"scatter\":[{\"fillpattern\":{\"fillmode\":\"overlay\",\"size\":10,\"solidity\":0.2},\"type\":\"scatter\"}],\"parcoords\":[{\"type\":\"parcoords\",\"line\":{\"colorbar\":{\"outlinewidth\":0,\"ticks\":\"\"}}}],\"scatterpolargl\":[{\"type\":\"scatterpolargl\",\"marker\":{\"colorbar\":{\"outlinewidth\":0,\"ticks\":\"\"}}}],\"bar\":[{\"error_x\":{\"color\":\"#2a3f5f\"},\"error_y\":{\"color\":\"#2a3f5f\"},\"marker\":{\"line\":{\"color\":\"#E5ECF6\",\"width\":0.5},\"pattern\":{\"fillmode\":\"overlay\",\"size\":10,\"solidity\":0.2}},\"type\":\"bar\"}],\"scattergeo\":[{\"type\":\"scattergeo\",\"marker\":{\"colorbar\":{\"outlinewidth\":0,\"ticks\":\"\"}}}],\"scatterpolar\":[{\"type\":\"scatterpolar\",\"marker\":{\"colorbar\":{\"outlinewidth\":0,\"ticks\":\"\"}}}],\"histogram\":[{\"marker\":{\"pattern\":{\"fillmode\":\"overlay\",\"size\":10,\"solidity\":0.2}},\"type\":\"histogram\"}],\"scattergl\":[{\"type\":\"scattergl\",\"marker\":{\"colorbar\":{\"outlinewidth\":0,\"ticks\":\"\"}}}],\"scatter3d\":[{\"type\":\"scatter3d\",\"line\":{\"colorbar\":{\"outlinewidth\":0,\"ticks\":\"\"}},\"marker\":{\"colorbar\":{\"outlinewidth\":0,\"ticks\":\"\"}}}],\"scattermap\":[{\"type\":\"scattermap\",\"marker\":{\"colorbar\":{\"outlinewidth\":0,\"ticks\":\"\"}}}],\"scattermapbox\":[{\"type\":\"scattermapbox\",\"marker\":{\"colorbar\":{\"outlinewidth\":0,\"ticks\":\"\"}}}],\"scatterternary\":[{\"type\":\"scatterternary\",\"marker\":{\"colorbar\":{\"outlinewidth\":0,\"ticks\":\"\"}}}],\"scattercarpet\":[{\"type\":\"scattercarpet\",\"marker\":{\"colorbar\":{\"outlinewidth\":0,\"ticks\":\"\"}}}],\"carpet\":[{\"aaxis\":{\"endlinecolor\":\"#2a3f5f\",\"gridcolor\":\"white\",\"linecolor\":\"white\",\"minorgridcolor\":\"white\",\"startlinecolor\":\"#2a3f5f\"},\"baxis\":{\"endlinecolor\":\"#2a3f5f\",\"gridcolor\":\"white\",\"linecolor\":\"white\",\"minorgridcolor\":\"white\",\"startlinecolor\":\"#2a3f5f\"},\"type\":\"carpet\"}],\"table\":[{\"cells\":{\"fill\":{\"color\":\"#EBF0F8\"},\"line\":{\"color\":\"white\"}},\"header\":{\"fill\":{\"color\":\"#C8D4E3\"},\"line\":{\"color\":\"white\"}},\"type\":\"table\"}],\"barpolar\":[{\"marker\":{\"line\":{\"color\":\"#E5ECF6\",\"width\":0.5},\"pattern\":{\"fillmode\":\"overlay\",\"size\":10,\"solidity\":0.2}},\"type\":\"barpolar\"}],\"pie\":[{\"automargin\":true,\"type\":\"pie\"}]},\"layout\":{\"autotypenumbers\":\"strict\",\"colorway\":[\"#636efa\",\"#EF553B\",\"#00cc96\",\"#ab63fa\",\"#FFA15A\",\"#19d3f3\",\"#FF6692\",\"#B6E880\",\"#FF97FF\",\"#FECB52\"],\"font\":{\"color\":\"#2a3f5f\"},\"hovermode\":\"closest\",\"hoverlabel\":{\"align\":\"left\"},\"paper_bgcolor\":\"white\",\"plot_bgcolor\":\"#E5ECF6\",\"polar\":{\"bgcolor\":\"#E5ECF6\",\"angularaxis\":{\"gridcolor\":\"white\",\"linecolor\":\"white\",\"ticks\":\"\"},\"radialaxis\":{\"gridcolor\":\"white\",\"linecolor\":\"white\",\"ticks\":\"\"}},\"ternary\":{\"bgcolor\":\"#E5ECF6\",\"aaxis\":{\"gridcolor\":\"white\",\"linecolor\":\"white\",\"ticks\":\"\"},\"baxis\":{\"gridcolor\":\"white\",\"linecolor\":\"white\",\"ticks\":\"\"},\"caxis\":{\"gridcolor\":\"white\",\"linecolor\":\"white\",\"ticks\":\"\"}},\"coloraxis\":{\"colorbar\":{\"outlinewidth\":0,\"ticks\":\"\"}},\"colorscale\":{\"sequential\":[[0.0,\"#0d0887\"],[0.1111111111111111,\"#46039f\"],[0.2222222222222222,\"#7201a8\"],[0.3333333333333333,\"#9c179e\"],[0.4444444444444444,\"#bd3786\"],[0.5555555555555556,\"#d8576b\"],[0.6666666666666666,\"#ed7953\"],[0.7777777777777778,\"#fb9f3a\"],[0.8888888888888888,\"#fdca26\"],[1.0,\"#f0f921\"]],\"sequentialminus\":[[0.0,\"#0d0887\"],[0.1111111111111111,\"#46039f\"],[0.2222222222222222,\"#7201a8\"],[0.3333333333333333,\"#9c179e\"],[0.4444444444444444,\"#bd3786\"],[0.5555555555555556,\"#d8576b\"],[0.6666666666666666,\"#ed7953\"],[0.7777777777777778,\"#fb9f3a\"],[0.8888888888888888,\"#fdca26\"],[1.0,\"#f0f921\"]],\"diverging\":[[0,\"#8e0152\"],[0.1,\"#c51b7d\"],[0.2,\"#de77ae\"],[0.3,\"#f1b6da\"],[0.4,\"#fde0ef\"],[0.5,\"#f7f7f7\"],[0.6,\"#e6f5d0\"],[0.7,\"#b8e186\"],[0.8,\"#7fbc41\"],[0.9,\"#4d9221\"],[1,\"#276419\"]]},\"xaxis\":{\"gridcolor\":\"white\",\"linecolor\":\"white\",\"ticks\":\"\",\"title\":{\"standoff\":15},\"zerolinecolor\":\"white\",\"automargin\":true,\"zerolinewidth\":2},\"yaxis\":{\"gridcolor\":\"white\",\"linecolor\":\"white\",\"ticks\":\"\",\"title\":{\"standoff\":15},\"zerolinecolor\":\"white\",\"automargin\":true,\"zerolinewidth\":2},\"scene\":{\"xaxis\":{\"backgroundcolor\":\"#E5ECF6\",\"gridcolor\":\"white\",\"linecolor\":\"white\",\"showbackground\":true,\"ticks\":\"\",\"zerolinecolor\":\"white\",\"gridwidth\":2},\"yaxis\":{\"backgroundcolor\":\"#E5ECF6\",\"gridcolor\":\"white\",\"linecolor\":\"white\",\"showbackground\":true,\"ticks\":\"\",\"zerolinecolor\":\"white\",\"gridwidth\":2},\"zaxis\":{\"backgroundcolor\":\"#E5ECF6\",\"gridcolor\":\"white\",\"linecolor\":\"white\",\"showbackground\":true,\"ticks\":\"\",\"zerolinecolor\":\"white\",\"gridwidth\":2}},\"shapedefaults\":{\"line\":{\"color\":\"#2a3f5f\"}},\"annotationdefaults\":{\"arrowcolor\":\"#2a3f5f\",\"arrowhead\":0,\"arrowwidth\":1},\"geo\":{\"bgcolor\":\"white\",\"landcolor\":\"#E5ECF6\",\"subunitcolor\":\"white\",\"showland\":true,\"showlakes\":true,\"lakecolor\":\"white\"},\"title\":{\"x\":0.05},\"mapbox\":{\"style\":\"light\"}}},\"legend\":{\"tracegroupgap\":0},\"title\":{\"text\":\"Total de unidades vendidas por continente\"}},                        {\"responsive\": true}                    ).then(function(){\n",
              "                            \n",
              "var gd = document.getElementById('6c818128-b633-483e-b50a-9ab2cb0f8df1');\n",
              "var x = new MutationObserver(function (mutations, observer) {{\n",
              "        var display = window.getComputedStyle(gd).display;\n",
              "        if (!display || display === 'none') {{\n",
              "            console.log([gd, 'removed!']);\n",
              "            Plotly.purge(gd);\n",
              "            observer.disconnect();\n",
              "        }}\n",
              "}});\n",
              "\n",
              "// Listen for the removal of the full notebook cells\n",
              "var notebookContainer = gd.closest('#notebook-container');\n",
              "if (notebookContainer) {{\n",
              "    x.observe(notebookContainer, {childList: true});\n",
              "}}\n",
              "\n",
              "// Listen for the clearing of the current output cell\n",
              "var outputEl = gd.closest('.output');\n",
              "if (outputEl) {{\n",
              "    x.observe(outputEl, {childList: true});\n",
              "}}\n",
              "\n",
              "                        })                };            </script>        </div>"
            ]
          },
          "metadata": {}
        }
      ]
    },
    {
      "cell_type": "markdown",
      "source": [
        "###**Consulta 4 – Ranking de países por ganancia total:**\n",
        "- Lista de clientes mayores de 75 años ordenados por total de descuento.\n",
        "- Visualiza con un gráfico horizontal ordenado."
      ],
      "metadata": {
        "id": "wYeVIejs9N0-"
      }
    },
    {
      "cell_type": "code",
      "source": [
        "#Ricardo Madrigal Urencio\n",
        "pipeline = [\n",
        "    {\n",
        "        \"$match\": {\n",
        "            \"age\": {\"$gt\": 75}\n",
        "        }\n",
        "    },\n",
        "    {\n",
        "        \"$group\": {\n",
        "            \"_id\": {\"cliente\": \"$customer\", \"edad\": \"$age\"},\n",
        "            \"total_descuento\": {\n",
        "                \"$sum\": \"$discount\"\n",
        "            },\n",
        "\n",
        "        }\n",
        "        },\n",
        "    {\n",
        "        \"$project\": {\n",
        "            \"_id\": 0,\n",
        "            \"total_descuento\": 1,\n",
        "            \"cliente_edad\": {\"$concat\": [\"$_id.cliente\", \" - \", {\"$toString\": \"$_id.edad\"}, \" años\"]}\n",
        "        }\n",
        "        },\n",
        "    {\n",
        "        \"$sort\": {\n",
        "            \"total_descuento\": -1\n",
        "        }\n",
        "    }\n",
        "]\n",
        "\n",
        "result = list(coll.aggregate(pipeline))\n",
        "\n",
        "df = pd.json_normalize(result)\n",
        "\n",
        "df"
      ],
      "metadata": {
        "colab": {
          "base_uri": "https://localhost:8080/",
          "height": 426
        },
        "id": "51rfCDKf6mHM",
        "outputId": "0f45b92c-4910-4544-c8d1-7aa2ad01cf2c"
      },
      "execution_count": null,
      "outputs": [
        {
          "output_type": "execute_result",
          "data": {
            "text/plain": [
              "    total_descuento                cliente_edad\n",
              "0           1002.72       Tyler Reyes - 80 años\n",
              "1            646.20     Brandon Evans - 76 años\n",
              "2            605.42        Lisa Adams - 80 años\n",
              "3            594.03  Danielle Johnson - 77 años\n",
              "4            573.76    Brooke Leonard - 78 años\n",
              "5            564.18    Allison Maddox - 77 años\n",
              "6            466.76     Kevin Elliott - 79 años\n",
              "7            461.67       Linda Wolfe - 77 años\n",
              "8            453.02     Casey Elliott - 80 años\n",
              "9            448.14      Kelli Conley - 80 años\n",
              "10           399.60  Jennifer Walters - 77 años\n",
              "11           330.22      Roger Jordan - 77 años"
            ],
            "text/html": [
              "\n",
              "  <div id=\"df-29e1623f-5c4e-404d-9a51-d9cbc26e8161\" class=\"colab-df-container\">\n",
              "    <div>\n",
              "<style scoped>\n",
              "    .dataframe tbody tr th:only-of-type {\n",
              "        vertical-align: middle;\n",
              "    }\n",
              "\n",
              "    .dataframe tbody tr th {\n",
              "        vertical-align: top;\n",
              "    }\n",
              "\n",
              "    .dataframe thead th {\n",
              "        text-align: right;\n",
              "    }\n",
              "</style>\n",
              "<table border=\"1\" class=\"dataframe\">\n",
              "  <thead>\n",
              "    <tr style=\"text-align: right;\">\n",
              "      <th></th>\n",
              "      <th>total_descuento</th>\n",
              "      <th>cliente_edad</th>\n",
              "    </tr>\n",
              "  </thead>\n",
              "  <tbody>\n",
              "    <tr>\n",
              "      <th>0</th>\n",
              "      <td>1002.72</td>\n",
              "      <td>Tyler Reyes - 80 años</td>\n",
              "    </tr>\n",
              "    <tr>\n",
              "      <th>1</th>\n",
              "      <td>646.20</td>\n",
              "      <td>Brandon Evans - 76 años</td>\n",
              "    </tr>\n",
              "    <tr>\n",
              "      <th>2</th>\n",
              "      <td>605.42</td>\n",
              "      <td>Lisa Adams - 80 años</td>\n",
              "    </tr>\n",
              "    <tr>\n",
              "      <th>3</th>\n",
              "      <td>594.03</td>\n",
              "      <td>Danielle Johnson - 77 años</td>\n",
              "    </tr>\n",
              "    <tr>\n",
              "      <th>4</th>\n",
              "      <td>573.76</td>\n",
              "      <td>Brooke Leonard - 78 años</td>\n",
              "    </tr>\n",
              "    <tr>\n",
              "      <th>5</th>\n",
              "      <td>564.18</td>\n",
              "      <td>Allison Maddox - 77 años</td>\n",
              "    </tr>\n",
              "    <tr>\n",
              "      <th>6</th>\n",
              "      <td>466.76</td>\n",
              "      <td>Kevin Elliott - 79 años</td>\n",
              "    </tr>\n",
              "    <tr>\n",
              "      <th>7</th>\n",
              "      <td>461.67</td>\n",
              "      <td>Linda Wolfe - 77 años</td>\n",
              "    </tr>\n",
              "    <tr>\n",
              "      <th>8</th>\n",
              "      <td>453.02</td>\n",
              "      <td>Casey Elliott - 80 años</td>\n",
              "    </tr>\n",
              "    <tr>\n",
              "      <th>9</th>\n",
              "      <td>448.14</td>\n",
              "      <td>Kelli Conley - 80 años</td>\n",
              "    </tr>\n",
              "    <tr>\n",
              "      <th>10</th>\n",
              "      <td>399.60</td>\n",
              "      <td>Jennifer Walters - 77 años</td>\n",
              "    </tr>\n",
              "    <tr>\n",
              "      <th>11</th>\n",
              "      <td>330.22</td>\n",
              "      <td>Roger Jordan - 77 años</td>\n",
              "    </tr>\n",
              "  </tbody>\n",
              "</table>\n",
              "</div>\n",
              "    <div class=\"colab-df-buttons\">\n",
              "\n",
              "  <div class=\"colab-df-container\">\n",
              "    <button class=\"colab-df-convert\" onclick=\"convertToInteractive('df-29e1623f-5c4e-404d-9a51-d9cbc26e8161')\"\n",
              "            title=\"Convert this dataframe to an interactive table.\"\n",
              "            style=\"display:none;\">\n",
              "\n",
              "  <svg xmlns=\"http://www.w3.org/2000/svg\" height=\"24px\" viewBox=\"0 -960 960 960\">\n",
              "    <path d=\"M120-120v-720h720v720H120Zm60-500h600v-160H180v160Zm220 220h160v-160H400v160Zm0 220h160v-160H400v160ZM180-400h160v-160H180v160Zm440 0h160v-160H620v160ZM180-180h160v-160H180v160Zm440 0h160v-160H620v160Z\"/>\n",
              "  </svg>\n",
              "    </button>\n",
              "\n",
              "  <style>\n",
              "    .colab-df-container {\n",
              "      display:flex;\n",
              "      gap: 12px;\n",
              "    }\n",
              "\n",
              "    .colab-df-convert {\n",
              "      background-color: #E8F0FE;\n",
              "      border: none;\n",
              "      border-radius: 50%;\n",
              "      cursor: pointer;\n",
              "      display: none;\n",
              "      fill: #1967D2;\n",
              "      height: 32px;\n",
              "      padding: 0 0 0 0;\n",
              "      width: 32px;\n",
              "    }\n",
              "\n",
              "    .colab-df-convert:hover {\n",
              "      background-color: #E2EBFA;\n",
              "      box-shadow: 0px 1px 2px rgba(60, 64, 67, 0.3), 0px 1px 3px 1px rgba(60, 64, 67, 0.15);\n",
              "      fill: #174EA6;\n",
              "    }\n",
              "\n",
              "    .colab-df-buttons div {\n",
              "      margin-bottom: 4px;\n",
              "    }\n",
              "\n",
              "    [theme=dark] .colab-df-convert {\n",
              "      background-color: #3B4455;\n",
              "      fill: #D2E3FC;\n",
              "    }\n",
              "\n",
              "    [theme=dark] .colab-df-convert:hover {\n",
              "      background-color: #434B5C;\n",
              "      box-shadow: 0px 1px 3px 1px rgba(0, 0, 0, 0.15);\n",
              "      filter: drop-shadow(0px 1px 2px rgba(0, 0, 0, 0.3));\n",
              "      fill: #FFFFFF;\n",
              "    }\n",
              "  </style>\n",
              "\n",
              "    <script>\n",
              "      const buttonEl =\n",
              "        document.querySelector('#df-29e1623f-5c4e-404d-9a51-d9cbc26e8161 button.colab-df-convert');\n",
              "      buttonEl.style.display =\n",
              "        google.colab.kernel.accessAllowed ? 'block' : 'none';\n",
              "\n",
              "      async function convertToInteractive(key) {\n",
              "        const element = document.querySelector('#df-29e1623f-5c4e-404d-9a51-d9cbc26e8161');\n",
              "        const dataTable =\n",
              "          await google.colab.kernel.invokeFunction('convertToInteractive',\n",
              "                                                    [key], {});\n",
              "        if (!dataTable) return;\n",
              "\n",
              "        const docLinkHtml = 'Like what you see? Visit the ' +\n",
              "          '<a target=\"_blank\" href=https://colab.research.google.com/notebooks/data_table.ipynb>data table notebook</a>'\n",
              "          + ' to learn more about interactive tables.';\n",
              "        element.innerHTML = '';\n",
              "        dataTable['output_type'] = 'display_data';\n",
              "        await google.colab.output.renderOutput(dataTable, element);\n",
              "        const docLink = document.createElement('div');\n",
              "        docLink.innerHTML = docLinkHtml;\n",
              "        element.appendChild(docLink);\n",
              "      }\n",
              "    </script>\n",
              "  </div>\n",
              "\n",
              "\n",
              "    <div id=\"df-36254d7d-e9ce-4bb2-af15-a0f4a6f23c81\">\n",
              "      <button class=\"colab-df-quickchart\" onclick=\"quickchart('df-36254d7d-e9ce-4bb2-af15-a0f4a6f23c81')\"\n",
              "                title=\"Suggest charts\"\n",
              "                style=\"display:none;\">\n",
              "\n",
              "<svg xmlns=\"http://www.w3.org/2000/svg\" height=\"24px\"viewBox=\"0 0 24 24\"\n",
              "     width=\"24px\">\n",
              "    <g>\n",
              "        <path d=\"M19 3H5c-1.1 0-2 .9-2 2v14c0 1.1.9 2 2 2h14c1.1 0 2-.9 2-2V5c0-1.1-.9-2-2-2zM9 17H7v-7h2v7zm4 0h-2V7h2v10zm4 0h-2v-4h2v4z\"/>\n",
              "    </g>\n",
              "</svg>\n",
              "      </button>\n",
              "\n",
              "<style>\n",
              "  .colab-df-quickchart {\n",
              "      --bg-color: #E8F0FE;\n",
              "      --fill-color: #1967D2;\n",
              "      --hover-bg-color: #E2EBFA;\n",
              "      --hover-fill-color: #174EA6;\n",
              "      --disabled-fill-color: #AAA;\n",
              "      --disabled-bg-color: #DDD;\n",
              "  }\n",
              "\n",
              "  [theme=dark] .colab-df-quickchart {\n",
              "      --bg-color: #3B4455;\n",
              "      --fill-color: #D2E3FC;\n",
              "      --hover-bg-color: #434B5C;\n",
              "      --hover-fill-color: #FFFFFF;\n",
              "      --disabled-bg-color: #3B4455;\n",
              "      --disabled-fill-color: #666;\n",
              "  }\n",
              "\n",
              "  .colab-df-quickchart {\n",
              "    background-color: var(--bg-color);\n",
              "    border: none;\n",
              "    border-radius: 50%;\n",
              "    cursor: pointer;\n",
              "    display: none;\n",
              "    fill: var(--fill-color);\n",
              "    height: 32px;\n",
              "    padding: 0;\n",
              "    width: 32px;\n",
              "  }\n",
              "\n",
              "  .colab-df-quickchart:hover {\n",
              "    background-color: var(--hover-bg-color);\n",
              "    box-shadow: 0 1px 2px rgba(60, 64, 67, 0.3), 0 1px 3px 1px rgba(60, 64, 67, 0.15);\n",
              "    fill: var(--button-hover-fill-color);\n",
              "  }\n",
              "\n",
              "  .colab-df-quickchart-complete:disabled,\n",
              "  .colab-df-quickchart-complete:disabled:hover {\n",
              "    background-color: var(--disabled-bg-color);\n",
              "    fill: var(--disabled-fill-color);\n",
              "    box-shadow: none;\n",
              "  }\n",
              "\n",
              "  .colab-df-spinner {\n",
              "    border: 2px solid var(--fill-color);\n",
              "    border-color: transparent;\n",
              "    border-bottom-color: var(--fill-color);\n",
              "    animation:\n",
              "      spin 1s steps(1) infinite;\n",
              "  }\n",
              "\n",
              "  @keyframes spin {\n",
              "    0% {\n",
              "      border-color: transparent;\n",
              "      border-bottom-color: var(--fill-color);\n",
              "      border-left-color: var(--fill-color);\n",
              "    }\n",
              "    20% {\n",
              "      border-color: transparent;\n",
              "      border-left-color: var(--fill-color);\n",
              "      border-top-color: var(--fill-color);\n",
              "    }\n",
              "    30% {\n",
              "      border-color: transparent;\n",
              "      border-left-color: var(--fill-color);\n",
              "      border-top-color: var(--fill-color);\n",
              "      border-right-color: var(--fill-color);\n",
              "    }\n",
              "    40% {\n",
              "      border-color: transparent;\n",
              "      border-right-color: var(--fill-color);\n",
              "      border-top-color: var(--fill-color);\n",
              "    }\n",
              "    60% {\n",
              "      border-color: transparent;\n",
              "      border-right-color: var(--fill-color);\n",
              "    }\n",
              "    80% {\n",
              "      border-color: transparent;\n",
              "      border-right-color: var(--fill-color);\n",
              "      border-bottom-color: var(--fill-color);\n",
              "    }\n",
              "    90% {\n",
              "      border-color: transparent;\n",
              "      border-bottom-color: var(--fill-color);\n",
              "    }\n",
              "  }\n",
              "</style>\n",
              "\n",
              "      <script>\n",
              "        async function quickchart(key) {\n",
              "          const quickchartButtonEl =\n",
              "            document.querySelector('#' + key + ' button');\n",
              "          quickchartButtonEl.disabled = true;  // To prevent multiple clicks.\n",
              "          quickchartButtonEl.classList.add('colab-df-spinner');\n",
              "          try {\n",
              "            const charts = await google.colab.kernel.invokeFunction(\n",
              "                'suggestCharts', [key], {});\n",
              "          } catch (error) {\n",
              "            console.error('Error during call to suggestCharts:', error);\n",
              "          }\n",
              "          quickchartButtonEl.classList.remove('colab-df-spinner');\n",
              "          quickchartButtonEl.classList.add('colab-df-quickchart-complete');\n",
              "        }\n",
              "        (() => {\n",
              "          let quickchartButtonEl =\n",
              "            document.querySelector('#df-36254d7d-e9ce-4bb2-af15-a0f4a6f23c81 button');\n",
              "          quickchartButtonEl.style.display =\n",
              "            google.colab.kernel.accessAllowed ? 'block' : 'none';\n",
              "        })();\n",
              "      </script>\n",
              "    </div>\n",
              "\n",
              "  <div id=\"id_1f01b28a-4ba1-48cf-897c-3a78f589ed68\">\n",
              "    <style>\n",
              "      .colab-df-generate {\n",
              "        background-color: #E8F0FE;\n",
              "        border: none;\n",
              "        border-radius: 50%;\n",
              "        cursor: pointer;\n",
              "        display: none;\n",
              "        fill: #1967D2;\n",
              "        height: 32px;\n",
              "        padding: 0 0 0 0;\n",
              "        width: 32px;\n",
              "      }\n",
              "\n",
              "      .colab-df-generate:hover {\n",
              "        background-color: #E2EBFA;\n",
              "        box-shadow: 0px 1px 2px rgba(60, 64, 67, 0.3), 0px 1px 3px 1px rgba(60, 64, 67, 0.15);\n",
              "        fill: #174EA6;\n",
              "      }\n",
              "\n",
              "      [theme=dark] .colab-df-generate {\n",
              "        background-color: #3B4455;\n",
              "        fill: #D2E3FC;\n",
              "      }\n",
              "\n",
              "      [theme=dark] .colab-df-generate:hover {\n",
              "        background-color: #434B5C;\n",
              "        box-shadow: 0px 1px 3px 1px rgba(0, 0, 0, 0.15);\n",
              "        filter: drop-shadow(0px 1px 2px rgba(0, 0, 0, 0.3));\n",
              "        fill: #FFFFFF;\n",
              "      }\n",
              "    </style>\n",
              "    <button class=\"colab-df-generate\" onclick=\"generateWithVariable('df')\"\n",
              "            title=\"Generate code using this dataframe.\"\n",
              "            style=\"display:none;\">\n",
              "\n",
              "  <svg xmlns=\"http://www.w3.org/2000/svg\" height=\"24px\"viewBox=\"0 0 24 24\"\n",
              "       width=\"24px\">\n",
              "    <path d=\"M7,19H8.4L18.45,9,17,7.55,7,17.6ZM5,21V16.75L18.45,3.32a2,2,0,0,1,2.83,0l1.4,1.43a1.91,1.91,0,0,1,.58,1.4,1.91,1.91,0,0,1-.58,1.4L9.25,21ZM18.45,9,17,7.55Zm-12,3A5.31,5.31,0,0,0,4.9,8.1,5.31,5.31,0,0,0,1,6.5,5.31,5.31,0,0,0,4.9,4.9,5.31,5.31,0,0,0,6.5,1,5.31,5.31,0,0,0,8.1,4.9,5.31,5.31,0,0,0,12,6.5,5.46,5.46,0,0,0,6.5,12Z\"/>\n",
              "  </svg>\n",
              "    </button>\n",
              "    <script>\n",
              "      (() => {\n",
              "      const buttonEl =\n",
              "        document.querySelector('#id_1f01b28a-4ba1-48cf-897c-3a78f589ed68 button.colab-df-generate');\n",
              "      buttonEl.style.display =\n",
              "        google.colab.kernel.accessAllowed ? 'block' : 'none';\n",
              "\n",
              "      buttonEl.onclick = () => {\n",
              "        google.colab.notebook.generateWithVariable('df');\n",
              "      }\n",
              "      })();\n",
              "    </script>\n",
              "  </div>\n",
              "\n",
              "    </div>\n",
              "  </div>\n"
            ],
            "application/vnd.google.colaboratory.intrinsic+json": {
              "type": "dataframe",
              "variable_name": "df",
              "summary": "{\n  \"name\": \"df\",\n  \"rows\": 12,\n  \"fields\": [\n    {\n      \"column\": \"total_descuento\",\n      \"properties\": {\n        \"dtype\": \"number\",\n        \"std\": 171.9341877438909,\n        \"min\": 330.22,\n        \"max\": 1002.72,\n        \"num_unique_values\": 12,\n        \"samples\": [\n          399.6,\n          448.14,\n          1002.72\n        ],\n        \"semantic_type\": \"\",\n        \"description\": \"\"\n      }\n    },\n    {\n      \"column\": \"cliente_edad\",\n      \"properties\": {\n        \"dtype\": \"string\",\n        \"num_unique_values\": 12,\n        \"samples\": [\n          \"Jennifer Walters - 77 a\\u00f1os\",\n          \"Kelli Conley - 80 a\\u00f1os\",\n          \"Tyler Reyes - 80 a\\u00f1os\"\n        ],\n        \"semantic_type\": \"\",\n        \"description\": \"\"\n      }\n    }\n  ]\n}"
            }
          },
          "metadata": {},
          "execution_count": 87
        }
      ]
    },
    {
      "cell_type": "code",
      "source": [
        "#Grafico Horizontal Ordenado\n",
        "plt.figure(figsize=(14, 6))\n",
        "sns.barplot(x='total_descuento', y='cliente_edad', data=df, palette='RdYlGn', hue='total_descuento')\n",
        "plt.xlabel('Total de Descuento')\n",
        "plt.ylabel('Cliente y Edad')\n",
        "plt.title('Lista de clientes mayores de 75 años ordenados por total de descuento')\n",
        "plt.gca().invert_yaxis()\n",
        "plt.tight_layout()\n",
        "plt.show()"
      ],
      "metadata": {
        "colab": {
          "base_uri": "https://localhost:8080/",
          "height": 500
        },
        "id": "EtFan5P_Gqbj",
        "outputId": "20ca4f88-2b77-41f1-bd7e-fc1e7b18f3c2"
      },
      "execution_count": null,
      "outputs": [
        {
          "output_type": "display_data",
          "data": {
            "text/plain": [
              "<Figure size 1400x600 with 1 Axes>"
            ],
            "image/png": "[encoded data removed]"
          },
          "metadata": {}
        }
      ]
    },
    {
      "cell_type": "markdown",
      "source": [
        "### **Consulta 5 – DRILL-DOWN:**\n",
        "- Top 3 clientes más rentables dentro de cada region, utilizando *\\$push* y *\\$slice*.\n",
        "- Usa un gráfico agrupado por continente."
      ],
      "metadata": {
        "id": "tyfrDrrP9Yo4"
      }
    },
    {
      "cell_type": "code",
      "source": [
        "#Ricardo Madrigal Urencio\n",
        "pipeline = [\n",
        "    {\n",
        "        \"$group\": {\n",
        "            \"_id\": {\"continent\": \"$continent\", \"region\": \"$region\", \"cliente\": \"$customer\"},\n",
        "            \"total_ganancia\": {\n",
        "                \"$sum\": \"$profit\"\n",
        "            }\n",
        "        }\n",
        "    },\n",
        "    {\n",
        "        \"$sort\": {\"_id.continent\": 1, \"_id.region\": 1, \"total_ganancia\": -1}\n",
        "    },\n",
        "    {\n",
        "        \"$group\": {\n",
        "            \"_id\": {\"continent\": \"$_id.continent\", \"region\": \"$_id.region\"},\n",
        "            \"clientes\": {\n",
        "                \"$push\": {\n",
        "                    \"cliente\": \"$_id.cliente\",\n",
        "                    \"ganancia\": \"$total_ganancia\"\n",
        "                }\n",
        "            }\n",
        "        }\n",
        "    },\n",
        "    {\n",
        "        \"$project\": {\n",
        "            \"_id\": 0,\n",
        "            \"continente\": \"$_id.continent\",\n",
        "            \"region\": \"$_id.region\",\n",
        "            \"top_clientes\": {\"$slice\": [\"$clientes\", 3]}\n",
        "        }\n",
        "    },\n",
        "    {\"$sort\": {\"continente\": 1, \"region\": 1}}\n",
        "]\n",
        "\n",
        "result = list(coll.aggregate(pipeline))\n",
        "\n",
        "df = pd.json_normalize(result)\n",
        "\n",
        "df_normalized = df.explode('top_clientes')\n",
        "df_normalized = pd.json_normalize(df_normalized['top_clientes']).add_prefix('top_clientes.')\n",
        "df = pd.concat([df['continente'], df['region'], df_normalized], axis=1)\n",
        "\n",
        "df.dropna(inplace=True)\n",
        "\n",
        "df"
      ],
      "metadata": {
        "id": "3CYrdA0T-LgD",
        "colab": {
          "base_uri": "https://localhost:8080/",
          "height": 424
        },
        "outputId": "07d1be9d-2f61-43db-b3f6-d78bcf2231ce"
      },
      "execution_count": null,
      "outputs": [
        {
          "output_type": "execute_result",
          "data": {
            "text/plain": [
              "       continente          region top_clientes.cliente  top_clientes.ganancia\n",
              "0          Africa           Abuja      Valerie Kennedy              8798.1831\n",
              "1          Africa      Alexandria         Linda Hudson               969.4200\n",
              "2          Africa           Cairo        Kristin Lopez               550.3808\n",
              "3          Africa      Casablanca          Marie Cross              3294.8259\n",
              "4          Africa         Gauteng       Rebecca Brooks              1372.6308\n",
              "..            ...             ...                  ...                    ...\n",
              "85  South America        Medellin         Mark Simmons               261.8757\n",
              "86  South America  Rio de Janeiro          Scott Lopez               168.9189\n",
              "87  South America        Santa Fe        Kevin Elliott              7889.6877\n",
              "88  South America       Sao Paulo      Gabriel Sanders              7567.5800\n",
              "89  South America        Valencia     Elizabeth Jensen              1167.1580\n",
              "\n",
              "[90 rows x 4 columns]"
            ],
            "text/html": [
              "\n",
              "  <div id=\"df-238e2455-e66c-4913-ba57-eb06dc84680b\" class=\"colab-df-container\">\n",
              "    <div>\n",
              "<style scoped>\n",
              "    .dataframe tbody tr th:only-of-type {\n",
              "        vertical-align: middle;\n",
              "    }\n",
              "\n",
              "    .dataframe tbody tr th {\n",
              "        vertical-align: top;\n",
              "    }\n",
              "\n",
              "    .dataframe thead th {\n",
              "        text-align: right;\n",
              "    }\n",
              "</style>\n",
              "<table border=\"1\" class=\"dataframe\">\n",
              "  <thead>\n",
              "    <tr style=\"text-align: right;\">\n",
              "      <th></th>\n",
              "      <th>continente</th>\n",
              "      <th>region</th>\n",
              "      <th>top_clientes.cliente</th>\n",
              "      <th>top_clientes.ganancia</th>\n",
              "    </tr>\n",
              "  </thead>\n",
              "  <tbody>\n",
              "    <tr>\n",
              "      <th>0</th>\n",
              "      <td>Africa</td>\n",
              "      <td>Abuja</td>\n",
              "      <td>Valerie Kennedy</td>\n",
              "      <td>8798.1831</td>\n",
              "    </tr>\n",
              "    <tr>\n",
              "      <th>1</th>\n",
              "      <td>Africa</td>\n",
              "      <td>Alexandria</td>\n",
              "      <td>Linda Hudson</td>\n",
              "      <td>969.4200</td>\n",
              "    </tr>\n",
              "    <tr>\n",
              "      <th>2</th>\n",
              "      <td>Africa</td>\n",
              "      <td>Cairo</td>\n",
              "      <td>Kristin Lopez</td>\n",
              "      <td>550.3808</td>\n",
              "    </tr>\n",
              "    <tr>\n",
              "      <th>3</th>\n",
              "      <td>Africa</td>\n",
              "      <td>Casablanca</td>\n",
              "      <td>Marie Cross</td>\n",
              "      <td>3294.8259</td>\n",
              "    </tr>\n",
              "    <tr>\n",
              "      <th>4</th>\n",
              "      <td>Africa</td>\n",
              "      <td>Gauteng</td>\n",
              "      <td>Rebecca Brooks</td>\n",
              "      <td>1372.6308</td>\n",
              "    </tr>\n",
              "    <tr>\n",
              "      <th>...</th>\n",
              "      <td>...</td>\n",
              "      <td>...</td>\n",
              "      <td>...</td>\n",
              "      <td>...</td>\n",
              "    </tr>\n",
              "    <tr>\n",
              "      <th>85</th>\n",
              "      <td>South America</td>\n",
              "      <td>Medellin</td>\n",
              "      <td>Mark Simmons</td>\n",
              "      <td>261.8757</td>\n",
              "    </tr>\n",
              "    <tr>\n",
              "      <th>86</th>\n",
              "      <td>South America</td>\n",
              "      <td>Rio de Janeiro</td>\n",
              "      <td>Scott Lopez</td>\n",
              "      <td>168.9189</td>\n",
              "    </tr>\n",
              "    <tr>\n",
              "      <th>87</th>\n",
              "      <td>South America</td>\n",
              "      <td>Santa Fe</td>\n",
              "      <td>Kevin Elliott</td>\n",
              "      <td>7889.6877</td>\n",
              "    </tr>\n",
              "    <tr>\n",
              "      <th>88</th>\n",
              "      <td>South America</td>\n",
              "      <td>Sao Paulo</td>\n",
              "      <td>Gabriel Sanders</td>\n",
              "      <td>7567.5800</td>\n",
              "    </tr>\n",
              "    <tr>\n",
              "      <th>89</th>\n",
              "      <td>South America</td>\n",
              "      <td>Valencia</td>\n",
              "      <td>Elizabeth Jensen</td>\n",
              "      <td>1167.1580</td>\n",
              "    </tr>\n",
              "  </tbody>\n",
              "</table>\n",
              "<p>90 rows × 4 columns</p>\n",
              "</div>\n",
              "    <div class=\"colab-df-buttons\">\n",
              "\n",
              "  <div class=\"colab-df-container\">\n",
              "    <button class=\"colab-df-convert\" onclick=\"convertToInteractive('df-238e2455-e66c-4913-ba57-eb06dc84680b')\"\n",
              "            title=\"Convert this dataframe to an interactive table.\"\n",
              "            style=\"display:none;\">\n",
              "\n",
              "  <svg xmlns=\"http://www.w3.org/2000/svg\" height=\"24px\" viewBox=\"0 -960 960 960\">\n",
              "    <path d=\"M120-120v-720h720v720H120Zm60-500h600v-160H180v160Zm220 220h160v-160H400v160Zm0 220h160v-160H400v160ZM180-400h160v-160H180v160Zm440 0h160v-160H620v160ZM180-180h160v-160H180v160Zm440 0h160v-160H620v160Z\"/>\n",
              "  </svg>\n",
              "    </button>\n",
              "\n",
              "  <style>\n",
              "    .colab-df-container {\n",
              "      display:flex;\n",
              "      gap: 12px;\n",
              "    }\n",
              "\n",
              "    .colab-df-convert {\n",
              "      background-color: #E8F0FE;\n",
              "      border: none;\n",
              "      border-radius: 50%;\n",
              "      cursor: pointer;\n",
              "      display: none;\n",
              "      fill: #1967D2;\n",
              "      height: 32px;\n",
              "      padding: 0 0 0 0;\n",
              "      width: 32px;\n",
              "    }\n",
              "\n",
              "    .colab-df-convert:hover {\n",
              "      background-color: #E2EBFA;\n",
              "      box-shadow: 0px 1px 2px rgba(60, 64, 67, 0.3), 0px 1px 3px 1px rgba(60, 64, 67, 0.15);\n",
              "      fill: #174EA6;\n",
              "    }\n",
              "\n",
              "    .colab-df-buttons div {\n",
              "      margin-bottom: 4px;\n",
              "    }\n",
              "\n",
              "    [theme=dark] .colab-df-convert {\n",
              "      background-color: #3B4455;\n",
              "      fill: #D2E3FC;\n",
              "    }\n",
              "\n",
              "    [theme=dark] .colab-df-convert:hover {\n",
              "      background-color: #434B5C;\n",
              "      box-shadow: 0px 1px 3px 1px rgba(0, 0, 0, 0.15);\n",
              "      filter: drop-shadow(0px 1px 2px rgba(0, 0, 0, 0.3));\n",
              "      fill: #FFFFFF;\n",
              "    }\n",
              "  </style>\n",
              "\n",
              "    <script>\n",
              "      const buttonEl =\n",
              "        document.querySelector('#df-238e2455-e66c-4913-ba57-eb06dc84680b button.colab-df-convert');\n",
              "      buttonEl.style.display =\n",
              "        google.colab.kernel.accessAllowed ? 'block' : 'none';\n",
              "\n",
              "      async function convertToInteractive(key) {\n",
              "        const element = document.querySelector('#df-238e2455-e66c-4913-ba57-eb06dc84680b');\n",
              "        const dataTable =\n",
              "          await google.colab.kernel.invokeFunction('convertToInteractive',\n",
              "                                                    [key], {});\n",
              "        if (!dataTable) return;\n",
              "\n",
              "        const docLinkHtml = 'Like what you see? Visit the ' +\n",
              "          '<a target=\"_blank\" href=https://colab.research.google.com/notebooks/data_table.ipynb>data table notebook</a>'\n",
              "          + ' to learn more about interactive tables.';\n",
              "        element.innerHTML = '';\n",
              "        dataTable['output_type'] = 'display_data';\n",
              "        await google.colab.output.renderOutput(dataTable, element);\n",
              "        const docLink = document.createElement('div');\n",
              "        docLink.innerHTML = docLinkHtml;\n",
              "        element.appendChild(docLink);\n",
              "      }\n",
              "    </script>\n",
              "  </div>\n",
              "\n",
              "\n",
              "    <div id=\"df-42356d53-0875-4ba5-9074-2e0b90eaaba9\">\n",
              "      <button class=\"colab-df-quickchart\" onclick=\"quickchart('df-42356d53-0875-4ba5-9074-2e0b90eaaba9')\"\n",
              "                title=\"Suggest charts\"\n",
              "                style=\"display:none;\">\n",
              "\n",
              "<svg xmlns=\"http://www.w3.org/2000/svg\" height=\"24px\"viewBox=\"0 0 24 24\"\n",
              "     width=\"24px\">\n",
              "    <g>\n",
              "        <path d=\"M19 3H5c-1.1 0-2 .9-2 2v14c0 1.1.9 2 2 2h14c1.1 0 2-.9 2-2V5c0-1.1-.9-2-2-2zM9 17H7v-7h2v7zm4 0h-2V7h2v10zm4 0h-2v-4h2v4z\"/>\n",
              "    </g>\n",
              "</svg>\n",
              "      </button>\n",
              "\n",
              "<style>\n",
              "  .colab-df-quickchart {\n",
              "      --bg-color: #E8F0FE;\n",
              "      --fill-color: #1967D2;\n",
              "      --hover-bg-color: #E2EBFA;\n",
              "      --hover-fill-color: #174EA6;\n",
              "      --disabled-fill-color: #AAA;\n",
              "      --disabled-bg-color: #DDD;\n",
              "  }\n",
              "\n",
              "  [theme=dark] .colab-df-quickchart {\n",
              "      --bg-color: #3B4455;\n",
              "      --fill-color: #D2E3FC;\n",
              "      --hover-bg-color: #434B5C;\n",
              "      --hover-fill-color: #FFFFFF;\n",
              "      --disabled-bg-color: #3B4455;\n",
              "      --disabled-fill-color: #666;\n",
              "  }\n",
              "\n",
              "  .colab-df-quickchart {\n",
              "    background-color: var(--bg-color);\n",
              "    border: none;\n",
              "    border-radius: 50%;\n",
              "    cursor: pointer;\n",
              "    display: none;\n",
              "    fill: var(--fill-color);\n",
              "    height: 32px;\n",
              "    padding: 0;\n",
              "    width: 32px;\n",
              "  }\n",
              "\n",
              "  .colab-df-quickchart:hover {\n",
              "    background-color: var(--hover-bg-color);\n",
              "    box-shadow: 0 1px 2px rgba(60, 64, 67, 0.3), 0 1px 3px 1px rgba(60, 64, 67, 0.15);\n",
              "    fill: var(--button-hover-fill-color);\n",
              "  }\n",
              "\n",
              "  .colab-df-quickchart-complete:disabled,\n",
              "  .colab-df-quickchart-complete:disabled:hover {\n",
              "    background-color: var(--disabled-bg-color);\n",
              "    fill: var(--disabled-fill-color);\n",
              "    box-shadow: none;\n",
              "  }\n",
              "\n",
              "  .colab-df-spinner {\n",
              "    border: 2px solid var(--fill-color);\n",
              "    border-color: transparent;\n",
              "    border-bottom-color: var(--fill-color);\n",
              "    animation:\n",
              "      spin 1s steps(1) infinite;\n",
              "  }\n",
              "\n",
              "  @keyframes spin {\n",
              "    0% {\n",
              "      border-color: transparent;\n",
              "      border-bottom-color: var(--fill-color);\n",
              "      border-left-color: var(--fill-color);\n",
              "    }\n",
              "    20% {\n",
              "      border-color: transparent;\n",
              "      border-left-color: var(--fill-color);\n",
              "      border-top-color: var(--fill-color);\n",
              "    }\n",
              "    30% {\n",
              "      border-color: transparent;\n",
              "      border-left-color: var(--fill-color);\n",
              "      border-top-color: var(--fill-color);\n",
              "      border-right-color: var(--fill-color);\n",
              "    }\n",
              "    40% {\n",
              "      border-color: transparent;\n",
              "      border-right-color: var(--fill-color);\n",
              "      border-top-color: var(--fill-color);\n",
              "    }\n",
              "    60% {\n",
              "      border-color: transparent;\n",
              "      border-right-color: var(--fill-color);\n",
              "    }\n",
              "    80% {\n",
              "      border-color: transparent;\n",
              "      border-right-color: var(--fill-color);\n",
              "      border-bottom-color: var(--fill-color);\n",
              "    }\n",
              "    90% {\n",
              "      border-color: transparent;\n",
              "      border-bottom-color: var(--fill-color);\n",
              "    }\n",
              "  }\n",
              "</style>\n",
              "\n",
              "      <script>\n",
              "        async function quickchart(key) {\n",
              "          const quickchartButtonEl =\n",
              "            document.querySelector('#' + key + ' button');\n",
              "          quickchartButtonEl.disabled = true;  // To prevent multiple clicks.\n",
              "          quickchartButtonEl.classList.add('colab-df-spinner');\n",
              "          try {\n",
              "            const charts = await google.colab.kernel.invokeFunction(\n",
              "                'suggestCharts', [key], {});\n",
              "          } catch (error) {\n",
              "            console.error('Error during call to suggestCharts:', error);\n",
              "          }\n",
              "          quickchartButtonEl.classList.remove('colab-df-spinner');\n",
              "          quickchartButtonEl.classList.add('colab-df-quickchart-complete');\n",
              "        }\n",
              "        (() => {\n",
              "          let quickchartButtonEl =\n",
              "            document.querySelector('#df-42356d53-0875-4ba5-9074-2e0b90eaaba9 button');\n",
              "          quickchartButtonEl.style.display =\n",
              "            google.colab.kernel.accessAllowed ? 'block' : 'none';\n",
              "        })();\n",
              "      </script>\n",
              "    </div>\n",
              "\n",
              "  <div id=\"id_a8f89a8b-a2d2-437c-ac63-5ac23037e45f\">\n",
              "    <style>\n",
              "      .colab-df-generate {\n",
              "        background-color: #E8F0FE;\n",
              "        border: none;\n",
              "        border-radius: 50%;\n",
              "        cursor: pointer;\n",
              "        display: none;\n",
              "        fill: #1967D2;\n",
              "        height: 32px;\n",
              "        padding: 0 0 0 0;\n",
              "        width: 32px;\n",
              "      }\n",
              "\n",
              "      .colab-df-generate:hover {\n",
              "        background-color: #E2EBFA;\n",
              "        box-shadow: 0px 1px 2px rgba(60, 64, 67, 0.3), 0px 1px 3px 1px rgba(60, 64, 67, 0.15);\n",
              "        fill: #174EA6;\n",
              "      }\n",
              "\n",
              "      [theme=dark] .colab-df-generate {\n",
              "        background-color: #3B4455;\n",
              "        fill: #D2E3FC;\n",
              "      }\n",
              "\n",
              "      [theme=dark] .colab-df-generate:hover {\n",
              "        background-color: #434B5C;\n",
              "        box-shadow: 0px 1px 3px 1px rgba(0, 0, 0, 0.15);\n",
              "        filter: drop-shadow(0px 1px 2px rgba(0, 0, 0, 0.3));\n",
              "        fill: #FFFFFF;\n",
              "      }\n",
              "    </style>\n",
              "    <button class=\"colab-df-generate\" onclick=\"generateWithVariable('df')\"\n",
              "            title=\"Generate code using this dataframe.\"\n",
              "            style=\"display:none;\">\n",
              "\n",
              "  <svg xmlns=\"http://www.w3.org/2000/svg\" height=\"24px\"viewBox=\"0 0 24 24\"\n",
              "       width=\"24px\">\n",
              "    <path d=\"M7,19H8.4L18.45,9,17,7.55,7,17.6ZM5,21V16.75L18.45,3.32a2,2,0,0,1,2.83,0l1.4,1.43a1.91,1.91,0,0,1,.58,1.4,1.91,1.91,0,0,1-.58,1.4L9.25,21ZM18.45,9,17,7.55Zm-12,3A5.31,5.31,0,0,0,4.9,8.1,5.31,5.31,0,0,0,1,6.5,5.31,5.31,0,0,0,4.9,4.9,5.31,5.31,0,0,0,6.5,1,5.31,5.31,0,0,0,8.1,4.9,5.31,5.31,0,0,0,12,6.5,5.46,5.46,0,0,0,6.5,12Z\"/>\n",
              "  </svg>\n",
              "    </button>\n",
              "    <script>\n",
              "      (() => {\n",
              "      const buttonEl =\n",
              "        document.querySelector('#id_a8f89a8b-a2d2-437c-ac63-5ac23037e45f button.colab-df-generate');\n",
              "      buttonEl.style.display =\n",
              "        google.colab.kernel.accessAllowed ? 'block' : 'none';\n",
              "\n",
              "      buttonEl.onclick = () => {\n",
              "        google.colab.notebook.generateWithVariable('df');\n",
              "      }\n",
              "      })();\n",
              "    </script>\n",
              "  </div>\n",
              "\n",
              "    </div>\n",
              "  </div>\n"
            ],
            "application/vnd.google.colaboratory.intrinsic+json": {
              "type": "dataframe",
              "variable_name": "df",
              "summary": "{\n  \"name\": \"df\",\n  \"rows\": 90,\n  \"fields\": [\n    {\n      \"column\": \"continente\",\n      \"properties\": {\n        \"dtype\": \"category\",\n        \"num_unique_values\": 6,\n        \"samples\": [\n          \"Africa\",\n          \"Asia\",\n          \"South America\"\n        ],\n        \"semantic_type\": \"\",\n        \"description\": \"\"\n      }\n    },\n    {\n      \"column\": \"region\",\n      \"properties\": {\n        \"dtype\": \"string\",\n        \"num_unique_values\": 90,\n        \"samples\": [\n          \"Provence-Alpes-Cote d Azur\",\n          \"Jakarta\",\n          \"Ontario\"\n        ],\n        \"semantic_type\": \"\",\n        \"description\": \"\"\n      }\n    },\n    {\n      \"column\": \"top_clientes.cliente\",\n      \"properties\": {\n        \"dtype\": \"string\",\n        \"num_unique_values\": 55,\n        \"samples\": [\n          \"Nina Stewart\",\n          \"Gabriel Sanders\",\n          \"Patrick Griffin\"\n        ],\n        \"semantic_type\": \"\",\n        \"description\": \"\"\n      }\n    },\n    {\n      \"column\": \"top_clientes.ganancia\",\n      \"properties\": {\n        \"dtype\": \"number\",\n        \"std\": 1809.7946931996323,\n        \"min\": 48.47148,\n        \"max\": 8798.1831,\n        \"num_unique_values\": 90,\n        \"samples\": [\n          1166.628,\n          929.7957,\n          2699.9838\n        ],\n        \"semantic_type\": \"\",\n        \"description\": \"\"\n      }\n    }\n  ]\n}"
            }
          },
          "metadata": {},
          "execution_count": 61
        }
      ]
    },
    {
      "cell_type": "code",
      "metadata": {
        "colab": {
          "base_uri": "https://localhost:8080/",
          "height": 542
        },
        "id": "42b72236",
        "outputId": "bde6b71b-5bc3-4e38-c245-a21e9f6509b2"
      },
      "source": [
        "#Grafico Agrupado por Continene\n",
        "fig = px.bar(df, x='continente', y='top_clientes.ganancia', color='region',\n",
        "             title='Top 3 Clientes más Rentables por Región y Continente',\n",
        "             labels={'top_clientes.ganancia': 'Ganancia Total', 'region': 'Región', 'continente': 'Continente',\n",
        "             'top_clientes.cliente': 'Cliente', 'top_clientes.ganancia': 'Ganancia Total'},\n",
        "             barmode='group',\n",
        "             hover_data=['top_clientes.cliente', 'top_clientes.ganancia'])\n",
        "\n",
        "fig.update_layout(xaxis={'categoryorder':'total ascending'})\n",
        "\n",
        "fig.show()"
      ],
      "execution_count": null,
      "outputs": [
        {
          "output_type": "display_data",
          "data": {
            "application/vnd.plotly.v1+json": {
              "data": [
                {
                  "alignmentgroup": "True",
                  "customdata": [
                    [
                      "Valerie Kennedy"
                    ]
                  ],
                  "hovertemplate": "Región=Abuja<br>Continente=%{x}<br>Ganancia Total=%{y}<br>Cliente=%{customdata[0]}<extra></extra>",
                  "legendgroup": "Abuja",
                  "marker": {
                    "color": "#636efa",
                    "pattern": {
                      "shape": ""
                    }
                  },
                  "name": "Abuja",
                  "offsetgroup": "Abuja",
                  "orientation": "v",
                  "showlegend": true,
                  "textposition": "auto",
                  "x": [
                    "Africa"
                  ],
                  "xaxis": "x",
                  "y": {
                    "dtype": "f8",
                    "bdata": "8x/SbxcvwUA="
                  },
                  "yaxis": "y",
                  "type": "bar"
                },
                {
                  "alignmentgroup": "True",
                  "customdata": [
                    [
                      "Linda Hudson"
                    ]
                  ],
                  "hovertemplate": "Región=Alexandria<br>Continente=%{x}<br>Ganancia Total=%{y}<br>Cliente=%{customdata[0]}<extra></extra>",
                  "legendgroup": "Alexandria",
                  "marker": {
                    "color": "#EF553B",
                    "pattern": {
                      "shape": ""
                    }
                  },
                  "name": "Alexandria",
                  "offsetgroup": "Alexandria",
                  "orientation": "v",
                  "showlegend": true,
                  "textposition": "auto",
                  "x": [
                    "Africa"
                  ],
                  "xaxis": "x",
                  "y": {
                    "dtype": "f8",
                    "bdata": "j8L1KFxLjkA="
                  },
                  "yaxis": "y",
                  "type": "bar"
                },
                {
                  "alignmentgroup": "True",
                  "customdata": [
                    [
                      "Kristin Lopez"
                    ]
                  ],
                  "hovertemplate": "Región=Cairo<br>Continente=%{x}<br>Ganancia Total=%{y}<br>Cliente=%{customdata[0]}<extra></extra>",
                  "legendgroup": "Cairo",
                  "marker": {
                    "color": "#00cc96",
                    "pattern": {
                      "shape": ""
                    }
                  },
                  "name": "Cairo",
                  "offsetgroup": "Cairo",
                  "orientation": "v",
                  "showlegend": true,
                  "textposition": "auto",
                  "x": [
                    "Africa"
                  ],
                  "xaxis": "x",
                  "y": {
                    "dtype": "f8",
                    "bdata": "idLe4AszgUA="
                  },
                  "yaxis": "y",
                  "type": "bar"
                },
                {
                  "alignmentgroup": "True",
                  "customdata": [
                    [
                      "Marie Cross"
                    ]
                  ],
                  "hovertemplate": "Región=Casablanca<br>Continente=%{x}<br>Ganancia Total=%{y}<br>Cliente=%{customdata[0]}<extra></extra>",
                  "legendgroup": "Casablanca",
                  "marker": {
                    "color": "#ab63fa",
                    "pattern": {
                      "shape": ""
                    }
                  },
                  "name": "Casablanca",
                  "offsetgroup": "Casablanca",
                  "orientation": "v",
                  "showlegend": true,
                  "textposition": "auto",
                  "x": [
                    "Africa"
                  ],
                  "xaxis": "x",
                  "y": {
                    "dtype": "f8",
                    "bdata": "iGNd3Ka9qUA="
                  },
                  "yaxis": "y",
                  "type": "bar"
                },
                {
                  "alignmentgroup": "True",
                  "customdata": [
                    [
                      "Rebecca Brooks"
                    ]
                  ],
                  "hovertemplate": "Región=Gauteng<br>Continente=%{x}<br>Ganancia Total=%{y}<br>Cliente=%{customdata[0]}<extra></extra>",
                  "legendgroup": "Gauteng",
                  "marker": {
                    "color": "#FFA15A",
                    "pattern": {
                      "shape": ""
                    }
                  },
                  "name": "Gauteng",
                  "offsetgroup": "Gauteng",
                  "orientation": "v",
                  "showlegend": true,
                  "textposition": "auto",
                  "x": [
                    "Africa"
                  ],
                  "xaxis": "x",
                  "y": {
                    "dtype": "f8",
                    "bdata": "RGlv8IVylUA="
                  },
                  "yaxis": "y",
                  "type": "bar"
                },
                {
                  "alignmentgroup": "True",
                  "customdata": [
                    [
                      "Gabriel Sanders"
                    ]
                  ],
                  "hovertemplate": "Región=Giza<br>Continente=%{x}<br>Ganancia Total=%{y}<br>Cliente=%{customdata[0]}<extra></extra>",
                  "legendgroup": "Giza",
                  "marker": {
                    "color": "#19d3f3",
                    "pattern": {
                      "shape": ""
                    }
                  },
                  "name": "Giza",
                  "offsetgroup": "Giza",
                  "orientation": "v",
                  "showlegend": true,
                  "textposition": "auto",
                  "x": [
                    "Africa"
                  ],
                  "xaxis": "x",
                  "y": {
                    "dtype": "f8",
                    "bdata": "7FG4HoVNgEA="
                  },
                  "yaxis": "y",
                  "type": "bar"
                },
                {
                  "alignmentgroup": "True",
                  "customdata": [
                    [
                      "Michelle Wells"
                    ]
                  ],
                  "hovertemplate": "Región=Kano<br>Continente=%{x}<br>Ganancia Total=%{y}<br>Cliente=%{customdata[0]}<extra></extra>",
                  "legendgroup": "Kano",
                  "marker": {
                    "color": "#FF6692",
                    "pattern": {
                      "shape": ""
                    }
                  },
                  "name": "Kano",
                  "offsetgroup": "Kano",
                  "orientation": "v",
                  "showlegend": true,
                  "textposition": "auto",
                  "x": [
                    "Africa"
                  ],
                  "xaxis": "x",
                  "y": {
                    "dtype": "f8",
                    "bdata": "mpmZmZljlEA="
                  },
                  "yaxis": "y",
                  "type": "bar"
                },
                {
                  "alignmentgroup": "True",
                  "customdata": [
                    [
                      "Megan Richardson"
                    ]
                  ],
                  "hovertemplate": "Región=Kisumu<br>Continente=%{x}<br>Ganancia Total=%{y}<br>Cliente=%{customdata[0]}<extra></extra>",
                  "legendgroup": "Kisumu",
                  "marker": {
                    "color": "#B6E880",
                    "pattern": {
                      "shape": ""
                    }
                  },
                  "name": "Kisumu",
                  "offsetgroup": "Kisumu",
                  "orientation": "v",
                  "showlegend": true,
                  "textposition": "auto",
                  "x": [
                    "Africa"
                  ],
                  "xaxis": "x",
                  "y": {
                    "dtype": "f8",
                    "bdata": "7zhFR/K/ikA="
                  },
                  "yaxis": "y",
                  "type": "bar"
                },
                {
                  "alignmentgroup": "True",
                  "customdata": [
                    [
                      "Leon Oconnell"
                    ]
                  ],
                  "hovertemplate": "Región=KwaZulu-Natal<br>Continente=%{x}<br>Ganancia Total=%{y}<br>Cliente=%{customdata[0]}<extra></extra>",
                  "legendgroup": "KwaZulu-Natal",
                  "marker": {
                    "color": "#FF97FF",
                    "pattern": {
                      "shape": ""
                    }
                  },
                  "name": "KwaZulu-Natal",
                  "offsetgroup": "KwaZulu-Natal",
                  "orientation": "v",
                  "showlegend": true,
                  "textposition": "auto",
                  "x": [
                    "Africa"
                  ],
                  "xaxis": "x",
                  "y": {
                    "dtype": "f8",
                    "bdata": "gGq8dJO8Z0A="
                  },
                  "yaxis": "y",
                  "type": "bar"
                },
                {
                  "alignmentgroup": "True",
                  "customdata": [
                    [
                      "Derrick Smith"
                    ]
                  ],
                  "hovertemplate": "Región=Lagos<br>Continente=%{x}<br>Ganancia Total=%{y}<br>Cliente=%{customdata[0]}<extra></extra>",
                  "legendgroup": "Lagos",
                  "marker": {
                    "color": "#FECB52",
                    "pattern": {
                      "shape": ""
                    }
                  },
                  "name": "Lagos",
                  "offsetgroup": "Lagos",
                  "orientation": "v",
                  "showlegend": true,
                  "textposition": "auto",
                  "x": [
                    "Africa"
                  ],
                  "xaxis": "x",
                  "y": {
                    "dtype": "f8",
                    "bdata": "ApoIG168nUA="
                  },
                  "yaxis": "y",
                  "type": "bar"
                },
                {
                  "alignmentgroup": "True",
                  "customdata": [
                    [
                      "Brandi Ferguson"
                    ]
                  ],
                  "hovertemplate": "Región=Marrakech<br>Continente=%{x}<br>Ganancia Total=%{y}<br>Cliente=%{customdata[0]}<extra></extra>",
                  "legendgroup": "Marrakech",
                  "marker": {
                    "color": "#636efa",
                    "pattern": {
                      "shape": ""
                    }
                  },
                  "name": "Marrakech",
                  "offsetgroup": "Marrakech",
                  "orientation": "v",
                  "showlegend": true,
                  "textposition": "auto",
                  "x": [
                    "Africa"
                  ],
                  "xaxis": "x",
                  "y": {
                    "dtype": "f8",
                    "bdata": "5dAi2/lcjkA="
                  },
                  "yaxis": "y",
                  "type": "bar"
                },
                {
                  "alignmentgroup": "True",
                  "customdata": [
                    [
                      "Kristin Lopez"
                    ]
                  ],
                  "hovertemplate": "Región=Mombasa<br>Continente=%{x}<br>Ganancia Total=%{y}<br>Cliente=%{customdata[0]}<extra></extra>",
                  "legendgroup": "Mombasa",
                  "marker": {
                    "color": "#EF553B",
                    "pattern": {
                      "shape": ""
                    }
                  },
                  "name": "Mombasa",
                  "offsetgroup": "Mombasa",
                  "orientation": "v",
                  "showlegend": true,
                  "textposition": "auto",
                  "x": [
                    "Africa"
                  ],
                  "xaxis": "x",
                  "y": {
                    "dtype": "f8",
                    "bdata": "P8bctYTLe0A="
                  },
                  "yaxis": "y",
                  "type": "bar"
                },
                {
                  "alignmentgroup": "True",
                  "customdata": [
                    [
                      "Leon Oconnell"
                    ]
                  ],
                  "hovertemplate": "Región=Nairobi<br>Continente=%{x}<br>Ganancia Total=%{y}<br>Cliente=%{customdata[0]}<extra></extra>",
                  "legendgroup": "Nairobi",
                  "marker": {
                    "color": "#00cc96",
                    "pattern": {
                      "shape": ""
                    }
                  },
                  "name": "Nairobi",
                  "offsetgroup": "Nairobi",
                  "orientation": "v",
                  "showlegend": true,
                  "textposition": "auto",
                  "x": [
                    "Africa"
                  ],
                  "xaxis": "x",
                  "y": {
                    "dtype": "f8",
                    "bdata": "eHqlLEMkrEA="
                  },
                  "yaxis": "y",
                  "type": "bar"
                },
                {
                  "alignmentgroup": "True",
                  "customdata": [
                    [
                      "Lisa Adams"
                    ]
                  ],
                  "hovertemplate": "Región=Rabat<br>Continente=%{x}<br>Ganancia Total=%{y}<br>Cliente=%{customdata[0]}<extra></extra>",
                  "legendgroup": "Rabat",
                  "marker": {
                    "color": "#ab63fa",
                    "pattern": {
                      "shape": ""
                    }
                  },
                  "name": "Rabat",
                  "offsetgroup": "Rabat",
                  "orientation": "v",
                  "showlegend": true,
                  "textposition": "auto",
                  "x": [
                    "Africa"
                  ],
                  "xaxis": "x",
                  "y": {
                    "dtype": "f8",
                    "bdata": "BoGVQwv5n0A="
                  },
                  "yaxis": "y",
                  "type": "bar"
                },
                {
                  "alignmentgroup": "True",
                  "customdata": [
                    [
                      "Angela Williams"
                    ]
                  ],
                  "hovertemplate": "Región=Western Cape<br>Continente=%{x}<br>Ganancia Total=%{y}<br>Cliente=%{customdata[0]}<extra></extra>",
                  "legendgroup": "Western Cape",
                  "marker": {
                    "color": "#FFA15A",
                    "pattern": {
                      "shape": ""
                    }
                  },
                  "name": "Western Cape",
                  "offsetgroup": "Western Cape",
                  "orientation": "v",
                  "showlegend": true,
                  "textposition": "auto",
                  "x": [
                    "Africa"
                  ],
                  "xaxis": "x",
                  "y": {
                    "dtype": "f8",
                    "bdata": "GARWDi1aZkA="
                  },
                  "yaxis": "y",
                  "type": "bar"
                },
                {
                  "alignmentgroup": "True",
                  "customdata": [
                    [
                      "Emily Mitchell"
                    ]
                  ],
                  "hovertemplate": "Región=Bandung<br>Continente=%{x}<br>Ganancia Total=%{y}<br>Cliente=%{customdata[0]}<extra></extra>",
                  "legendgroup": "Bandung",
                  "marker": {
                    "color": "#19d3f3",
                    "pattern": {
                      "shape": ""
                    }
                  },
                  "name": "Bandung",
                  "offsetgroup": "Bandung",
                  "orientation": "v",
                  "showlegend": true,
                  "textposition": "auto",
                  "x": [
                    "Asia"
                  ],
                  "xaxis": "x",
                  "y": {
                    "dtype": "f8",
                    "bdata": "LSEf9ExTo0A="
                  },
                  "yaxis": "y",
                  "type": "bar"
                },
                {
                  "alignmentgroup": "True",
                  "customdata": [
                    [
                      "Andrew Roth"
                    ]
                  ],
                  "hovertemplate": "Región=Bangalore<br>Continente=%{x}<br>Ganancia Total=%{y}<br>Cliente=%{customdata[0]}<extra></extra>",
                  "legendgroup": "Bangalore",
                  "marker": {
                    "color": "#FF6692",
                    "pattern": {
                      "shape": ""
                    }
                  },
                  "name": "Bangalore",
                  "offsetgroup": "Bangalore",
                  "orientation": "v",
                  "showlegend": true,
                  "textposition": "auto",
                  "x": [
                    "Asia"
                  ],
                  "xaxis": "x",
                  "y": {
                    "dtype": "f8",
                    "bdata": "SOF6FK7zmUA="
                  },
                  "yaxis": "y",
                  "type": "bar"
                },
                {
                  "alignmentgroup": "True",
                  "customdata": [
                    [
                      "Benjamin Jones"
                    ]
                  ],
                  "hovertemplate": "Región=Beijing<br>Continente=%{x}<br>Ganancia Total=%{y}<br>Cliente=%{customdata[0]}<extra></extra>",
                  "legendgroup": "Beijing",
                  "marker": {
                    "color": "#B6E880",
                    "pattern": {
                      "shape": ""
                    }
                  },
                  "name": "Beijing",
                  "offsetgroup": "Beijing",
                  "orientation": "v",
                  "showlegend": true,
                  "textposition": "auto",
                  "x": [
                    "Asia"
                  ],
                  "xaxis": "x",
                  "y": {
                    "dtype": "f8",
                    "bdata": "AU2EDU+2lUA="
                  },
                  "yaxis": "y",
                  "type": "bar"
                },
                {
                  "alignmentgroup": "True",
                  "customdata": [
                    [
                      "Kristin Romero"
                    ]
                  ],
                  "hovertemplate": "Región=Busan<br>Continente=%{x}<br>Ganancia Total=%{y}<br>Cliente=%{customdata[0]}<extra></extra>",
                  "legendgroup": "Busan",
                  "marker": {
                    "color": "#FF97FF",
                    "pattern": {
                      "shape": ""
                    }
                  },
                  "name": "Busan",
                  "offsetgroup": "Busan",
                  "orientation": "v",
                  "showlegend": true,
                  "textposition": "auto",
                  "x": [
                    "Asia"
                  ],
                  "xaxis": "x",
                  "y": {
                    "dtype": "f8",
                    "bdata": "bxKDwIrXnUA="
                  },
                  "yaxis": "y",
                  "type": "bar"
                },
                {
                  "alignmentgroup": "True",
                  "customdata": [
                    [
                      "Jose Williams"
                    ]
                  ],
                  "hovertemplate": "Región=Delhi<br>Continente=%{x}<br>Ganancia Total=%{y}<br>Cliente=%{customdata[0]}<extra></extra>",
                  "legendgroup": "Delhi",
                  "marker": {
                    "color": "#FECB52",
                    "pattern": {
                      "shape": ""
                    }
                  },
                  "name": "Delhi",
                  "offsetgroup": "Delhi",
                  "orientation": "v",
                  "showlegend": true,
                  "textposition": "auto",
                  "x": [
                    "Asia"
                  ],
                  "xaxis": "x",
                  "y": {
                    "dtype": "f8",
                    "bdata": "wTkjSnsLl0A="
                  },
                  "yaxis": "y",
                  "type": "bar"
                },
                {
                  "alignmentgroup": "True",
                  "customdata": [
                    [
                      "Daniel Hicks"
                    ]
                  ],
                  "hovertemplate": "Región=Guangzhou<br>Continente=%{x}<br>Ganancia Total=%{y}<br>Cliente=%{customdata[0]}<extra></extra>",
                  "legendgroup": "Guangzhou",
                  "marker": {
                    "color": "#636efa",
                    "pattern": {
                      "shape": ""
                    }
                  },
                  "name": "Guangzhou",
                  "offsetgroup": "Guangzhou",
                  "orientation": "v",
                  "showlegend": true,
                  "textposition": "auto",
                  "x": [
                    "Asia"
                  ],
                  "xaxis": "x",
                  "y": {
                    "dtype": "f8",
                    "bdata": "j8L1KFy3j0A="
                  },
                  "yaxis": "y",
                  "type": "bar"
                },
                {
                  "alignmentgroup": "True",
                  "customdata": [
                    [
                      "Jose Williams"
                    ]
                  ],
                  "hovertemplate": "Región=Incheon<br>Continente=%{x}<br>Ganancia Total=%{y}<br>Cliente=%{customdata[0]}<extra></extra>",
                  "legendgroup": "Incheon",
                  "marker": {
                    "color": "#EF553B",
                    "pattern": {
                      "shape": ""
                    }
                  },
                  "name": "Incheon",
                  "offsetgroup": "Incheon",
                  "orientation": "v",
                  "showlegend": true,
                  "textposition": "auto",
                  "x": [
                    "Asia"
                  ],
                  "xaxis": "x",
                  "y": {
                    "dtype": "f8",
                    "bdata": "7nw/NR6bm0A="
                  },
                  "yaxis": "y",
                  "type": "bar"
                },
                {
                  "alignmentgroup": "True",
                  "customdata": [
                    [
                      "Valerie Kennedy"
                    ]
                  ],
                  "hovertemplate": "Región=Jakarta<br>Continente=%{x}<br>Ganancia Total=%{y}<br>Cliente=%{customdata[0]}<extra></extra>",
                  "legendgroup": "Jakarta",
                  "marker": {
                    "color": "#00cc96",
                    "pattern": {
                      "shape": ""
                    }
                  },
                  "name": "Jakarta",
                  "offsetgroup": "Jakarta",
                  "orientation": "v",
                  "showlegend": true,
                  "textposition": "auto",
                  "x": [
                    "Asia"
                  ],
                  "xaxis": "x",
                  "y": {
                    "dtype": "f8",
                    "bdata": "ayv2l10OjUA="
                  },
                  "yaxis": "y",
                  "type": "bar"
                },
                {
                  "alignmentgroup": "True",
                  "customdata": [
                    [
                      "Andrew Roth"
                    ]
                  ],
                  "hovertemplate": "Región=Mumbai<br>Continente=%{x}<br>Ganancia Total=%{y}<br>Cliente=%{customdata[0]}<extra></extra>",
                  "legendgroup": "Mumbai",
                  "marker": {
                    "color": "#ab63fa",
                    "pattern": {
                      "shape": ""
                    }
                  },
                  "name": "Mumbai",
                  "offsetgroup": "Mumbai",
                  "orientation": "v",
                  "showlegend": true,
                  "textposition": "auto",
                  "x": [
                    "Asia"
                  ],
                  "xaxis": "x",
                  "y": {
                    "dtype": "f8",
                    "bdata": "sAPnjCjihkA="
                  },
                  "yaxis": "y",
                  "type": "bar"
                },
                {
                  "alignmentgroup": "True",
                  "customdata": [
                    [
                      "Eric Webster"
                    ]
                  ],
                  "hovertemplate": "Región=Nagoya<br>Continente=%{x}<br>Ganancia Total=%{y}<br>Cliente=%{customdata[0]}<extra></extra>",
                  "legendgroup": "Nagoya",
                  "marker": {
                    "color": "#FFA15A",
                    "pattern": {
                      "shape": ""
                    }
                  },
                  "name": "Nagoya",
                  "offsetgroup": "Nagoya",
                  "orientation": "v",
                  "showlegend": true,
                  "textposition": "auto",
                  "x": [
                    "Asia"
                  ],
                  "xaxis": "x",
                  "y": {
                    "dtype": "f8",
                    "bdata": "kzoBTQQrmkA="
                  },
                  "yaxis": "y",
                  "type": "bar"
                },
                {
                  "alignmentgroup": "True",
                  "customdata": [
                    [
                      "Scott Lopez"
                    ]
                  ],
                  "hovertemplate": "Región=Osaka<br>Continente=%{x}<br>Ganancia Total=%{y}<br>Cliente=%{customdata[0]}<extra></extra>",
                  "legendgroup": "Osaka",
                  "marker": {
                    "color": "#19d3f3",
                    "pattern": {
                      "shape": ""
                    }
                  },
                  "name": "Osaka",
                  "offsetgroup": "Osaka",
                  "orientation": "v",
                  "showlegend": true,
                  "textposition": "auto",
                  "x": [
                    "Asia"
                  ],
                  "xaxis": "x",
                  "y": {
                    "dtype": "f8",
                    "bdata": "HVpkO98HjkA="
                  },
                  "yaxis": "y",
                  "type": "bar"
                },
                {
                  "alignmentgroup": "True",
                  "customdata": [
                    [
                      "Megan Richardson"
                    ]
                  ],
                  "hovertemplate": "Región=Seoul<br>Continente=%{x}<br>Ganancia Total=%{y}<br>Cliente=%{customdata[0]}<extra></extra>",
                  "legendgroup": "Seoul",
                  "marker": {
                    "color": "#FF6692",
                    "pattern": {
                      "shape": ""
                    }
                  },
                  "name": "Seoul",
                  "offsetgroup": "Seoul",
                  "orientation": "v",
                  "showlegend": true,
                  "textposition": "auto",
                  "x": [
                    "Asia"
                  ],
                  "xaxis": "x",
                  "y": {
                    "dtype": "f8",
                    "bdata": "+aBns+pshUA="
                  },
                  "yaxis": "y",
                  "type": "bar"
                },
                {
                  "alignmentgroup": "True",
                  "customdata": [
                    [
                      "Jennifer Walters"
                    ]
                  ],
                  "hovertemplate": "Región=Shanghai<br>Continente=%{x}<br>Ganancia Total=%{y}<br>Cliente=%{customdata[0]}<extra></extra>",
                  "legendgroup": "Shanghai",
                  "marker": {
                    "color": "#B6E880",
                    "pattern": {
                      "shape": ""
                    }
                  },
                  "name": "Shanghai",
                  "offsetgroup": "Shanghai",
                  "orientation": "v",
                  "showlegend": true,
                  "textposition": "auto",
                  "x": [
                    "Asia"
                  ],
                  "xaxis": "x",
                  "y": {
                    "dtype": "f8",
                    "bdata": "+zpwzkiHpUA="
                  },
                  "yaxis": "y",
                  "type": "bar"
                },
                {
                  "alignmentgroup": "True",
                  "customdata": [
                    [
                      "Ryan Meyer"
                    ]
                  ],
                  "hovertemplate": "Región=Surabaya<br>Continente=%{x}<br>Ganancia Total=%{y}<br>Cliente=%{customdata[0]}<extra></extra>",
                  "legendgroup": "Surabaya",
                  "marker": {
                    "color": "#FF97FF",
                    "pattern": {
                      "shape": ""
                    }
                  },
                  "name": "Surabaya",
                  "offsetgroup": "Surabaya",
                  "orientation": "v",
                  "showlegend": true,
                  "textposition": "auto",
                  "x": [
                    "Asia"
                  ],
                  "xaxis": "x",
                  "y": {
                    "dtype": "f8",
                    "bdata": "XI/C9ShDk0A="
                  },
                  "yaxis": "y",
                  "type": "bar"
                },
                {
                  "alignmentgroup": "True",
                  "customdata": [
                    [
                      "Angela Williams"
                    ]
                  ],
                  "hovertemplate": "Región=Tokyo<br>Continente=%{x}<br>Ganancia Total=%{y}<br>Cliente=%{customdata[0]}<extra></extra>",
                  "legendgroup": "Tokyo",
                  "marker": {
                    "color": "#FECB52",
                    "pattern": {
                      "shape": ""
                    }
                  },
                  "name": "Tokyo",
                  "offsetgroup": "Tokyo",
                  "orientation": "v",
                  "showlegend": true,
                  "textposition": "auto",
                  "x": [
                    "Asia"
                  ],
                  "xaxis": "x",
                  "y": {
                    "dtype": "f8",
                    "bdata": "JzEIrBzodkA="
                  },
                  "yaxis": "y",
                  "type": "bar"
                },
                {
                  "alignmentgroup": "True",
                  "customdata": [
                    [
                      "Mark Hill"
                    ]
                  ],
                  "hovertemplate": "Región=Andalusia<br>Continente=%{x}<br>Ganancia Total=%{y}<br>Cliente=%{customdata[0]}<extra></extra>",
                  "legendgroup": "Andalusia",
                  "marker": {
                    "color": "#636efa",
                    "pattern": {
                      "shape": ""
                    }
                  },
                  "name": "Andalusia",
                  "offsetgroup": "Andalusia",
                  "orientation": "v",
                  "showlegend": true,
                  "textposition": "auto",
                  "x": [
                    "Europe"
                  ],
                  "xaxis": "x",
                  "y": {
                    "dtype": "f8",
                    "bdata": "MzMzMzN9nkA="
                  },
                  "yaxis": "y",
                  "type": "bar"
                },
                {
                  "alignmentgroup": "True",
                  "customdata": [
                    [
                      "Kelli Conley"
                    ]
                  ],
                  "hovertemplate": "Región=Baden-Wurttemberg<br>Continente=%{x}<br>Ganancia Total=%{y}<br>Cliente=%{customdata[0]}<extra></extra>",
                  "legendgroup": "Baden-Wurttemberg",
                  "marker": {
                    "color": "#EF553B",
                    "pattern": {
                      "shape": ""
                    }
                  },
                  "name": "Baden-Wurttemberg",
                  "offsetgroup": "Baden-Wurttemberg",
                  "orientation": "v",
                  "showlegend": true,
                  "textposition": "auto",
                  "x": [
                    "Europe"
                  ],
                  "xaxis": "x",
                  "y": {
                    "dtype": "f8",
                    "bdata": "hetRuB5kkEA="
                  },
                  "yaxis": "y",
                  "type": "bar"
                },
                {
                  "alignmentgroup": "True",
                  "customdata": [
                    [
                      "Alicia Rice"
                    ]
                  ],
                  "hovertemplate": "Región=Bavaria<br>Continente=%{x}<br>Ganancia Total=%{y}<br>Cliente=%{customdata[0]}<extra></extra>",
                  "legendgroup": "Bavaria",
                  "marker": {
                    "color": "#00cc96",
                    "pattern": {
                      "shape": ""
                    }
                  },
                  "name": "Bavaria",
                  "offsetgroup": "Bavaria",
                  "orientation": "v",
                  "showlegend": true,
                  "textposition": "auto",
                  "x": [
                    "Europe"
                  ],
                  "xaxis": "x",
                  "y": {
                    "dtype": "f8",
                    "bdata": "AAAAAAB4jUA="
                  },
                  "yaxis": "y",
                  "type": "bar"
                },
                {
                  "alignmentgroup": "True",
                  "customdata": [
                    [
                      "Bryan Bates"
                    ]
                  ],
                  "hovertemplate": "Región=Catalonia<br>Continente=%{x}<br>Ganancia Total=%{y}<br>Cliente=%{customdata[0]}<extra></extra>",
                  "legendgroup": "Catalonia",
                  "marker": {
                    "color": "#ab63fa",
                    "pattern": {
                      "shape": ""
                    }
                  },
                  "name": "Catalonia",
                  "offsetgroup": "Catalonia",
                  "orientation": "v",
                  "showlegend": true,
                  "textposition": "auto",
                  "x": [
                    "Europe"
                  ],
                  "xaxis": "x",
                  "y": {
                    "dtype": "f8",
                    "bdata": "Vg4tst1nm0A="
                  },
                  "yaxis": "y",
                  "type": "bar"
                },
                {
                  "alignmentgroup": "True",
                  "customdata": [
                    [
                      "Stacey Martin"
                    ]
                  ],
                  "hovertemplate": "Región=England<br>Continente=%{x}<br>Ganancia Total=%{y}<br>Cliente=%{customdata[0]}<extra></extra>",
                  "legendgroup": "England",
                  "marker": {
                    "color": "#FFA15A",
                    "pattern": {
                      "shape": ""
                    }
                  },
                  "name": "England",
                  "offsetgroup": "England",
                  "orientation": "v",
                  "showlegend": true,
                  "textposition": "auto",
                  "x": [
                    "Europe"
                  ],
                  "xaxis": "x",
                  "y": {
                    "dtype": "f8",
                    "bdata": "coqO5DKekUA="
                  },
                  "yaxis": "y",
                  "type": "bar"
                },
                {
                  "alignmentgroup": "True",
                  "customdata": [
                    [
                      "Richard Flores"
                    ]
                  ],
                  "hovertemplate": "Región=Ile-de-France<br>Continente=%{x}<br>Ganancia Total=%{y}<br>Cliente=%{customdata[0]}<extra></extra>",
                  "legendgroup": "Ile-de-France",
                  "marker": {
                    "color": "#19d3f3",
                    "pattern": {
                      "shape": ""
                    }
                  },
                  "name": "Ile-de-France",
                  "offsetgroup": "Ile-de-France",
                  "orientation": "v",
                  "showlegend": true,
                  "textposition": "auto",
                  "x": [
                    "Europe"
                  ],
                  "xaxis": "x",
                  "y": {
                    "dtype": "f8",
                    "bdata": "OUVHcvkNiUA="
                  },
                  "yaxis": "y",
                  "type": "bar"
                },
                {
                  "alignmentgroup": "True",
                  "customdata": [
                    [
                      "Adrienne Ellis"
                    ]
                  ],
                  "hovertemplate": "Región=Lombardy<br>Continente=%{x}<br>Ganancia Total=%{y}<br>Cliente=%{customdata[0]}<extra></extra>",
                  "legendgroup": "Lombardy",
                  "marker": {
                    "color": "#FF6692",
                    "pattern": {
                      "shape": ""
                    }
                  },
                  "name": "Lombardy",
                  "offsetgroup": "Lombardy",
                  "orientation": "v",
                  "showlegend": true,
                  "textposition": "auto",
                  "x": [
                    "Europe"
                  ],
                  "xaxis": "x",
                  "y": {
                    "dtype": "f8",
                    "bdata": "kst/SG/KsUA="
                  },
                  "yaxis": "y",
                  "type": "bar"
                },
                {
                  "alignmentgroup": "True",
                  "customdata": [
                    [
                      "Jose Williams"
                    ]
                  ],
                  "hovertemplate": "Región=Madrid<br>Continente=%{x}<br>Ganancia Total=%{y}<br>Cliente=%{customdata[0]}<extra></extra>",
                  "legendgroup": "Madrid",
                  "marker": {
                    "color": "#B6E880",
                    "pattern": {
                      "shape": ""
                    }
                  },
                  "name": "Madrid",
                  "offsetgroup": "Madrid",
                  "orientation": "v",
                  "showlegend": true,
                  "textposition": "auto",
                  "x": [
                    "Europe"
                  ],
                  "xaxis": "x",
                  "y": {
                    "dtype": "f8",
                    "bdata": "cD0K16NWp0A="
                  },
                  "yaxis": "y",
                  "type": "bar"
                },
                {
                  "alignmentgroup": "True",
                  "customdata": [
                    [
                      "Paul Watson"
                    ]
                  ],
                  "hovertemplate": "Región=North Rhine-Westphalia<br>Continente=%{x}<br>Ganancia Total=%{y}<br>Cliente=%{customdata[0]}<extra></extra>",
                  "legendgroup": "North Rhine-Westphalia",
                  "marker": {
                    "color": "#FF97FF",
                    "pattern": {
                      "shape": ""
                    }
                  },
                  "name": "North Rhine-Westphalia",
                  "offsetgroup": "North Rhine-Westphalia",
                  "orientation": "v",
                  "showlegend": true,
                  "textposition": "auto",
                  "x": [
                    "Europe"
                  ],
                  "xaxis": "x",
                  "y": {
                    "dtype": "f8",
                    "bdata": "sHJoke2RhkA="
                  },
                  "yaxis": "y",
                  "type": "bar"
                },
                {
                  "alignmentgroup": "True",
                  "customdata": [
                    [
                      "Nina Stewart"
                    ]
                  ],
                  "hovertemplate": "Región=Occitanie<br>Continente=%{x}<br>Ganancia Total=%{y}<br>Cliente=%{customdata[0]}<extra></extra>",
                  "legendgroup": "Occitanie",
                  "marker": {
                    "color": "#FECB52",
                    "pattern": {
                      "shape": ""
                    }
                  },
                  "name": "Occitanie",
                  "offsetgroup": "Occitanie",
                  "orientation": "v",
                  "showlegend": true,
                  "textposition": "auto",
                  "x": [
                    "Europe"
                  ],
                  "xaxis": "x",
                  "y": {
                    "dtype": "f8",
                    "bdata": "V1uxvxwkt0A="
                  },
                  "yaxis": "y",
                  "type": "bar"
                },
                {
                  "alignmentgroup": "True",
                  "customdata": [
                    [
                      "Patrick Griffin"
                    ]
                  ],
                  "hovertemplate": "Región=Provence-Alpes-Cote d Azur<br>Continente=%{x}<br>Ganancia Total=%{y}<br>Cliente=%{customdata[0]}<extra></extra>",
                  "legendgroup": "Provence-Alpes-Cote d Azur",
                  "marker": {
                    "color": "#636efa",
                    "pattern": {
                      "shape": ""
                    }
                  },
                  "name": "Provence-Alpes-Cote d Azur",
                  "offsetgroup": "Provence-Alpes-Cote d Azur",
                  "orientation": "v",
                  "showlegend": true,
                  "textposition": "auto",
                  "x": [
                    "Europe"
                  ],
                  "xaxis": "x",
                  "y": {
                    "dtype": "f8",
                    "bdata": "jZduEoM6kkA="
                  },
                  "yaxis": "y",
                  "type": "bar"
                },
                {
                  "alignmentgroup": "True",
                  "customdata": [
                    [
                      "Emily Sanders"
                    ]
                  ],
                  "hovertemplate": "Región=Scotland<br>Continente=%{x}<br>Ganancia Total=%{y}<br>Cliente=%{customdata[0]}<extra></extra>",
                  "legendgroup": "Scotland",
                  "marker": {
                    "color": "#EF553B",
                    "pattern": {
                      "shape": ""
                    }
                  },
                  "name": "Scotland",
                  "offsetgroup": "Scotland",
                  "orientation": "v",
                  "showlegend": true,
                  "textposition": "auto",
                  "x": [
                    "Europe"
                  ],
                  "xaxis": "x",
                  "y": {
                    "dtype": "f8",
                    "bdata": "7nw/NV5WdEA="
                  },
                  "yaxis": "y",
                  "type": "bar"
                },
                {
                  "alignmentgroup": "True",
                  "customdata": [
                    [
                      "Daniel Hicks"
                    ]
                  ],
                  "hovertemplate": "Región=Sicily<br>Continente=%{x}<br>Ganancia Total=%{y}<br>Cliente=%{customdata[0]}<extra></extra>",
                  "legendgroup": "Sicily",
                  "marker": {
                    "color": "#00cc96",
                    "pattern": {
                      "shape": ""
                    }
                  },
                  "name": "Sicily",
                  "offsetgroup": "Sicily",
                  "orientation": "v",
                  "showlegend": true,
                  "textposition": "auto",
                  "x": [
                    "Europe"
                  ],
                  "xaxis": "x",
                  "y": {
                    "dtype": "f8",
                    "bdata": "4P3xXjVak0A="
                  },
                  "yaxis": "y",
                  "type": "bar"
                },
                {
                  "alignmentgroup": "True",
                  "customdata": [
                    [
                      "Gabriel Sanders"
                    ]
                  ],
                  "hovertemplate": "Región=Tuscany<br>Continente=%{x}<br>Ganancia Total=%{y}<br>Cliente=%{customdata[0]}<extra></extra>",
                  "legendgroup": "Tuscany",
                  "marker": {
                    "color": "#ab63fa",
                    "pattern": {
                      "shape": ""
                    }
                  },
                  "name": "Tuscany",
                  "offsetgroup": "Tuscany",
                  "orientation": "v",
                  "showlegend": true,
                  "textposition": "auto",
                  "x": [
                    "Europe"
                  ],
                  "xaxis": "x",
                  "y": {
                    "dtype": "f8",
                    "bdata": "uB6F61GmiEA="
                  },
                  "yaxis": "y",
                  "type": "bar"
                },
                {
                  "alignmentgroup": "True",
                  "customdata": [
                    [
                      "David Hamilton"
                    ]
                  ],
                  "hovertemplate": "Región=Wales<br>Continente=%{x}<br>Ganancia Total=%{y}<br>Cliente=%{customdata[0]}<extra></extra>",
                  "legendgroup": "Wales",
                  "marker": {
                    "color": "#FFA15A",
                    "pattern": {
                      "shape": ""
                    }
                  },
                  "name": "Wales",
                  "offsetgroup": "Wales",
                  "orientation": "v",
                  "showlegend": true,
                  "textposition": "auto",
                  "x": [
                    "Europe"
                  ],
                  "xaxis": "x",
                  "y": {
                    "dtype": "f8",
                    "bdata": "rIvbaAASfUA="
                  },
                  "yaxis": "y",
                  "type": "bar"
                },
                {
                  "alignmentgroup": "True",
                  "customdata": [
                    [
                      "Elizabeth Nolan"
                    ]
                  ],
                  "hovertemplate": "Región=British Columbia<br>Continente=%{x}<br>Ganancia Total=%{y}<br>Cliente=%{customdata[0]}<extra></extra>",
                  "legendgroup": "British Columbia",
                  "marker": {
                    "color": "#19d3f3",
                    "pattern": {
                      "shape": ""
                    }
                  },
                  "name": "British Columbia",
                  "offsetgroup": "British Columbia",
                  "orientation": "v",
                  "showlegend": true,
                  "textposition": "auto",
                  "x": [
                    "North America"
                  ],
                  "xaxis": "x",
                  "y": {
                    "dtype": "f8",
                    "bdata": "Y+5aQn6zoEA="
                  },
                  "yaxis": "y",
                  "type": "bar"
                },
                {
                  "alignmentgroup": "True",
                  "customdata": [
                    [
                      "Roger Jordan"
                    ]
                  ],
                  "hovertemplate": "Región=California<br>Continente=%{x}<br>Ganancia Total=%{y}<br>Cliente=%{customdata[0]}<extra></extra>",
                  "legendgroup": "California",
                  "marker": {
                    "color": "#FF6692",
                    "pattern": {
                      "shape": ""
                    }
                  },
                  "name": "California",
                  "offsetgroup": "California",
                  "orientation": "v",
                  "showlegend": true,
                  "textposition": "auto",
                  "x": [
                    "North America"
                  ],
                  "xaxis": "x",
                  "y": {
                    "dtype": "f8",
                    "bdata": "s+pztdXkk0A="
                  },
                  "yaxis": "y",
                  "type": "bar"
                },
                {
                  "alignmentgroup": "True",
                  "customdata": [
                    [
                      "Kristin Lopez"
                    ]
                  ],
                  "hovertemplate": "Región=Camaguey<br>Continente=%{x}<br>Ganancia Total=%{y}<br>Cliente=%{customdata[0]}<extra></extra>",
                  "legendgroup": "Camaguey",
                  "marker": {
                    "color": "#B6E880",
                    "pattern": {
                      "shape": ""
                    }
                  },
                  "name": "Camaguey",
                  "offsetgroup": "Camaguey",
                  "orientation": "v",
                  "showlegend": true,
                  "textposition": "auto",
                  "x": [
                    "North America"
                  ],
                  "xaxis": "x",
                  "y": {
                    "dtype": "f8",
                    "bdata": "yXa+nxqwekA="
                  },
                  "yaxis": "y",
                  "type": "bar"
                },
                {
                  "alignmentgroup": "True",
                  "customdata": [
                    [
                      "Daniel Hicks"
                    ]
                  ],
                  "hovertemplate": "Región=Escuintla<br>Continente=%{x}<br>Ganancia Total=%{y}<br>Cliente=%{customdata[0]}<extra></extra>",
                  "legendgroup": "Escuintla",
                  "marker": {
                    "color": "#FF97FF",
                    "pattern": {
                      "shape": ""
                    }
                  },
                  "name": "Escuintla",
                  "offsetgroup": "Escuintla",
                  "orientation": "v",
                  "showlegend": true,
                  "textposition": "auto",
                  "x": [
                    "North America"
                  ],
                  "xaxis": "x",
                  "y": {
                    "dtype": "f8",
                    "bdata": "uB6F61HqvEA="
                  },
                  "yaxis": "y",
                  "type": "bar"
                },
                {
                  "alignmentgroup": "True",
                  "customdata": [
                    [
                      "Stephen Martinez"
                    ]
                  ],
                  "hovertemplate": "Región=Florida<br>Continente=%{x}<br>Ganancia Total=%{y}<br>Cliente=%{customdata[0]}<extra></extra>",
                  "legendgroup": "Florida",
                  "marker": {
                    "color": "#FECB52",
                    "pattern": {
                      "shape": ""
                    }
                  },
                  "name": "Florida",
                  "offsetgroup": "Florida",
                  "orientation": "v",
                  "showlegend": true,
                  "textposition": "auto",
                  "x": [
                    "North America"
                  ],
                  "xaxis": "x",
                  "y": {
                    "dtype": "f8",
                    "bdata": "AAAAAIDSr0A="
                  },
                  "yaxis": "y",
                  "type": "bar"
                },
                {
                  "alignmentgroup": "True",
                  "customdata": [
                    [
                      "Gary Mcclure"
                    ]
                  ],
                  "hovertemplate": "Región=Guatemala City<br>Continente=%{x}<br>Ganancia Total=%{y}<br>Cliente=%{customdata[0]}<extra></extra>",
                  "legendgroup": "Guatemala City",
                  "marker": {
                    "color": "#636efa",
                    "pattern": {
                      "shape": ""
                    }
                  },
                  "name": "Guatemala City",
                  "offsetgroup": "Guatemala City",
                  "orientation": "v",
                  "showlegend": true,
                  "textposition": "auto",
                  "x": [
                    "North America"
                  ],
                  "xaxis": "x",
                  "y": {
                    "dtype": "f8",
                    "bdata": "7FG4HoU9kkA="
                  },
                  "yaxis": "y",
                  "type": "bar"
                },
                {
                  "alignmentgroup": "True",
                  "customdata": [
                    [
                      "Stanley Morris"
                    ]
                  ],
                  "hovertemplate": "Región=Havana<br>Continente=%{x}<br>Ganancia Total=%{y}<br>Cliente=%{customdata[0]}<extra></extra>",
                  "legendgroup": "Havana",
                  "marker": {
                    "color": "#EF553B",
                    "pattern": {
                      "shape": ""
                    }
                  },
                  "name": "Havana",
                  "offsetgroup": "Havana",
                  "orientation": "v",
                  "showlegend": true,
                  "textposition": "auto",
                  "x": [
                    "North America"
                  ],
                  "xaxis": "x",
                  "y": {
                    "dtype": "f8",
                    "bdata": "1edqK/bjkkA="
                  },
                  "yaxis": "y",
                  "type": "bar"
                },
                {
                  "alignmentgroup": "True",
                  "customdata": [
                    [
                      "Rebecca Silva"
                    ]
                  ],
                  "hovertemplate": "Región=Jalisco<br>Continente=%{x}<br>Ganancia Total=%{y}<br>Cliente=%{customdata[0]}<extra></extra>",
                  "legendgroup": "Jalisco",
                  "marker": {
                    "color": "#00cc96",
                    "pattern": {
                      "shape": ""
                    }
                  },
                  "name": "Jalisco",
                  "offsetgroup": "Jalisco",
                  "orientation": "v",
                  "showlegend": true,
                  "textposition": "auto",
                  "x": [
                    "North America"
                  ],
                  "xaxis": "x",
                  "y": {
                    "dtype": "f8",
                    "bdata": "yzLEsS4tkUA="
                  },
                  "yaxis": "y",
                  "type": "bar"
                },
                {
                  "alignmentgroup": "True",
                  "customdata": [
                    [
                      "Jose Williams"
                    ]
                  ],
                  "hovertemplate": "Región=Mexico City<br>Continente=%{x}<br>Ganancia Total=%{y}<br>Cliente=%{customdata[0]}<extra></extra>",
                  "legendgroup": "Mexico City",
                  "marker": {
                    "color": "#ab63fa",
                    "pattern": {
                      "shape": ""
                    }
                  },
                  "name": "Mexico City",
                  "offsetgroup": "Mexico City",
                  "orientation": "v",
                  "showlegend": true,
                  "textposition": "auto",
                  "x": [
                    "North America"
                  ],
                  "xaxis": "x",
                  "y": {
                    "dtype": "f8",
                    "bdata": "IR/0bFZwgEA="
                  },
                  "yaxis": "y",
                  "type": "bar"
                },
                {
                  "alignmentgroup": "True",
                  "customdata": [
                    [
                      "Christina Young"
                    ]
                  ],
                  "hovertemplate": "Región=Nuevo Leon<br>Continente=%{x}<br>Ganancia Total=%{y}<br>Cliente=%{customdata[0]}<extra></extra>",
                  "legendgroup": "Nuevo Leon",
                  "marker": {
                    "color": "#FFA15A",
                    "pattern": {
                      "shape": ""
                    }
                  },
                  "name": "Nuevo Leon",
                  "offsetgroup": "Nuevo Leon",
                  "orientation": "v",
                  "showlegend": true,
                  "textposition": "auto",
                  "x": [
                    "North America"
                  ],
                  "xaxis": "x",
                  "y": {
                    "dtype": "f8",
                    "bdata": "PzVeuonWs0A="
                  },
                  "yaxis": "y",
                  "type": "bar"
                },
                {
                  "alignmentgroup": "True",
                  "customdata": [
                    [
                      "Jason Anderson"
                    ]
                  ],
                  "hovertemplate": "Región=Ontario<br>Continente=%{x}<br>Ganancia Total=%{y}<br>Cliente=%{customdata[0]}<extra></extra>",
                  "legendgroup": "Ontario",
                  "marker": {
                    "color": "#19d3f3",
                    "pattern": {
                      "shape": ""
                    }
                  },
                  "name": "Ontario",
                  "offsetgroup": "Ontario",
                  "orientation": "v",
                  "showlegend": true,
                  "textposition": "auto",
                  "x": [
                    "North America"
                  ],
                  "xaxis": "x",
                  "y": {
                    "dtype": "f8",
                    "bdata": "nDOitPcXpUA="
                  },
                  "yaxis": "y",
                  "type": "bar"
                },
                {
                  "alignmentgroup": "True",
                  "customdata": [
                    [
                      "Alicia Rice"
                    ]
                  ],
                  "hovertemplate": "Región=Quebec<br>Continente=%{x}<br>Ganancia Total=%{y}<br>Cliente=%{customdata[0]}<extra></extra>",
                  "legendgroup": "Quebec",
                  "marker": {
                    "color": "#FF6692",
                    "pattern": {
                      "shape": ""
                    }
                  },
                  "name": "Quebec",
                  "offsetgroup": "Quebec",
                  "orientation": "v",
                  "showlegend": true,
                  "textposition": "auto",
                  "x": [
                    "North America"
                  ],
                  "xaxis": "x",
                  "y": {
                    "dtype": "f8",
                    "bdata": "lrIMcWyxlUA="
                  },
                  "yaxis": "y",
                  "type": "bar"
                },
                {
                  "alignmentgroup": "True",
                  "customdata": [
                    [
                      "Richard Flores"
                    ]
                  ],
                  "hovertemplate": "Región=Quetzaltenango<br>Continente=%{x}<br>Ganancia Total=%{y}<br>Cliente=%{customdata[0]}<extra></extra>",
                  "legendgroup": "Quetzaltenango",
                  "marker": {
                    "color": "#B6E880",
                    "pattern": {
                      "shape": ""
                    }
                  },
                  "name": "Quetzaltenango",
                  "offsetgroup": "Quetzaltenango",
                  "orientation": "v",
                  "showlegend": true,
                  "textposition": "auto",
                  "x": [
                    "North America"
                  ],
                  "xaxis": "x",
                  "y": {
                    "dtype": "f8",
                    "bdata": "EqW9wTeDr0A="
                  },
                  "yaxis": "y",
                  "type": "bar"
                },
                {
                  "alignmentgroup": "True",
                  "customdata": [
                    [
                      "Marie Cross"
                    ]
                  ],
                  "hovertemplate": "Región=Santiago de Cuba<br>Continente=%{x}<br>Ganancia Total=%{y}<br>Cliente=%{customdata[0]}<extra></extra>",
                  "legendgroup": "Santiago de Cuba",
                  "marker": {
                    "color": "#FF97FF",
                    "pattern": {
                      "shape": ""
                    }
                  },
                  "name": "Santiago de Cuba",
                  "offsetgroup": "Santiago de Cuba",
                  "orientation": "v",
                  "showlegend": true,
                  "textposition": "auto",
                  "x": [
                    "North America"
                  ],
                  "xaxis": "x",
                  "y": {
                    "dtype": "f8",
                    "bdata": "ldQJaGLakkA="
                  },
                  "yaxis": "y",
                  "type": "bar"
                },
                {
                  "alignmentgroup": "True",
                  "customdata": [
                    [
                      "Leon Oconnell"
                    ]
                  ],
                  "hovertemplate": "Región=Texas<br>Continente=%{x}<br>Ganancia Total=%{y}<br>Cliente=%{customdata[0]}<extra></extra>",
                  "legendgroup": "Texas",
                  "marker": {
                    "color": "#FECB52",
                    "pattern": {
                      "shape": ""
                    }
                  },
                  "name": "Texas",
                  "offsetgroup": "Texas",
                  "orientation": "v",
                  "showlegend": true,
                  "textposition": "auto",
                  "x": [
                    "North America"
                  ],
                  "xaxis": "x",
                  "y": {
                    "dtype": "f8",
                    "bdata": "XI/C9SjUgEA="
                  },
                  "yaxis": "y",
                  "type": "bar"
                },
                {
                  "alignmentgroup": "True",
                  "customdata": [
                    [
                      "Brandon Evans"
                    ]
                  ],
                  "hovertemplate": "Región=Auckland<br>Continente=%{x}<br>Ganancia Total=%{y}<br>Cliente=%{customdata[0]}<extra></extra>",
                  "legendgroup": "Auckland",
                  "marker": {
                    "color": "#636efa",
                    "pattern": {
                      "shape": ""
                    }
                  },
                  "name": "Auckland",
                  "offsetgroup": "Auckland",
                  "orientation": "v",
                  "showlegend": true,
                  "textposition": "auto",
                  "x": [
                    "Oceania"
                  ],
                  "xaxis": "x",
                  "y": {
                    "dtype": "f8",
                    "bdata": "7lpCPmgdskA="
                  },
                  "yaxis": "y",
                  "type": "bar"
                },
                {
                  "alignmentgroup": "True",
                  "customdata": [
                    [
                      "Mark Hill"
                    ]
                  ],
                  "hovertemplate": "Región=Auki<br>Continente=%{x}<br>Ganancia Total=%{y}<br>Cliente=%{customdata[0]}<extra></extra>",
                  "legendgroup": "Auki",
                  "marker": {
                    "color": "#EF553B",
                    "pattern": {
                      "shape": ""
                    }
                  },
                  "name": "Auki",
                  "offsetgroup": "Auki",
                  "orientation": "v",
                  "showlegend": true,
                  "textposition": "auto",
                  "x": [
                    "Oceania"
                  ],
                  "xaxis": "x",
                  "y": {
                    "dtype": "f8",
                    "bdata": "FK5H4XpxmUA="
                  },
                  "yaxis": "y",
                  "type": "bar"
                },
                {
                  "alignmentgroup": "True",
                  "customdata": [
                    [
                      "Marissa Leach"
                    ]
                  ],
                  "hovertemplate": "Región=Christchurch<br>Continente=%{x}<br>Ganancia Total=%{y}<br>Cliente=%{customdata[0]}<extra></extra>",
                  "legendgroup": "Christchurch",
                  "marker": {
                    "color": "#00cc96",
                    "pattern": {
                      "shape": ""
                    }
                  },
                  "name": "Christchurch",
                  "offsetgroup": "Christchurch",
                  "orientation": "v",
                  "showlegend": true,
                  "textposition": "auto",
                  "x": [
                    "Oceania"
                  ],
                  "xaxis": "x",
                  "y": {
                    "dtype": "f8",
                    "bdata": "FK5H4Xpwl0A="
                  },
                  "yaxis": "y",
                  "type": "bar"
                },
                {
                  "alignmentgroup": "True",
                  "customdata": [
                    [
                      "Brandon Evans"
                    ]
                  ],
                  "hovertemplate": "Región=Gizo<br>Continente=%{x}<br>Ganancia Total=%{y}<br>Cliente=%{customdata[0]}<extra></extra>",
                  "legendgroup": "Gizo",
                  "marker": {
                    "color": "#ab63fa",
                    "pattern": {
                      "shape": ""
                    }
                  },
                  "name": "Gizo",
                  "offsetgroup": "Gizo",
                  "orientation": "v",
                  "showlegend": true,
                  "textposition": "auto",
                  "x": [
                    "Oceania"
                  ],
                  "xaxis": "x",
                  "y": {
                    "dtype": "f8",
                    "bdata": "UfwYc9cPlEA="
                  },
                  "yaxis": "y",
                  "type": "bar"
                },
                {
                  "alignmentgroup": "True",
                  "customdata": [
                    [
                      "Adrienne Ellis"
                    ]
                  ],
                  "hovertemplate": "Región=Honiara<br>Continente=%{x}<br>Ganancia Total=%{y}<br>Cliente=%{customdata[0]}<extra></extra>",
                  "legendgroup": "Honiara",
                  "marker": {
                    "color": "#FFA15A",
                    "pattern": {
                      "shape": ""
                    }
                  },
                  "name": "Honiara",
                  "offsetgroup": "Honiara",
                  "orientation": "v",
                  "showlegend": true,
                  "textposition": "auto",
                  "x": [
                    "Oceania"
                  ],
                  "xaxis": "x",
                  "y": {
                    "dtype": "f8",
                    "bdata": "30+Nl27Rc0A="
                  },
                  "yaxis": "y",
                  "type": "bar"
                },
                {
                  "alignmentgroup": "True",
                  "customdata": [
                    [
                      "Alicia Rice"
                    ]
                  ],
                  "hovertemplate": "Región=Lae<br>Continente=%{x}<br>Ganancia Total=%{y}<br>Cliente=%{customdata[0]}<extra></extra>",
                  "legendgroup": "Lae",
                  "marker": {
                    "color": "#19d3f3",
                    "pattern": {
                      "shape": ""
                    }
                  },
                  "name": "Lae",
                  "offsetgroup": "Lae",
                  "orientation": "v",
                  "showlegend": true,
                  "textposition": "auto",
                  "x": [
                    "Oceania"
                  ],
                  "xaxis": "x",
                  "y": {
                    "dtype": "f8",
                    "bdata": "j8L1KFzHakA="
                  },
                  "yaxis": "y",
                  "type": "bar"
                },
                {
                  "alignmentgroup": "True",
                  "customdata": [
                    [
                      "Gene Miller"
                    ]
                  ],
                  "hovertemplate": "Región=Lautoka<br>Continente=%{x}<br>Ganancia Total=%{y}<br>Cliente=%{customdata[0]}<extra></extra>",
                  "legendgroup": "Lautoka",
                  "marker": {
                    "color": "#FF6692",
                    "pattern": {
                      "shape": ""
                    }
                  },
                  "name": "Lautoka",
                  "offsetgroup": "Lautoka",
                  "orientation": "v",
                  "showlegend": true,
                  "textposition": "auto",
                  "x": [
                    "Oceania"
                  ],
                  "xaxis": "x",
                  "y": {
                    "dtype": "f8",
                    "bdata": "XI/C9ShWgUA="
                  },
                  "yaxis": "y",
                  "type": "bar"
                },
                {
                  "alignmentgroup": "True",
                  "customdata": [
                    [
                      "Jose Williams"
                    ]
                  ],
                  "hovertemplate": "Región=Madang<br>Continente=%{x}<br>Ganancia Total=%{y}<br>Cliente=%{customdata[0]}<extra></extra>",
                  "legendgroup": "Madang",
                  "marker": {
                    "color": "#B6E880",
                    "pattern": {
                      "shape": ""
                    }
                  },
                  "name": "Madang",
                  "offsetgroup": "Madang",
                  "orientation": "v",
                  "showlegend": true,
                  "textposition": "auto",
                  "x": [
                    "Oceania"
                  ],
                  "xaxis": "x",
                  "y": {
                    "dtype": "f8",
                    "bdata": "mpmZmZmZaEA="
                  },
                  "yaxis": "y",
                  "type": "bar"
                },
                {
                  "alignmentgroup": "True",
                  "customdata": [
                    [
                      "Emily Mitchell"
                    ]
                  ],
                  "hovertemplate": "Región=Nadi<br>Continente=%{x}<br>Ganancia Total=%{y}<br>Cliente=%{customdata[0]}<extra></extra>",
                  "legendgroup": "Nadi",
                  "marker": {
                    "color": "#FF97FF",
                    "pattern": {
                      "shape": ""
                    }
                  },
                  "name": "Nadi",
                  "offsetgroup": "Nadi",
                  "orientation": "v",
                  "showlegend": true,
                  "textposition": "auto",
                  "x": [
                    "Oceania"
                  ],
                  "xaxis": "x",
                  "y": {
                    "dtype": "f8",
                    "bdata": "hetRuB7lZEA="
                  },
                  "yaxis": "y",
                  "type": "bar"
                },
                {
                  "alignmentgroup": "True",
                  "customdata": [
                    [
                      "Mark Hill"
                    ]
                  ],
                  "hovertemplate": "Región=New South Wales<br>Continente=%{x}<br>Ganancia Total=%{y}<br>Cliente=%{customdata[0]}<extra></extra>",
                  "legendgroup": "New South Wales",
                  "marker": {
                    "color": "#FECB52",
                    "pattern": {
                      "shape": ""
                    }
                  },
                  "name": "New South Wales",
                  "offsetgroup": "New South Wales",
                  "orientation": "v",
                  "showlegend": true,
                  "textposition": "auto",
                  "x": [
                    "Oceania"
                  ],
                  "xaxis": "x",
                  "y": {
                    "dtype": "f8",
                    "bdata": "PQrXo3C2oUA="
                  },
                  "yaxis": "y",
                  "type": "bar"
                },
                {
                  "alignmentgroup": "True",
                  "customdata": [
                    [
                      "Linda Torres"
                    ]
                  ],
                  "hovertemplate": "Región=Port Moresby<br>Continente=%{x}<br>Ganancia Total=%{y}<br>Cliente=%{customdata[0]}<extra></extra>",
                  "legendgroup": "Port Moresby",
                  "marker": {
                    "color": "#636efa",
                    "pattern": {
                      "shape": ""
                    }
                  },
                  "name": "Port Moresby",
                  "offsetgroup": "Port Moresby",
                  "orientation": "v",
                  "showlegend": true,
                  "textposition": "auto",
                  "x": [
                    "Oceania"
                  ],
                  "xaxis": "x",
                  "y": {
                    "dtype": "f8",
                    "bdata": "f2q8dJNVekA="
                  },
                  "yaxis": "y",
                  "type": "bar"
                },
                {
                  "alignmentgroup": "True",
                  "customdata": [
                    [
                      "Scott Lopez"
                    ]
                  ],
                  "hovertemplate": "Región=Queensland<br>Continente=%{x}<br>Ganancia Total=%{y}<br>Cliente=%{customdata[0]}<extra></extra>",
                  "legendgroup": "Queensland",
                  "marker": {
                    "color": "#EF553B",
                    "pattern": {
                      "shape": ""
                    }
                  },
                  "name": "Queensland",
                  "offsetgroup": "Queensland",
                  "orientation": "v",
                  "showlegend": true,
                  "textposition": "auto",
                  "x": [
                    "Oceania"
                  ],
                  "xaxis": "x",
                  "y": {
                    "dtype": "f8",
                    "bdata": "6lvmdFk8SEA="
                  },
                  "yaxis": "y",
                  "type": "bar"
                },
                {
                  "alignmentgroup": "True",
                  "customdata": [
                    [
                      "Cheryl Gray"
                    ]
                  ],
                  "hovertemplate": "Región=Suva<br>Continente=%{x}<br>Ganancia Total=%{y}<br>Cliente=%{customdata[0]}<extra></extra>",
                  "legendgroup": "Suva",
                  "marker": {
                    "color": "#00cc96",
                    "pattern": {
                      "shape": ""
                    }
                  },
                  "name": "Suva",
                  "offsetgroup": "Suva",
                  "orientation": "v",
                  "showlegend": true,
                  "textposition": "auto",
                  "x": [
                    "Oceania"
                  ],
                  "xaxis": "x",
                  "y": {
                    "dtype": "f8",
                    "bdata": "c9cS8kHeo0A="
                  },
                  "yaxis": "y",
                  "type": "bar"
                },
                {
                  "alignmentgroup": "True",
                  "customdata": [
                    [
                      "Kristin Romero"
                    ]
                  ],
                  "hovertemplate": "Región=Victoria<br>Continente=%{x}<br>Ganancia Total=%{y}<br>Cliente=%{customdata[0]}<extra></extra>",
                  "legendgroup": "Victoria",
                  "marker": {
                    "color": "#ab63fa",
                    "pattern": {
                      "shape": ""
                    }
                  },
                  "name": "Victoria",
                  "offsetgroup": "Victoria",
                  "orientation": "v",
                  "showlegend": true,
                  "textposition": "auto",
                  "x": [
                    "Oceania"
                  ],
                  "xaxis": "x",
                  "y": {
                    "dtype": "f8",
                    "bdata": "4XoUrkc5ZkA="
                  },
                  "yaxis": "y",
                  "type": "bar"
                },
                {
                  "alignmentgroup": "True",
                  "customdata": [
                    [
                      "Martha Drake"
                    ]
                  ],
                  "hovertemplate": "Región=Wellington<br>Continente=%{x}<br>Ganancia Total=%{y}<br>Cliente=%{customdata[0]}<extra></extra>",
                  "legendgroup": "Wellington",
                  "marker": {
                    "color": "#FFA15A",
                    "pattern": {
                      "shape": ""
                    }
                  },
                  "name": "Wellington",
                  "offsetgroup": "Wellington",
                  "orientation": "v",
                  "showlegend": true,
                  "textposition": "auto",
                  "x": [
                    "Oceania"
                  ],
                  "xaxis": "x",
                  "y": {
                    "dtype": "f8",
                    "bdata": "WmQ7309NXUA="
                  },
                  "yaxis": "y",
                  "type": "bar"
                },
                {
                  "alignmentgroup": "True",
                  "customdata": [
                    [
                      "Benjamin Miller"
                    ]
                  ],
                  "hovertemplate": "Región=Arequipa<br>Continente=%{x}<br>Ganancia Total=%{y}<br>Cliente=%{customdata[0]}<extra></extra>",
                  "legendgroup": "Arequipa",
                  "marker": {
                    "color": "#19d3f3",
                    "pattern": {
                      "shape": ""
                    }
                  },
                  "name": "Arequipa",
                  "offsetgroup": "Arequipa",
                  "orientation": "v",
                  "showlegend": true,
                  "textposition": "auto",
                  "x": [
                    "South America"
                  ],
                  "xaxis": "x",
                  "y": {
                    "dtype": "f8",
                    "bdata": "R3L5D+n2lkA="
                  },
                  "yaxis": "y",
                  "type": "bar"
                },
                {
                  "alignmentgroup": "True",
                  "customdata": [
                    [
                      "Misty Boone"
                    ]
                  ],
                  "hovertemplate": "Región=Bahia<br>Continente=%{x}<br>Ganancia Total=%{y}<br>Cliente=%{customdata[0]}<extra></extra>",
                  "legendgroup": "Bahia",
                  "marker": {
                    "color": "#FF6692",
                    "pattern": {
                      "shape": ""
                    }
                  },
                  "name": "Bahia",
                  "offsetgroup": "Bahia",
                  "orientation": "v",
                  "showlegend": true,
                  "textposition": "auto",
                  "x": [
                    "South America"
                  ],
                  "xaxis": "x",
                  "y": {
                    "dtype": "f8",
                    "bdata": "tMh2vp+KhUA="
                  },
                  "yaxis": "y",
                  "type": "bar"
                },
                {
                  "alignmentgroup": "True",
                  "customdata": [
                    [
                      "Ryan Meyer"
                    ]
                  ],
                  "hovertemplate": "Región=Bogota<br>Continente=%{x}<br>Ganancia Total=%{y}<br>Cliente=%{customdata[0]}<extra></extra>",
                  "legendgroup": "Bogota",
                  "marker": {
                    "color": "#B6E880",
                    "pattern": {
                      "shape": ""
                    }
                  },
                  "name": "Bogota",
                  "offsetgroup": "Bogota",
                  "orientation": "v",
                  "showlegend": true,
                  "textposition": "auto",
                  "x": [
                    "South America"
                  ],
                  "xaxis": "x",
                  "y": {
                    "dtype": "f8",
                    "bdata": "P1dbsb8Mf0A="
                  },
                  "yaxis": "y",
                  "type": "bar"
                },
                {
                  "alignmentgroup": "True",
                  "customdata": [
                    [
                      "Martha Drake"
                    ]
                  ],
                  "hovertemplate": "Región=Buenos Aires<br>Continente=%{x}<br>Ganancia Total=%{y}<br>Cliente=%{customdata[0]}<extra></extra>",
                  "legendgroup": "Buenos Aires",
                  "marker": {
                    "color": "#FF97FF",
                    "pattern": {
                      "shape": ""
                    }
                  },
                  "name": "Buenos Aires",
                  "offsetgroup": "Buenos Aires",
                  "orientation": "v",
                  "showlegend": true,
                  "textposition": "auto",
                  "x": [
                    "South America"
                  ],
                  "xaxis": "x",
                  "y": {
                    "dtype": "f8",
                    "bdata": "GCZTBaNJjkA="
                  },
                  "yaxis": "y",
                  "type": "bar"
                },
                {
                  "alignmentgroup": "True",
                  "customdata": [
                    [
                      "Stanley Morris"
                    ]
                  ],
                  "hovertemplate": "Región=Cali<br>Continente=%{x}<br>Ganancia Total=%{y}<br>Cliente=%{customdata[0]}<extra></extra>",
                  "legendgroup": "Cali",
                  "marker": {
                    "color": "#FECB52",
                    "pattern": {
                      "shape": ""
                    }
                  },
                  "name": "Cali",
                  "offsetgroup": "Cali",
                  "orientation": "v",
                  "showlegend": true,
                  "textposition": "auto",
                  "x": [
                    "South America"
                  ],
                  "xaxis": "x",
                  "y": {
                    "dtype": "f8",
                    "bdata": "fT81XrrleEA="
                  },
                  "yaxis": "y",
                  "type": "bar"
                },
                {
                  "alignmentgroup": "True",
                  "customdata": [
                    [
                      "Christina Young"
                    ]
                  ],
                  "hovertemplate": "Región=Caracas<br>Continente=%{x}<br>Ganancia Total=%{y}<br>Cliente=%{customdata[0]}<extra></extra>",
                  "legendgroup": "Caracas",
                  "marker": {
                    "color": "#636efa",
                    "pattern": {
                      "shape": ""
                    }
                  },
                  "name": "Caracas",
                  "offsetgroup": "Caracas",
                  "orientation": "v",
                  "showlegend": true,
                  "textposition": "auto",
                  "x": [
                    "South America"
                  ],
                  "xaxis": "x",
                  "y": {
                    "dtype": "f8",
                    "bdata": "PujZrPofd0A="
                  },
                  "yaxis": "y",
                  "type": "bar"
                },
                {
                  "alignmentgroup": "True",
                  "customdata": [
                    [
                      "Brandi Ferguson"
                    ]
                  ],
                  "hovertemplate": "Región=Cordoba<br>Continente=%{x}<br>Ganancia Total=%{y}<br>Cliente=%{customdata[0]}<extra></extra>",
                  "legendgroup": "Cordoba",
                  "marker": {
                    "color": "#EF553B",
                    "pattern": {
                      "shape": ""
                    }
                  },
                  "name": "Cordoba",
                  "offsetgroup": "Cordoba",
                  "orientation": "v",
                  "showlegend": true,
                  "textposition": "auto",
                  "x": [
                    "South America"
                  ],
                  "xaxis": "x",
                  "y": {
                    "dtype": "f8",
                    "bdata": "Ke0NvjDIhUA="
                  },
                  "yaxis": "y",
                  "type": "bar"
                },
                {
                  "alignmentgroup": "True",
                  "customdata": [
                    [
                      "Evan Ramos"
                    ]
                  ],
                  "hovertemplate": "Región=Cusco<br>Continente=%{x}<br>Ganancia Total=%{y}<br>Cliente=%{customdata[0]}<extra></extra>",
                  "legendgroup": "Cusco",
                  "marker": {
                    "color": "#00cc96",
                    "pattern": {
                      "shape": ""
                    }
                  },
                  "name": "Cusco",
                  "offsetgroup": "Cusco",
                  "orientation": "v",
                  "showlegend": true,
                  "textposition": "auto",
                  "x": [
                    "South America"
                  ],
                  "xaxis": "x",
                  "y": {
                    "dtype": "f8",
                    "bdata": "c2iR7XzHd0A="
                  },
                  "yaxis": "y",
                  "type": "bar"
                },
                {
                  "alignmentgroup": "True",
                  "customdata": [
                    [
                      "Richard Flores"
                    ]
                  ],
                  "hovertemplate": "Región=Lima<br>Continente=%{x}<br>Ganancia Total=%{y}<br>Cliente=%{customdata[0]}<extra></extra>",
                  "legendgroup": "Lima",
                  "marker": {
                    "color": "#ab63fa",
                    "pattern": {
                      "shape": ""
                    }
                  },
                  "name": "Lima",
                  "offsetgroup": "Lima",
                  "orientation": "v",
                  "showlegend": true,
                  "textposition": "auto",
                  "x": [
                    "South America"
                  ],
                  "xaxis": "x",
                  "y": {
                    "dtype": "f8",
                    "bdata": "mpmZmZkBdEA="
                  },
                  "yaxis": "y",
                  "type": "bar"
                },
                {
                  "alignmentgroup": "True",
                  "customdata": [
                    [
                      "Michelle Wells"
                    ]
                  ],
                  "hovertemplate": "Región=Maracaibo<br>Continente=%{x}<br>Ganancia Total=%{y}<br>Cliente=%{customdata[0]}<extra></extra>",
                  "legendgroup": "Maracaibo",
                  "marker": {
                    "color": "#FFA15A",
                    "pattern": {
                      "shape": ""
                    }
                  },
                  "name": "Maracaibo",
                  "offsetgroup": "Maracaibo",
                  "orientation": "v",
                  "showlegend": true,
                  "textposition": "auto",
                  "x": [
                    "South America"
                  ],
                  "xaxis": "x",
                  "y": {
                    "dtype": "f8",
                    "bdata": "eekmMQgXfUA="
                  },
                  "yaxis": "y",
                  "type": "bar"
                },
                {
                  "alignmentgroup": "True",
                  "customdata": [
                    [
                      "Mark Simmons"
                    ]
                  ],
                  "hovertemplate": "Región=Medellin<br>Continente=%{x}<br>Ganancia Total=%{y}<br>Cliente=%{customdata[0]}<extra></extra>",
                  "legendgroup": "Medellin",
                  "marker": {
                    "color": "#19d3f3",
                    "pattern": {
                      "shape": ""
                    }
                  },
                  "name": "Medellin",
                  "offsetgroup": "Medellin",
                  "orientation": "v",
                  "showlegend": true,
                  "textposition": "auto",
                  "x": [
                    "South America"
                  ],
                  "xaxis": "x",
                  "y": {
                    "dtype": "f8",
                    "bdata": "t9EA3gJecEA="
                  },
                  "yaxis": "y",
                  "type": "bar"
                },
                {
                  "alignmentgroup": "True",
                  "customdata": [
                    [
                      "Scott Lopez"
                    ]
                  ],
                  "hovertemplate": "Región=Rio de Janeiro<br>Continente=%{x}<br>Ganancia Total=%{y}<br>Cliente=%{customdata[0]}<extra></extra>",
                  "legendgroup": "Rio de Janeiro",
                  "marker": {
                    "color": "#FF6692",
                    "pattern": {
                      "shape": ""
                    }
                  },
                  "name": "Rio de Janeiro",
                  "offsetgroup": "Rio de Janeiro",
                  "orientation": "v",
                  "showlegend": true,
                  "textposition": "auto",
                  "x": [
                    "South America"
                  ],
                  "xaxis": "x",
                  "y": {
                    "dtype": "f8",
                    "bdata": "bAn5oGcdZUA="
                  },
                  "yaxis": "y",
                  "type": "bar"
                },
                {
                  "alignmentgroup": "True",
                  "customdata": [
                    [
                      "Kevin Elliott"
                    ]
                  ],
                  "hovertemplate": "Región=Santa Fe<br>Continente=%{x}<br>Ganancia Total=%{y}<br>Cliente=%{customdata[0]}<extra></extra>",
                  "legendgroup": "Santa Fe",
                  "marker": {
                    "color": "#B6E880",
                    "pattern": {
                      "shape": ""
                    }
                  },
                  "name": "Santa Fe",
                  "offsetgroup": "Santa Fe",
                  "orientation": "v",
                  "showlegend": true,
                  "textposition": "auto",
                  "x": [
                    "South America"
                  ],
                  "xaxis": "x",
                  "y": {
                    "dtype": "f8",
                    "bdata": "dnEbDbDRvkA="
                  },
                  "yaxis": "y",
                  "type": "bar"
                },
                {
                  "alignmentgroup": "True",
                  "customdata": [
                    [
                      "Gabriel Sanders"
                    ]
                  ],
                  "hovertemplate": "Región=Sao Paulo<br>Continente=%{x}<br>Ganancia Total=%{y}<br>Cliente=%{customdata[0]}<extra></extra>",
                  "legendgroup": "Sao Paulo",
                  "marker": {
                    "color": "#FF97FF",
                    "pattern": {
                      "shape": ""
                    }
                  },
                  "name": "Sao Paulo",
                  "offsetgroup": "Sao Paulo",
                  "orientation": "v",
                  "showlegend": true,
                  "textposition": "auto",
                  "x": [
                    "South America"
                  ],
                  "xaxis": "x",
                  "y": {
                    "dtype": "f8",
                    "bdata": "rkfhepSPvUA="
                  },
                  "yaxis": "y",
                  "type": "bar"
                },
                {
                  "alignmentgroup": "True",
                  "customdata": [
                    [
                      "Elizabeth Jensen"
                    ]
                  ],
                  "hovertemplate": "Región=Valencia<br>Continente=%{x}<br>Ganancia Total=%{y}<br>Cliente=%{customdata[0]}<extra></extra>",
                  "legendgroup": "Valencia",
                  "marker": {
                    "color": "#FECB52",
                    "pattern": {
                      "shape": ""
                    }
                  },
                  "name": "Valencia",
                  "offsetgroup": "Valencia",
                  "orientation": "v",
                  "showlegend": true,
                  "textposition": "auto",
                  "x": [
                    "South America"
                  ],
                  "xaxis": "x",
                  "y": {
                    "dtype": "f8",
                    "bdata": "EoPAyqE8kkA="
                  },
                  "yaxis": "y",
                  "type": "bar"
                }
              ],
              "layout": {
                "template": {
                  "data": {
                    "histogram2dcontour": [
                      {
                        "type": "histogram2dcontour",
                        "colorbar": {
                          "outlinewidth": 0,
                          "ticks": ""
                        },
                        "colorscale": [
                          [
                            0,
                            "#0d0887"
                          ],
                          [
                            0.1111111111111111,
                            "#46039f"
                          ],
                          [
                            0.2222222222222222,
                            "#7201a8"
                          ],
                          [
                            0.3333333333333333,
                            "#9c179e"
                          ],
                          [
                            0.4444444444444444,
                            "#bd3786"
                          ],
                          [
                            0.5555555555555556,
                            "#d8576b"
                          ],
                          [
                            0.6666666666666666,
                            "#ed7953"
                          ],
                          [
                            0.7777777777777778,
                            "#fb9f3a"
                          ],
                          [
                            0.8888888888888888,
                            "#fdca26"
                          ],
                          [
                            1,
                            "#f0f921"
                          ]
                        ]
                      }
                    ],
                    "choropleth": [
                      {
                        "type": "choropleth",
                        "colorbar": {
                          "outlinewidth": 0,
                          "ticks": ""
                        }
                      }
                    ],
                    "histogram2d": [
                      {
                        "type": "histogram2d",
                        "colorbar": {
                          "outlinewidth": 0,
                          "ticks": ""
                        },
                        "colorscale": [
                          [
                            0,
                            "#0d0887"
                          ],
                          [
                            0.1111111111111111,
                            "#46039f"
                          ],
                          [
                            0.2222222222222222,
                            "#7201a8"
                          ],
                          [
                            0.3333333333333333,
                            "#9c179e"
                          ],
                          [
                            0.4444444444444444,
                            "#bd3786"
                          ],
                          [
                            0.5555555555555556,
                            "#d8576b"
                          ],
                          [
                            0.6666666666666666,
                            "#ed7953"
                          ],
                          [
                            0.7777777777777778,
                            "#fb9f3a"
                          ],
                          [
                            0.8888888888888888,
                            "#fdca26"
                          ],
                          [
                            1,
                            "#f0f921"
                          ]
                        ]
                      }
                    ],
                    "heatmap": [
                      {
                        "type": "heatmap",
                        "colorbar": {
                          "outlinewidth": 0,
                          "ticks": ""
                        },
                        "colorscale": [
                          [
                            0,
                            "#0d0887"
                          ],
                          [
                            0.1111111111111111,
                            "#46039f"
                          ],
                          [
                            0.2222222222222222,
                            "#7201a8"
                          ],
                          [
                            0.3333333333333333,
                            "#9c179e"
                          ],
                          [
                            0.4444444444444444,
                            "#bd3786"
                          ],
                          [
                            0.5555555555555556,
                            "#d8576b"
                          ],
                          [
                            0.6666666666666666,
                            "#ed7953"
                          ],
                          [
                            0.7777777777777778,
                            "#fb9f3a"
                          ],
                          [
                            0.8888888888888888,
                            "#fdca26"
                          ],
                          [
                            1,
                            "#f0f921"
                          ]
                        ]
                      }
                    ],
                    "contourcarpet": [
                      {
                        "type": "contourcarpet",
                        "colorbar": {
                          "outlinewidth": 0,
                          "ticks": ""
                        }
                      }
                    ],
                    "contour": [
                      {
                        "type": "contour",
                        "colorbar": {
                          "outlinewidth": 0,
                          "ticks": ""
                        },
                        "colorscale": [
                          [
                            0,
                            "#0d0887"
                          ],
                          [
                            0.1111111111111111,
                            "#46039f"
                          ],
                          [
                            0.2222222222222222,
                            "#7201a8"
                          ],
                          [
                            0.3333333333333333,
                            "#9c179e"
                          ],
                          [
                            0.4444444444444444,
                            "#bd3786"
                          ],
                          [
                            0.5555555555555556,
                            "#d8576b"
                          ],
                          [
                            0.6666666666666666,
                            "#ed7953"
                          ],
                          [
                            0.7777777777777778,
                            "#fb9f3a"
                          ],
                          [
                            0.8888888888888888,
                            "#fdca26"
                          ],
                          [
                            1,
                            "#f0f921"
                          ]
                        ]
                      }
                    ],
                    "surface": [
                      {
                        "type": "surface",
                        "colorbar": {
                          "outlinewidth": 0,
                          "ticks": ""
                        },
                        "colorscale": [
                          [
                            0,
                            "#0d0887"
                          ],
                          [
                            0.1111111111111111,
                            "#46039f"
                          ],
                          [
                            0.2222222222222222,
                            "#7201a8"
                          ],
                          [
                            0.3333333333333333,
                            "#9c179e"
                          ],
                          [
                            0.4444444444444444,
                            "#bd3786"
                          ],
                          [
                            0.5555555555555556,
                            "#d8576b"
                          ],
                          [
                            0.6666666666666666,
                            "#ed7953"
                          ],
                          [
                            0.7777777777777778,
                            "#fb9f3a"
                          ],
                          [
                            0.8888888888888888,
                            "#fdca26"
                          ],
                          [
                            1,
                            "#f0f921"
                          ]
                        ]
                      }
                    ],
                    "mesh3d": [
                      {
                        "type": "mesh3d",
                        "colorbar": {
                          "outlinewidth": 0,
                          "ticks": ""
                        }
                      }
                    ],
                    "scatter": [
                      {
                        "fillpattern": {
                          "fillmode": "overlay",
                          "size": 10,
                          "solidity": 0.2
                        },
                        "type": "scatter"
                      }
                    ],
                    "parcoords": [
                      {
                        "type": "parcoords",
                        "line": {
                          "colorbar": {
                            "outlinewidth": 0,
                            "ticks": ""
                          }
                        }
                      }
                    ],
                    "scatterpolargl": [
                      {
                        "type": "scatterpolargl",
                        "marker": {
                          "colorbar": {
                            "outlinewidth": 0,
                            "ticks": ""
                          }
                        }
                      }
                    ],
                    "bar": [
                      {
                        "error_x": {
                          "color": "#2a3f5f"
                        },
                        "error_y": {
                          "color": "#2a3f5f"
                        },
                        "marker": {
                          "line": {
                            "color": "#E5ECF6",
                            "width": 0.5
                          },
                          "pattern": {
                            "fillmode": "overlay",
                            "size": 10,
                            "solidity": 0.2
                          }
                        },
                        "type": "bar"
                      }
                    ],
                    "scattergeo": [
                      {
                        "type": "scattergeo",
                        "marker": {
                          "colorbar": {
                            "outlinewidth": 0,
                            "ticks": ""
                          }
                        }
                      }
                    ],
                    "scatterpolar": [
                      {
                        "type": "scatterpolar",
                        "marker": {
                          "colorbar": {
                            "outlinewidth": 0,
                            "ticks": ""
                          }
                        }
                      }
                    ],
                    "histogram": [
                      {
                        "marker": {
                          "pattern": {
                            "fillmode": "overlay",
                            "size": 10,
                            "solidity": 0.2
                          }
                        },
                        "type": "histogram"
                      }
                    ],
                    "scattergl": [
                      {
                        "type": "scattergl",
                        "marker": {
                          "colorbar": {
                            "outlinewidth": 0,
                            "ticks": ""
                          }
                        }
                      }
                    ],
                    "scatter3d": [
                      {
                        "type": "scatter3d",
                        "line": {
                          "colorbar": {
                            "outlinewidth": 0,
                            "ticks": ""
                          }
                        },
                        "marker": {
                          "colorbar": {
                            "outlinewidth": 0,
                            "ticks": ""
                          }
                        }
                      }
                    ],
                    "scattermap": [
                      {
                        "type": "scattermap",
                        "marker": {
                          "colorbar": {
                            "outlinewidth": 0,
                            "ticks": ""
                          }
                        }
                      }
                    ],
                    "scattermapbox": [
                      {
                        "type": "scattermapbox",
                        "marker": {
                          "colorbar": {
                            "outlinewidth": 0,
                            "ticks": ""
                          }
                        }
                      }
                    ],
                    "scatterternary": [
                      {
                        "type": "scatterternary",
                        "marker": {
                          "colorbar": {
                            "outlinewidth": 0,
                            "ticks": ""
                          }
                        }
                      }
                    ],
                    "scattercarpet": [
                      {
                        "type": "scattercarpet",
                        "marker": {
                          "colorbar": {
                            "outlinewidth": 0,
                            "ticks": ""
                          }
                        }
                      }
                    ],
                    "carpet": [
                      {
                        "aaxis": {
                          "endlinecolor": "#2a3f5f",
                          "gridcolor": "white",
                          "linecolor": "white",
                          "minorgridcolor": "white",
                          "startlinecolor": "#2a3f5f"
                        },
                        "baxis": {
                          "endlinecolor": "#2a3f5f",
                          "gridcolor": "white",
                          "linecolor": "white",
                          "minorgridcolor": "white",
                          "startlinecolor": "#2a3f5f"
                        },
                        "type": "carpet"
                      }
                    ],
                    "table": [
                      {
                        "cells": {
                          "fill": {
                            "color": "#EBF0F8"
                          },
                          "line": {
                            "color": "white"
                          }
                        },
                        "header": {
                          "fill": {
                            "color": "#C8D4E3"
                          },
                          "line": {
                            "color": "white"
                          }
                        },
                        "type": "table"
                      }
                    ],
                    "barpolar": [
                      {
                        "marker": {
                          "line": {
                            "color": "#E5ECF6",
                            "width": 0.5
                          },
                          "pattern": {
                            "fillmode": "overlay",
                            "size": 10,
                            "solidity": 0.2
                          }
                        },
                        "type": "barpolar"
                      }
                    ],
                    "pie": [
                      {
                        "automargin": true,
                        "type": "pie"
                      }
                    ]
                  },
                  "layout": {
                    "autotypenumbers": "strict",
                    "colorway": [
                      "#636efa",
                      "#EF553B",
                      "#00cc96",
                      "#ab63fa",
                      "#FFA15A",
                      "#19d3f3",
                      "#FF6692",
                      "#B6E880",
                      "#FF97FF",
                      "#FECB52"
                    ],
                    "font": {
                      "color": "#2a3f5f"
                    },
                    "hovermode": "closest",
                    "hoverlabel": {
                      "align": "left"
                    },
                    "paper_bgcolor": "white",
                    "plot_bgcolor": "#E5ECF6",
                    "polar": {
                      "bgcolor": "#E5ECF6",
                      "angularaxis": {
                        "gridcolor": "white",
                        "linecolor": "white",
                        "ticks": ""
                      },
                      "radialaxis": {
                        "gridcolor": "white",
                        "linecolor": "white",
                        "ticks": ""
                      }
                    },
                    "ternary": {
                      "bgcolor": "#E5ECF6",
                      "aaxis": {
                        "gridcolor": "white",
                        "linecolor": "white",
                        "ticks": ""
                      },
                      "baxis": {
                        "gridcolor": "white",
                        "linecolor": "white",
                        "ticks": ""
                      },
                      "caxis": {
                        "gridcolor": "white",
                        "linecolor": "white",
                        "ticks": ""
                      }
                    },
                    "coloraxis": {
                      "colorbar": {
                        "outlinewidth": 0,
                        "ticks": ""
                      }
                    },
                    "colorscale": {
                      "sequential": [
                        [
                          0,
                          "#0d0887"
                        ],
                        [
                          0.1111111111111111,
                          "#46039f"
                        ],
                        [
                          0.2222222222222222,
                          "#7201a8"
                        ],
                        [
                          0.3333333333333333,
                          "#9c179e"
                        ],
                        [
                          0.4444444444444444,
                          "#bd3786"
                        ],
                        [
                          0.5555555555555556,
                          "#d8576b"
                        ],
                        [
                          0.6666666666666666,
                          "#ed7953"
                        ],
                        [
                          0.7777777777777778,
                          "#fb9f3a"
                        ],
                        [
                          0.8888888888888888,
                          "#fdca26"
                        ],
                        [
                          1,
                          "#f0f921"
                        ]
                      ],
                      "sequentialminus": [
                        [
                          0,
                          "#0d0887"
                        ],
                        [
                          0.1111111111111111,
                          "#46039f"
                        ],
                        [
                          0.2222222222222222,
                          "#7201a8"
                        ],
                        [
                          0.3333333333333333,
                          "#9c179e"
                        ],
                        [
                          0.4444444444444444,
                          "#bd3786"
                        ],
                        [
                          0.5555555555555556,
                          "#d8576b"
                        ],
                        [
                          0.6666666666666666,
                          "#ed7953"
                        ],
                        [
                          0.7777777777777778,
                          "#fb9f3a"
                        ],
                        [
                          0.8888888888888888,
                          "#fdca26"
                        ],
                        [
                          1,
                          "#f0f921"
                        ]
                      ],
                      "diverging": [
                        [
                          0,
                          "#8e0152"
                        ],
                        [
                          0.1,
                          "#c51b7d"
                        ],
                        [
                          0.2,
                          "#de77ae"
                        ],
                        [
                          0.3,
                          "#f1b6da"
                        ],
                        [
                          0.4,
                          "#fde0ef"
                        ],
                        [
                          0.5,
                          "#f7f7f7"
                        ],
                        [
                          0.6,
                          "#e6f5d0"
                        ],
                        [
                          0.7,
                          "#b8e186"
                        ],
                        [
                          0.8,
                          "#7fbc41"
                        ],
                        [
                          0.9,
                          "#4d9221"
                        ],
                        [
                          1,
                          "#276419"
                        ]
                      ]
                    },
                    "xaxis": {
                      "gridcolor": "white",
                      "linecolor": "white",
                      "ticks": "",
                      "title": {
                        "standoff": 15
                      },
                      "zerolinecolor": "white",
                      "automargin": true,
                      "zerolinewidth": 2
                    },
                    "yaxis": {
                      "gridcolor": "white",
                      "linecolor": "white",
                      "ticks": "",
                      "title": {
                        "standoff": 15
                      },
                      "zerolinecolor": "white",
                      "automargin": true,
                      "zerolinewidth": 2
                    },
                    "scene": {
                      "xaxis": {
                        "backgroundcolor": "#E5ECF6",
                        "gridcolor": "white",
                        "linecolor": "white",
                        "showbackground": true,
                        "ticks": "",
                        "zerolinecolor": "white",
                        "gridwidth": 2
                      },
                      "yaxis": {
                        "backgroundcolor": "#E5ECF6",
                        "gridcolor": "white",
                        "linecolor": "white",
                        "showbackground": true,
                        "ticks": "",
                        "zerolinecolor": "white",
                        "gridwidth": 2
                      },
                      "zaxis": {
                        "backgroundcolor": "#E5ECF6",
                        "gridcolor": "white",
                        "linecolor": "white",
                        "showbackground": true,
                        "ticks": "",
                        "zerolinecolor": "white",
                        "gridwidth": 2
                      }
                    },
                    "shapedefaults": {
                      "line": {
                        "color": "#2a3f5f"
                      }
                    },
                    "annotationdefaults": {
                      "arrowcolor": "#2a3f5f",
                      "arrowhead": 0,
                      "arrowwidth": 1
                    },
                    "geo": {
                      "bgcolor": "white",
                      "landcolor": "#E5ECF6",
                      "subunitcolor": "white",
                      "showland": true,
                      "showlakes": true,
                      "lakecolor": "white"
                    },
                    "title": {
                      "x": 0.05
                    },
                    "mapbox": {
                      "style": "light"
                    }
                  }
                },
                "xaxis": {
                  "anchor": "y",
                  "domain": [
                    0,
                    1
                  ],
                  "title": {
                    "text": "Continente"
                  },
                  "categoryorder": "total ascending"
                },
                "yaxis": {
                  "anchor": "x",
                  "domain": [
                    0,
                    1
                  ],
                  "title": {
                    "text": "Ganancia Total"
                  }
                },
                "legend": {
                  "title": {
                    "text": "Región"
                  },
                  "tracegroupgap": 0
                },
                "title": {
                  "text": "Top 3 Clientes más Rentables por Región y Continente"
                },
                "barmode": "group"
              },
              "config": {
                "plotlyServerURL": "https://plot.ly"
              }
            },
            "text/html": [
              "<div>            <script src=\"https://cdnjs.cloudflare.com/ajax/libs/mathjax/2.7.5/MathJax.js?config=TeX-AMS-MML_SVG\"></script><script type=\"text/javascript\">if (window.MathJax && window.MathJax.Hub && window.MathJax.Hub.Config) {window.MathJax.Hub.Config({SVG: {font: \"STIX-Web\"}});}</script>                <script type=\"text/javascript\">window.PlotlyConfig = {MathJaxConfig: 'local'};</script>\n",
              "        <script charset=\"utf-8\" src=\"https://cdn.plot.ly/plotly-3.0.1.min.js\"></script>                <div id=\"2c405317-1b90-406f-9c72-84d97cea9d42\" class=\"plotly-graph-div\" style=\"height:525px; width:100%;\"></div>            <script type=\"text/javascript\">                window.PLOTLYENV=window.PLOTLYENV || {};                                if (document.getElementById(\"2c405317-1b90-406f-9c72-84d97cea9d42\")) {                    Plotly.newPlot(                        \"2c405317-1b90-406f-9c72-84d97cea9d42\",                        [{\"alignmentgroup\":\"True\",\"customdata\":[[\"Valerie Kennedy\"]],\"hovertemplate\":\"Región=Abuja\\u003cbr\\u003eContinente=%{x}\\u003cbr\\u003eGanancia Total=%{y}\\u003cbr\\u003eCliente=%{customdata[0]}\\u003cextra\\u003e\\u003c\\u002fextra\\u003e\",\"legendgroup\":\"Abuja\",\"marker\":{\"color\":\"#636efa\",\"pattern\":{\"shape\":\"\"}},\"name\":\"Abuja\",\"offsetgroup\":\"Abuja\",\"orientation\":\"v\",\"showlegend\":true,\"textposition\":\"auto\",\"x\":[\"Africa\"],\"xaxis\":\"x\",\"y\":{\"dtype\":\"f8\",\"bdata\":\"8x\\u002fSbxcvwUA=\"},\"yaxis\":\"y\",\"type\":\"bar\"},{\"alignmentgroup\":\"True\",\"customdata\":[[\"Linda Hudson\"]],\"hovertemplate\":\"Región=Alexandria\\u003cbr\\u003eContinente=%{x}\\u003cbr\\u003eGanancia Total=%{y}\\u003cbr\\u003eCliente=%{customdata[0]}\\u003cextra\\u003e\\u003c\\u002fextra\\u003e\",\"legendgroup\":\"Alexandria\",\"marker\":{\"color\":\"#EF553B\",\"pattern\":{\"shape\":\"\"}},\"name\":\"Alexandria\",\"offsetgroup\":\"Alexandria\",\"orientation\":\"v\",\"showlegend\":true,\"textposition\":\"auto\",\"x\":[\"Africa\"],\"xaxis\":\"x\",\"y\":{\"dtype\":\"f8\",\"bdata\":\"j8L1KFxLjkA=\"},\"yaxis\":\"y\",\"type\":\"bar\"},{\"alignmentgroup\":\"True\",\"customdata\":[[\"Kristin Lopez\"]],\"hovertemplate\":\"Región=Cairo\\u003cbr\\u003eContinente=%{x}\\u003cbr\\u003eGanancia Total=%{y}\\u003cbr\\u003eCliente=%{customdata[0]}\\u003cextra\\u003e\\u003c\\u002fextra\\u003e\",\"legendgroup\":\"Cairo\",\"marker\":{\"color\":\"#00cc96\",\"pattern\":{\"shape\":\"\"}},\"name\":\"Cairo\",\"offsetgroup\":\"Cairo\",\"orientation\":\"v\",\"showlegend\":true,\"textposition\":\"auto\",\"x\":[\"Africa\"],\"xaxis\":\"x\",\"y\":{\"dtype\":\"f8\",\"bdata\":\"idLe4AszgUA=\"},\"yaxis\":\"y\",\"type\":\"bar\"},{\"alignmentgroup\":\"True\",\"customdata\":[[\"Marie Cross\"]],\"hovertemplate\":\"Región=Casablanca\\u003cbr\\u003eContinente=%{x}\\u003cbr\\u003eGanancia Total=%{y}\\u003cbr\\u003eCliente=%{customdata[0]}\\u003cextra\\u003e\\u003c\\u002fextra\\u003e\",\"legendgroup\":\"Casablanca\",\"marker\":{\"color\":\"#ab63fa\",\"pattern\":{\"shape\":\"\"}},\"name\":\"Casablanca\",\"offsetgroup\":\"Casablanca\",\"orientation\":\"v\",\"showlegend\":true,\"textposition\":\"auto\",\"x\":[\"Africa\"],\"xaxis\":\"x\",\"y\":{\"dtype\":\"f8\",\"bdata\":\"iGNd3Ka9qUA=\"},\"yaxis\":\"y\",\"type\":\"bar\"},{\"alignmentgroup\":\"True\",\"customdata\":[[\"Rebecca Brooks\"]],\"hovertemplate\":\"Región=Gauteng\\u003cbr\\u003eContinente=%{x}\\u003cbr\\u003eGanancia Total=%{y}\\u003cbr\\u003eCliente=%{customdata[0]}\\u003cextra\\u003e\\u003c\\u002fextra\\u003e\",\"legendgroup\":\"Gauteng\",\"marker\":{\"color\":\"#FFA15A\",\"pattern\":{\"shape\":\"\"}},\"name\":\"Gauteng\",\"offsetgroup\":\"Gauteng\",\"orientation\":\"v\",\"showlegend\":true,\"textposition\":\"auto\",\"x\":[\"Africa\"],\"xaxis\":\"x\",\"y\":{\"dtype\":\"f8\",\"bdata\":\"RGlv8IVylUA=\"},\"yaxis\":\"y\",\"type\":\"bar\"},{\"alignmentgroup\":\"True\",\"customdata\":[[\"Gabriel Sanders\"]],\"hovertemplate\":\"Región=Giza\\u003cbr\\u003eContinente=%{x}\\u003cbr\\u003eGanancia Total=%{y}\\u003cbr\\u003eCliente=%{customdata[0]}\\u003cextra\\u003e\\u003c\\u002fextra\\u003e\",\"legendgroup\":\"Giza\",\"marker\":{\"color\":\"#19d3f3\",\"pattern\":{\"shape\":\"\"}},\"name\":\"Giza\",\"offsetgroup\":\"Giza\",\"orientation\":\"v\",\"showlegend\":true,\"textposition\":\"auto\",\"x\":[\"Africa\"],\"xaxis\":\"x\",\"y\":{\"dtype\":\"f8\",\"bdata\":\"7FG4HoVNgEA=\"},\"yaxis\":\"y\",\"type\":\"bar\"},{\"alignmentgroup\":\"True\",\"customdata\":[[\"Michelle Wells\"]],\"hovertemplate\":\"Región=Kano\\u003cbr\\u003eContinente=%{x}\\u003cbr\\u003eGanancia Total=%{y}\\u003cbr\\u003eCliente=%{customdata[0]}\\u003cextra\\u003e\\u003c\\u002fextra\\u003e\",\"legendgroup\":\"Kano\",\"marker\":{\"color\":\"#FF6692\",\"pattern\":{\"shape\":\"\"}},\"name\":\"Kano\",\"offsetgroup\":\"Kano\",\"orientation\":\"v\",\"showlegend\":true,\"textposition\":\"auto\",\"x\":[\"Africa\"],\"xaxis\":\"x\",\"y\":{\"dtype\":\"f8\",\"bdata\":\"mpmZmZljlEA=\"},\"yaxis\":\"y\",\"type\":\"bar\"},{\"alignmentgroup\":\"True\",\"customdata\":[[\"Megan Richardson\"]],\"hovertemplate\":\"Región=Kisumu\\u003cbr\\u003eContinente=%{x}\\u003cbr\\u003eGanancia Total=%{y}\\u003cbr\\u003eCliente=%{customdata[0]}\\u003cextra\\u003e\\u003c\\u002fextra\\u003e\",\"legendgroup\":\"Kisumu\",\"marker\":{\"color\":\"#B6E880\",\"pattern\":{\"shape\":\"\"}},\"name\":\"Kisumu\",\"offsetgroup\":\"Kisumu\",\"orientation\":\"v\",\"showlegend\":true,\"textposition\":\"auto\",\"x\":[\"Africa\"],\"xaxis\":\"x\",\"y\":{\"dtype\":\"f8\",\"bdata\":\"7zhFR\\u002fK\\u002fikA=\"},\"yaxis\":\"y\",\"type\":\"bar\"},{\"alignmentgroup\":\"True\",\"customdata\":[[\"Leon Oconnell\"]],\"hovertemplate\":\"Región=KwaZulu-Natal\\u003cbr\\u003eContinente=%{x}\\u003cbr\\u003eGanancia Total=%{y}\\u003cbr\\u003eCliente=%{customdata[0]}\\u003cextra\\u003e\\u003c\\u002fextra\\u003e\",\"legendgroup\":\"KwaZulu-Natal\",\"marker\":{\"color\":\"#FF97FF\",\"pattern\":{\"shape\":\"\"}},\"name\":\"KwaZulu-Natal\",\"offsetgroup\":\"KwaZulu-Natal\",\"orientation\":\"v\",\"showlegend\":true,\"textposition\":\"auto\",\"x\":[\"Africa\"],\"xaxis\":\"x\",\"y\":{\"dtype\":\"f8\",\"bdata\":\"gGq8dJO8Z0A=\"},\"yaxis\":\"y\",\"type\":\"bar\"},{\"alignmentgroup\":\"True\",\"customdata\":[[\"Derrick Smith\"]],\"hovertemplate\":\"Región=Lagos\\u003cbr\\u003eContinente=%{x}\\u003cbr\\u003eGanancia Total=%{y}\\u003cbr\\u003eCliente=%{customdata[0]}\\u003cextra\\u003e\\u003c\\u002fextra\\u003e\",\"legendgroup\":\"Lagos\",\"marker\":{\"color\":\"#FECB52\",\"pattern\":{\"shape\":\"\"}},\"name\":\"Lagos\",\"offsetgroup\":\"Lagos\",\"orientation\":\"v\",\"showlegend\":true,\"textposition\":\"auto\",\"x\":[\"Africa\"],\"xaxis\":\"x\",\"y\":{\"dtype\":\"f8\",\"bdata\":\"ApoIG168nUA=\"},\"yaxis\":\"y\",\"type\":\"bar\"},{\"alignmentgroup\":\"True\",\"customdata\":[[\"Brandi Ferguson\"]],\"hovertemplate\":\"Región=Marrakech\\u003cbr\\u003eContinente=%{x}\\u003cbr\\u003eGanancia Total=%{y}\\u003cbr\\u003eCliente=%{customdata[0]}\\u003cextra\\u003e\\u003c\\u002fextra\\u003e\",\"legendgroup\":\"Marrakech\",\"marker\":{\"color\":\"#636efa\",\"pattern\":{\"shape\":\"\"}},\"name\":\"Marrakech\",\"offsetgroup\":\"Marrakech\",\"orientation\":\"v\",\"showlegend\":true,\"textposition\":\"auto\",\"x\":[\"Africa\"],\"xaxis\":\"x\",\"y\":{\"dtype\":\"f8\",\"bdata\":\"5dAi2\\u002flcjkA=\"},\"yaxis\":\"y\",\"type\":\"bar\"},{\"alignmentgroup\":\"True\",\"customdata\":[[\"Kristin Lopez\"]],\"hovertemplate\":\"Región=Mombasa\\u003cbr\\u003eContinente=%{x}\\u003cbr\\u003eGanancia Total=%{y}\\u003cbr\\u003eCliente=%{customdata[0]}\\u003cextra\\u003e\\u003c\\u002fextra\\u003e\",\"legendgroup\":\"Mombasa\",\"marker\":{\"color\":\"#EF553B\",\"pattern\":{\"shape\":\"\"}},\"name\":\"Mombasa\",\"offsetgroup\":\"Mombasa\",\"orientation\":\"v\",\"showlegend\":true,\"textposition\":\"auto\",\"x\":[\"Africa\"],\"xaxis\":\"x\",\"y\":{\"dtype\":\"f8\",\"bdata\":\"P8bctYTLe0A=\"},\"yaxis\":\"y\",\"type\":\"bar\"},{\"alignmentgroup\":\"True\",\"customdata\":[[\"Leon Oconnell\"]],\"hovertemplate\":\"Región=Nairobi\\u003cbr\\u003eContinente=%{x}\\u003cbr\\u003eGanancia Total=%{y}\\u003cbr\\u003eCliente=%{customdata[0]}\\u003cextra\\u003e\\u003c\\u002fextra\\u003e\",\"legendgroup\":\"Nairobi\",\"marker\":{\"color\":\"#00cc96\",\"pattern\":{\"shape\":\"\"}},\"name\":\"Nairobi\",\"offsetgroup\":\"Nairobi\",\"orientation\":\"v\",\"showlegend\":true,\"textposition\":\"auto\",\"x\":[\"Africa\"],\"xaxis\":\"x\",\"y\":{\"dtype\":\"f8\",\"bdata\":\"eHqlLEMkrEA=\"},\"yaxis\":\"y\",\"type\":\"bar\"},{\"alignmentgroup\":\"True\",\"customdata\":[[\"Lisa Adams\"]],\"hovertemplate\":\"Región=Rabat\\u003cbr\\u003eContinente=%{x}\\u003cbr\\u003eGanancia Total=%{y}\\u003cbr\\u003eCliente=%{customdata[0]}\\u003cextra\\u003e\\u003c\\u002fextra\\u003e\",\"legendgroup\":\"Rabat\",\"marker\":{\"color\":\"#ab63fa\",\"pattern\":{\"shape\":\"\"}},\"name\":\"Rabat\",\"offsetgroup\":\"Rabat\",\"orientation\":\"v\",\"showlegend\":true,\"textposition\":\"auto\",\"x\":[\"Africa\"],\"xaxis\":\"x\",\"y\":{\"dtype\":\"f8\",\"bdata\":\"BoGVQwv5n0A=\"},\"yaxis\":\"y\",\"type\":\"bar\"},{\"alignmentgroup\":\"True\",\"customdata\":[[\"Angela Williams\"]],\"hovertemplate\":\"Región=Western Cape\\u003cbr\\u003eContinente=%{x}\\u003cbr\\u003eGanancia Total=%{y}\\u003cbr\\u003eCliente=%{customdata[0]}\\u003cextra\\u003e\\u003c\\u002fextra\\u003e\",\"legendgroup\":\"Western Cape\",\"marker\":{\"color\":\"#FFA15A\",\"pattern\":{\"shape\":\"\"}},\"name\":\"Western Cape\",\"offsetgroup\":\"Western Cape\",\"orientation\":\"v\",\"showlegend\":true,\"textposition\":\"auto\",\"x\":[\"Africa\"],\"xaxis\":\"x\",\"y\":{\"dtype\":\"f8\",\"bdata\":\"GARWDi1aZkA=\"},\"yaxis\":\"y\",\"type\":\"bar\"},{\"alignmentgroup\":\"True\",\"customdata\":[[\"Emily Mitchell\"]],\"hovertemplate\":\"Región=Bandung\\u003cbr\\u003eContinente=%{x}\\u003cbr\\u003eGanancia Total=%{y}\\u003cbr\\u003eCliente=%{customdata[0]}\\u003cextra\\u003e\\u003c\\u002fextra\\u003e\",\"legendgroup\":\"Bandung\",\"marker\":{\"color\":\"#19d3f3\",\"pattern\":{\"shape\":\"\"}},\"name\":\"Bandung\",\"offsetgroup\":\"Bandung\",\"orientation\":\"v\",\"showlegend\":true,\"textposition\":\"auto\",\"x\":[\"Asia\"],\"xaxis\":\"x\",\"y\":{\"dtype\":\"f8\",\"bdata\":\"LSEf9ExTo0A=\"},\"yaxis\":\"y\",\"type\":\"bar\"},{\"alignmentgroup\":\"True\",\"customdata\":[[\"Andrew Roth\"]],\"hovertemplate\":\"Región=Bangalore\\u003cbr\\u003eContinente=%{x}\\u003cbr\\u003eGanancia Total=%{y}\\u003cbr\\u003eCliente=%{customdata[0]}\\u003cextra\\u003e\\u003c\\u002fextra\\u003e\",\"legendgroup\":\"Bangalore\",\"marker\":{\"color\":\"#FF6692\",\"pattern\":{\"shape\":\"\"}},\"name\":\"Bangalore\",\"offsetgroup\":\"Bangalore\",\"orientation\":\"v\",\"showlegend\":true,\"textposition\":\"auto\",\"x\":[\"Asia\"],\"xaxis\":\"x\",\"y\":{\"dtype\":\"f8\",\"bdata\":\"SOF6FK7zmUA=\"},\"yaxis\":\"y\",\"type\":\"bar\"},{\"alignmentgroup\":\"True\",\"customdata\":[[\"Benjamin Jones\"]],\"hovertemplate\":\"Región=Beijing\\u003cbr\\u003eContinente=%{x}\\u003cbr\\u003eGanancia Total=%{y}\\u003cbr\\u003eCliente=%{customdata[0]}\\u003cextra\\u003e\\u003c\\u002fextra\\u003e\",\"legendgroup\":\"Beijing\",\"marker\":{\"color\":\"#B6E880\",\"pattern\":{\"shape\":\"\"}},\"name\":\"Beijing\",\"offsetgroup\":\"Beijing\",\"orientation\":\"v\",\"showlegend\":true,\"textposition\":\"auto\",\"x\":[\"Asia\"],\"xaxis\":\"x\",\"y\":{\"dtype\":\"f8\",\"bdata\":\"AU2EDU+2lUA=\"},\"yaxis\":\"y\",\"type\":\"bar\"},{\"alignmentgroup\":\"True\",\"customdata\":[[\"Kristin Romero\"]],\"hovertemplate\":\"Región=Busan\\u003cbr\\u003eContinente=%{x}\\u003cbr\\u003eGanancia Total=%{y}\\u003cbr\\u003eCliente=%{customdata[0]}\\u003cextra\\u003e\\u003c\\u002fextra\\u003e\",\"legendgroup\":\"Busan\",\"marker\":{\"color\":\"#FF97FF\",\"pattern\":{\"shape\":\"\"}},\"name\":\"Busan\",\"offsetgroup\":\"Busan\",\"orientation\":\"v\",\"showlegend\":true,\"textposition\":\"auto\",\"x\":[\"Asia\"],\"xaxis\":\"x\",\"y\":{\"dtype\":\"f8\",\"bdata\":\"bxKDwIrXnUA=\"},\"yaxis\":\"y\",\"type\":\"bar\"},{\"alignmentgroup\":\"True\",\"customdata\":[[\"Jose Williams\"]],\"hovertemplate\":\"Región=Delhi\\u003cbr\\u003eContinente=%{x}\\u003cbr\\u003eGanancia Total=%{y}\\u003cbr\\u003eCliente=%{customdata[0]}\\u003cextra\\u003e\\u003c\\u002fextra\\u003e\",\"legendgroup\":\"Delhi\",\"marker\":{\"color\":\"#FECB52\",\"pattern\":{\"shape\":\"\"}},\"name\":\"Delhi\",\"offsetgroup\":\"Delhi\",\"orientation\":\"v\",\"showlegend\":true,\"textposition\":\"auto\",\"x\":[\"Asia\"],\"xaxis\":\"x\",\"y\":{\"dtype\":\"f8\",\"bdata\":\"wTkjSnsLl0A=\"},\"yaxis\":\"y\",\"type\":\"bar\"},{\"alignmentgroup\":\"True\",\"customdata\":[[\"Daniel Hicks\"]],\"hovertemplate\":\"Región=Guangzhou\\u003cbr\\u003eContinente=%{x}\\u003cbr\\u003eGanancia Total=%{y}\\u003cbr\\u003eCliente=%{customdata[0]}\\u003cextra\\u003e\\u003c\\u002fextra\\u003e\",\"legendgroup\":\"Guangzhou\",\"marker\":{\"color\":\"#636efa\",\"pattern\":{\"shape\":\"\"}},\"name\":\"Guangzhou\",\"offsetgroup\":\"Guangzhou\",\"orientation\":\"v\",\"showlegend\":true,\"textposition\":\"auto\",\"x\":[\"Asia\"],\"xaxis\":\"x\",\"y\":{\"dtype\":\"f8\",\"bdata\":\"j8L1KFy3j0A=\"},\"yaxis\":\"y\",\"type\":\"bar\"},{\"alignmentgroup\":\"True\",\"customdata\":[[\"Jose Williams\"]],\"hovertemplate\":\"Región=Incheon\\u003cbr\\u003eContinente=%{x}\\u003cbr\\u003eGanancia Total=%{y}\\u003cbr\\u003eCliente=%{customdata[0]}\\u003cextra\\u003e\\u003c\\u002fextra\\u003e\",\"legendgroup\":\"Incheon\",\"marker\":{\"color\":\"#EF553B\",\"pattern\":{\"shape\":\"\"}},\"name\":\"Incheon\",\"offsetgroup\":\"Incheon\",\"orientation\":\"v\",\"showlegend\":true,\"textposition\":\"auto\",\"x\":[\"Asia\"],\"xaxis\":\"x\",\"y\":{\"dtype\":\"f8\",\"bdata\":\"7nw\\u002fNR6bm0A=\"},\"yaxis\":\"y\",\"type\":\"bar\"},{\"alignmentgroup\":\"True\",\"customdata\":[[\"Valerie Kennedy\"]],\"hovertemplate\":\"Región=Jakarta\\u003cbr\\u003eContinente=%{x}\\u003cbr\\u003eGanancia Total=%{y}\\u003cbr\\u003eCliente=%{customdata[0]}\\u003cextra\\u003e\\u003c\\u002fextra\\u003e\",\"legendgroup\":\"Jakarta\",\"marker\":{\"color\":\"#00cc96\",\"pattern\":{\"shape\":\"\"}},\"name\":\"Jakarta\",\"offsetgroup\":\"Jakarta\",\"orientation\":\"v\",\"showlegend\":true,\"textposition\":\"auto\",\"x\":[\"Asia\"],\"xaxis\":\"x\",\"y\":{\"dtype\":\"f8\",\"bdata\":\"ayv2l10OjUA=\"},\"yaxis\":\"y\",\"type\":\"bar\"},{\"alignmentgroup\":\"True\",\"customdata\":[[\"Andrew Roth\"]],\"hovertemplate\":\"Región=Mumbai\\u003cbr\\u003eContinente=%{x}\\u003cbr\\u003eGanancia Total=%{y}\\u003cbr\\u003eCliente=%{customdata[0]}\\u003cextra\\u003e\\u003c\\u002fextra\\u003e\",\"legendgroup\":\"Mumbai\",\"marker\":{\"color\":\"#ab63fa\",\"pattern\":{\"shape\":\"\"}},\"name\":\"Mumbai\",\"offsetgroup\":\"Mumbai\",\"orientation\":\"v\",\"showlegend\":true,\"textposition\":\"auto\",\"x\":[\"Asia\"],\"xaxis\":\"x\",\"y\":{\"dtype\":\"f8\",\"bdata\":\"sAPnjCjihkA=\"},\"yaxis\":\"y\",\"type\":\"bar\"},{\"alignmentgroup\":\"True\",\"customdata\":[[\"Eric Webster\"]],\"hovertemplate\":\"Región=Nagoya\\u003cbr\\u003eContinente=%{x}\\u003cbr\\u003eGanancia Total=%{y}\\u003cbr\\u003eCliente=%{customdata[0]}\\u003cextra\\u003e\\u003c\\u002fextra\\u003e\",\"legendgroup\":\"Nagoya\",\"marker\":{\"color\":\"#FFA15A\",\"pattern\":{\"shape\":\"\"}},\"name\":\"Nagoya\",\"offsetgroup\":\"Nagoya\",\"orientation\":\"v\",\"showlegend\":true,\"textposition\":\"auto\",\"x\":[\"Asia\"],\"xaxis\":\"x\",\"y\":{\"dtype\":\"f8\",\"bdata\":\"kzoBTQQrmkA=\"},\"yaxis\":\"y\",\"type\":\"bar\"},{\"alignmentgroup\":\"True\",\"customdata\":[[\"Scott Lopez\"]],\"hovertemplate\":\"Región=Osaka\\u003cbr\\u003eContinente=%{x}\\u003cbr\\u003eGanancia Total=%{y}\\u003cbr\\u003eCliente=%{customdata[0]}\\u003cextra\\u003e\\u003c\\u002fextra\\u003e\",\"legendgroup\":\"Osaka\",\"marker\":{\"color\":\"#19d3f3\",\"pattern\":{\"shape\":\"\"}},\"name\":\"Osaka\",\"offsetgroup\":\"Osaka\",\"orientation\":\"v\",\"showlegend\":true,\"textposition\":\"auto\",\"x\":[\"Asia\"],\"xaxis\":\"x\",\"y\":{\"dtype\":\"f8\",\"bdata\":\"HVpkO98HjkA=\"},\"yaxis\":\"y\",\"type\":\"bar\"},{\"alignmentgroup\":\"True\",\"customdata\":[[\"Megan Richardson\"]],\"hovertemplate\":\"Región=Seoul\\u003cbr\\u003eContinente=%{x}\\u003cbr\\u003eGanancia Total=%{y}\\u003cbr\\u003eCliente=%{customdata[0]}\\u003cextra\\u003e\\u003c\\u002fextra\\u003e\",\"legendgroup\":\"Seoul\",\"marker\":{\"color\":\"#FF6692\",\"pattern\":{\"shape\":\"\"}},\"name\":\"Seoul\",\"offsetgroup\":\"Seoul\",\"orientation\":\"v\",\"showlegend\":true,\"textposition\":\"auto\",\"x\":[\"Asia\"],\"xaxis\":\"x\",\"y\":{\"dtype\":\"f8\",\"bdata\":\"+aBns+pshUA=\"},\"yaxis\":\"y\",\"type\":\"bar\"},{\"alignmentgroup\":\"True\",\"customdata\":[[\"Jennifer Walters\"]],\"hovertemplate\":\"Región=Shanghai\\u003cbr\\u003eContinente=%{x}\\u003cbr\\u003eGanancia Total=%{y}\\u003cbr\\u003eCliente=%{customdata[0]}\\u003cextra\\u003e\\u003c\\u002fextra\\u003e\",\"legendgroup\":\"Shanghai\",\"marker\":{\"color\":\"#B6E880\",\"pattern\":{\"shape\":\"\"}},\"name\":\"Shanghai\",\"offsetgroup\":\"Shanghai\",\"orientation\":\"v\",\"showlegend\":true,\"textposition\":\"auto\",\"x\":[\"Asia\"],\"xaxis\":\"x\",\"y\":{\"dtype\":\"f8\",\"bdata\":\"+zpwzkiHpUA=\"},\"yaxis\":\"y\",\"type\":\"bar\"},{\"alignmentgroup\":\"True\",\"customdata\":[[\"Ryan Meyer\"]],\"hovertemplate\":\"Región=Surabaya\\u003cbr\\u003eContinente=%{x}\\u003cbr\\u003eGanancia Total=%{y}\\u003cbr\\u003eCliente=%{customdata[0]}\\u003cextra\\u003e\\u003c\\u002fextra\\u003e\",\"legendgroup\":\"Surabaya\",\"marker\":{\"color\":\"#FF97FF\",\"pattern\":{\"shape\":\"\"}},\"name\":\"Surabaya\",\"offsetgroup\":\"Surabaya\",\"orientation\":\"v\",\"showlegend\":true,\"textposition\":\"auto\",\"x\":[\"Asia\"],\"xaxis\":\"x\",\"y\":{\"dtype\":\"f8\",\"bdata\":\"XI\\u002fC9ShDk0A=\"},\"yaxis\":\"y\",\"type\":\"bar\"},{\"alignmentgroup\":\"True\",\"customdata\":[[\"Angela Williams\"]],\"hovertemplate\":\"Región=Tokyo\\u003cbr\\u003eContinente=%{x}\\u003cbr\\u003eGanancia Total=%{y}\\u003cbr\\u003eCliente=%{customdata[0]}\\u003cextra\\u003e\\u003c\\u002fextra\\u003e\",\"legendgroup\":\"Tokyo\",\"marker\":{\"color\":\"#FECB52\",\"pattern\":{\"shape\":\"\"}},\"name\":\"Tokyo\",\"offsetgroup\":\"Tokyo\",\"orientation\":\"v\",\"showlegend\":true,\"textposition\":\"auto\",\"x\":[\"Asia\"],\"xaxis\":\"x\",\"y\":{\"dtype\":\"f8\",\"bdata\":\"JzEIrBzodkA=\"},\"yaxis\":\"y\",\"type\":\"bar\"},{\"alignmentgroup\":\"True\",\"customdata\":[[\"Mark Hill\"]],\"hovertemplate\":\"Región=Andalusia\\u003cbr\\u003eContinente=%{x}\\u003cbr\\u003eGanancia Total=%{y}\\u003cbr\\u003eCliente=%{customdata[0]}\\u003cextra\\u003e\\u003c\\u002fextra\\u003e\",\"legendgroup\":\"Andalusia\",\"marker\":{\"color\":\"#636efa\",\"pattern\":{\"shape\":\"\"}},\"name\":\"Andalusia\",\"offsetgroup\":\"Andalusia\",\"orientation\":\"v\",\"showlegend\":true,\"textposition\":\"auto\",\"x\":[\"Europe\"],\"xaxis\":\"x\",\"y\":{\"dtype\":\"f8\",\"bdata\":\"MzMzMzN9nkA=\"},\"yaxis\":\"y\",\"type\":\"bar\"},{\"alignmentgroup\":\"True\",\"customdata\":[[\"Kelli Conley\"]],\"hovertemplate\":\"Región=Baden-Wurttemberg\\u003cbr\\u003eContinente=%{x}\\u003cbr\\u003eGanancia Total=%{y}\\u003cbr\\u003eCliente=%{customdata[0]}\\u003cextra\\u003e\\u003c\\u002fextra\\u003e\",\"legendgroup\":\"Baden-Wurttemberg\",\"marker\":{\"color\":\"#EF553B\",\"pattern\":{\"shape\":\"\"}},\"name\":\"Baden-Wurttemberg\",\"offsetgroup\":\"Baden-Wurttemberg\",\"orientation\":\"v\",\"showlegend\":true,\"textposition\":\"auto\",\"x\":[\"Europe\"],\"xaxis\":\"x\",\"y\":{\"dtype\":\"f8\",\"bdata\":\"hetRuB5kkEA=\"},\"yaxis\":\"y\",\"type\":\"bar\"},{\"alignmentgroup\":\"True\",\"customdata\":[[\"Alicia Rice\"]],\"hovertemplate\":\"Región=Bavaria\\u003cbr\\u003eContinente=%{x}\\u003cbr\\u003eGanancia Total=%{y}\\u003cbr\\u003eCliente=%{customdata[0]}\\u003cextra\\u003e\\u003c\\u002fextra\\u003e\",\"legendgroup\":\"Bavaria\",\"marker\":{\"color\":\"#00cc96\",\"pattern\":{\"shape\":\"\"}},\"name\":\"Bavaria\",\"offsetgroup\":\"Bavaria\",\"orientation\":\"v\",\"showlegend\":true,\"textposition\":\"auto\",\"x\":[\"Europe\"],\"xaxis\":\"x\",\"y\":{\"dtype\":\"f8\",\"bdata\":\"AAAAAAB4jUA=\"},\"yaxis\":\"y\",\"type\":\"bar\"},{\"alignmentgroup\":\"True\",\"customdata\":[[\"Bryan Bates\"]],\"hovertemplate\":\"Región=Catalonia\\u003cbr\\u003eContinente=%{x}\\u003cbr\\u003eGanancia Total=%{y}\\u003cbr\\u003eCliente=%{customdata[0]}\\u003cextra\\u003e\\u003c\\u002fextra\\u003e\",\"legendgroup\":\"Catalonia\",\"marker\":{\"color\":\"#ab63fa\",\"pattern\":{\"shape\":\"\"}},\"name\":\"Catalonia\",\"offsetgroup\":\"Catalonia\",\"orientation\":\"v\",\"showlegend\":true,\"textposition\":\"auto\",\"x\":[\"Europe\"],\"xaxis\":\"x\",\"y\":{\"dtype\":\"f8\",\"bdata\":\"Vg4tst1nm0A=\"},\"yaxis\":\"y\",\"type\":\"bar\"},{\"alignmentgroup\":\"True\",\"customdata\":[[\"Stacey Martin\"]],\"hovertemplate\":\"Región=England\\u003cbr\\u003eContinente=%{x}\\u003cbr\\u003eGanancia Total=%{y}\\u003cbr\\u003eCliente=%{customdata[0]}\\u003cextra\\u003e\\u003c\\u002fextra\\u003e\",\"legendgroup\":\"England\",\"marker\":{\"color\":\"#FFA15A\",\"pattern\":{\"shape\":\"\"}},\"name\":\"England\",\"offsetgroup\":\"England\",\"orientation\":\"v\",\"showlegend\":true,\"textposition\":\"auto\",\"x\":[\"Europe\"],\"xaxis\":\"x\",\"y\":{\"dtype\":\"f8\",\"bdata\":\"coqO5DKekUA=\"},\"yaxis\":\"y\",\"type\":\"bar\"},{\"alignmentgroup\":\"True\",\"customdata\":[[\"Richard Flores\"]],\"hovertemplate\":\"Región=Ile-de-France\\u003cbr\\u003eContinente=%{x}\\u003cbr\\u003eGanancia Total=%{y}\\u003cbr\\u003eCliente=%{customdata[0]}\\u003cextra\\u003e\\u003c\\u002fextra\\u003e\",\"legendgroup\":\"Ile-de-France\",\"marker\":{\"color\":\"#19d3f3\",\"pattern\":{\"shape\":\"\"}},\"name\":\"Ile-de-France\",\"offsetgroup\":\"Ile-de-France\",\"orientation\":\"v\",\"showlegend\":true,\"textposition\":\"auto\",\"x\":[\"Europe\"],\"xaxis\":\"x\",\"y\":{\"dtype\":\"f8\",\"bdata\":\"OUVHcvkNiUA=\"},\"yaxis\":\"y\",\"type\":\"bar\"},{\"alignmentgroup\":\"True\",\"customdata\":[[\"Adrienne Ellis\"]],\"hovertemplate\":\"Región=Lombardy\\u003cbr\\u003eContinente=%{x}\\u003cbr\\u003eGanancia Total=%{y}\\u003cbr\\u003eCliente=%{customdata[0]}\\u003cextra\\u003e\\u003c\\u002fextra\\u003e\",\"legendgroup\":\"Lombardy\",\"marker\":{\"color\":\"#FF6692\",\"pattern\":{\"shape\":\"\"}},\"name\":\"Lombardy\",\"offsetgroup\":\"Lombardy\",\"orientation\":\"v\",\"showlegend\":true,\"textposition\":\"auto\",\"x\":[\"Europe\"],\"xaxis\":\"x\",\"y\":{\"dtype\":\"f8\",\"bdata\":\"kst\\u002fSG\\u002fKsUA=\"},\"yaxis\":\"y\",\"type\":\"bar\"},{\"alignmentgroup\":\"True\",\"customdata\":[[\"Jose Williams\"]],\"hovertemplate\":\"Región=Madrid\\u003cbr\\u003eContinente=%{x}\\u003cbr\\u003eGanancia Total=%{y}\\u003cbr\\u003eCliente=%{customdata[0]}\\u003cextra\\u003e\\u003c\\u002fextra\\u003e\",\"legendgroup\":\"Madrid\",\"marker\":{\"color\":\"#B6E880\",\"pattern\":{\"shape\":\"\"}},\"name\":\"Madrid\",\"offsetgroup\":\"Madrid\",\"orientation\":\"v\",\"showlegend\":true,\"textposition\":\"auto\",\"x\":[\"Europe\"],\"xaxis\":\"x\",\"y\":{\"dtype\":\"f8\",\"bdata\":\"cD0K16NWp0A=\"},\"yaxis\":\"y\",\"type\":\"bar\"},{\"alignmentgroup\":\"True\",\"customdata\":[[\"Paul Watson\"]],\"hovertemplate\":\"Región=North Rhine-Westphalia\\u003cbr\\u003eContinente=%{x}\\u003cbr\\u003eGanancia Total=%{y}\\u003cbr\\u003eCliente=%{customdata[0]}\\u003cextra\\u003e\\u003c\\u002fextra\\u003e\",\"legendgroup\":\"North Rhine-Westphalia\",\"marker\":{\"color\":\"#FF97FF\",\"pattern\":{\"shape\":\"\"}},\"name\":\"North Rhine-Westphalia\",\"offsetgroup\":\"North Rhine-Westphalia\",\"orientation\":\"v\",\"showlegend\":true,\"textposition\":\"auto\",\"x\":[\"Europe\"],\"xaxis\":\"x\",\"y\":{\"dtype\":\"f8\",\"bdata\":\"sHJoke2RhkA=\"},\"yaxis\":\"y\",\"type\":\"bar\"},{\"alignmentgroup\":\"True\",\"customdata\":[[\"Nina Stewart\"]],\"hovertemplate\":\"Región=Occitanie\\u003cbr\\u003eContinente=%{x}\\u003cbr\\u003eGanancia Total=%{y}\\u003cbr\\u003eCliente=%{customdata[0]}\\u003cextra\\u003e\\u003c\\u002fextra\\u003e\",\"legendgroup\":\"Occitanie\",\"marker\":{\"color\":\"#FECB52\",\"pattern\":{\"shape\":\"\"}},\"name\":\"Occitanie\",\"offsetgroup\":\"Occitanie\",\"orientation\":\"v\",\"showlegend\":true,\"textposition\":\"auto\",\"x\":[\"Europe\"],\"xaxis\":\"x\",\"y\":{\"dtype\":\"f8\",\"bdata\":\"V1uxvxwkt0A=\"},\"yaxis\":\"y\",\"type\":\"bar\"},{\"alignmentgroup\":\"True\",\"customdata\":[[\"Patrick Griffin\"]],\"hovertemplate\":\"Región=Provence-Alpes-Cote d Azur\\u003cbr\\u003eContinente=%{x}\\u003cbr\\u003eGanancia Total=%{y}\\u003cbr\\u003eCliente=%{customdata[0]}\\u003cextra\\u003e\\u003c\\u002fextra\\u003e\",\"legendgroup\":\"Provence-Alpes-Cote d Azur\",\"marker\":{\"color\":\"#636efa\",\"pattern\":{\"shape\":\"\"}},\"name\":\"Provence-Alpes-Cote d Azur\",\"offsetgroup\":\"Provence-Alpes-Cote d Azur\",\"orientation\":\"v\",\"showlegend\":true,\"textposition\":\"auto\",\"x\":[\"Europe\"],\"xaxis\":\"x\",\"y\":{\"dtype\":\"f8\",\"bdata\":\"jZduEoM6kkA=\"},\"yaxis\":\"y\",\"type\":\"bar\"},{\"alignmentgroup\":\"True\",\"customdata\":[[\"Emily Sanders\"]],\"hovertemplate\":\"Región=Scotland\\u003cbr\\u003eContinente=%{x}\\u003cbr\\u003eGanancia Total=%{y}\\u003cbr\\u003eCliente=%{customdata[0]}\\u003cextra\\u003e\\u003c\\u002fextra\\u003e\",\"legendgroup\":\"Scotland\",\"marker\":{\"color\":\"#EF553B\",\"pattern\":{\"shape\":\"\"}},\"name\":\"Scotland\",\"offsetgroup\":\"Scotland\",\"orientation\":\"v\",\"showlegend\":true,\"textposition\":\"auto\",\"x\":[\"Europe\"],\"xaxis\":\"x\",\"y\":{\"dtype\":\"f8\",\"bdata\":\"7nw\\u002fNV5WdEA=\"},\"yaxis\":\"y\",\"type\":\"bar\"},{\"alignmentgroup\":\"True\",\"customdata\":[[\"Daniel Hicks\"]],\"hovertemplate\":\"Región=Sicily\\u003cbr\\u003eContinente=%{x}\\u003cbr\\u003eGanancia Total=%{y}\\u003cbr\\u003eCliente=%{customdata[0]}\\u003cextra\\u003e\\u003c\\u002fextra\\u003e\",\"legendgroup\":\"Sicily\",\"marker\":{\"color\":\"#00cc96\",\"pattern\":{\"shape\":\"\"}},\"name\":\"Sicily\",\"offsetgroup\":\"Sicily\",\"orientation\":\"v\",\"showlegend\":true,\"textposition\":\"auto\",\"x\":[\"Europe\"],\"xaxis\":\"x\",\"y\":{\"dtype\":\"f8\",\"bdata\":\"4P3xXjVak0A=\"},\"yaxis\":\"y\",\"type\":\"bar\"},{\"alignmentgroup\":\"True\",\"customdata\":[[\"Gabriel Sanders\"]],\"hovertemplate\":\"Región=Tuscany\\u003cbr\\u003eContinente=%{x}\\u003cbr\\u003eGanancia Total=%{y}\\u003cbr\\u003eCliente=%{customdata[0]}\\u003cextra\\u003e\\u003c\\u002fextra\\u003e\",\"legendgroup\":\"Tuscany\",\"marker\":{\"color\":\"#ab63fa\",\"pattern\":{\"shape\":\"\"}},\"name\":\"Tuscany\",\"offsetgroup\":\"Tuscany\",\"orientation\":\"v\",\"showlegend\":true,\"textposition\":\"auto\",\"x\":[\"Europe\"],\"xaxis\":\"x\",\"y\":{\"dtype\":\"f8\",\"bdata\":\"uB6F61GmiEA=\"},\"yaxis\":\"y\",\"type\":\"bar\"},{\"alignmentgroup\":\"True\",\"customdata\":[[\"David Hamilton\"]],\"hovertemplate\":\"Región=Wales\\u003cbr\\u003eContinente=%{x}\\u003cbr\\u003eGanancia Total=%{y}\\u003cbr\\u003eCliente=%{customdata[0]}\\u003cextra\\u003e\\u003c\\u002fextra\\u003e\",\"legendgroup\":\"Wales\",\"marker\":{\"color\":\"#FFA15A\",\"pattern\":{\"shape\":\"\"}},\"name\":\"Wales\",\"offsetgroup\":\"Wales\",\"orientation\":\"v\",\"showlegend\":true,\"textposition\":\"auto\",\"x\":[\"Europe\"],\"xaxis\":\"x\",\"y\":{\"dtype\":\"f8\",\"bdata\":\"rIvbaAASfUA=\"},\"yaxis\":\"y\",\"type\":\"bar\"},{\"alignmentgroup\":\"True\",\"customdata\":[[\"Elizabeth Nolan\"]],\"hovertemplate\":\"Región=British Columbia\\u003cbr\\u003eContinente=%{x}\\u003cbr\\u003eGanancia Total=%{y}\\u003cbr\\u003eCliente=%{customdata[0]}\\u003cextra\\u003e\\u003c\\u002fextra\\u003e\",\"legendgroup\":\"British Columbia\",\"marker\":{\"color\":\"#19d3f3\",\"pattern\":{\"shape\":\"\"}},\"name\":\"British Columbia\",\"offsetgroup\":\"British Columbia\",\"orientation\":\"v\",\"showlegend\":true,\"textposition\":\"auto\",\"x\":[\"North America\"],\"xaxis\":\"x\",\"y\":{\"dtype\":\"f8\",\"bdata\":\"Y+5aQn6zoEA=\"},\"yaxis\":\"y\",\"type\":\"bar\"},{\"alignmentgroup\":\"True\",\"customdata\":[[\"Roger Jordan\"]],\"hovertemplate\":\"Región=California\\u003cbr\\u003eContinente=%{x}\\u003cbr\\u003eGanancia Total=%{y}\\u003cbr\\u003eCliente=%{customdata[0]}\\u003cextra\\u003e\\u003c\\u002fextra\\u003e\",\"legendgroup\":\"California\",\"marker\":{\"color\":\"#FF6692\",\"pattern\":{\"shape\":\"\"}},\"name\":\"California\",\"offsetgroup\":\"California\",\"orientation\":\"v\",\"showlegend\":true,\"textposition\":\"auto\",\"x\":[\"North America\"],\"xaxis\":\"x\",\"y\":{\"dtype\":\"f8\",\"bdata\":\"s+pztdXkk0A=\"},\"yaxis\":\"y\",\"type\":\"bar\"},{\"alignmentgroup\":\"True\",\"customdata\":[[\"Kristin Lopez\"]],\"hovertemplate\":\"Región=Camaguey\\u003cbr\\u003eContinente=%{x}\\u003cbr\\u003eGanancia Total=%{y}\\u003cbr\\u003eCliente=%{customdata[0]}\\u003cextra\\u003e\\u003c\\u002fextra\\u003e\",\"legendgroup\":\"Camaguey\",\"marker\":{\"color\":\"#B6E880\",\"pattern\":{\"shape\":\"\"}},\"name\":\"Camaguey\",\"offsetgroup\":\"Camaguey\",\"orientation\":\"v\",\"showlegend\":true,\"textposition\":\"auto\",\"x\":[\"North America\"],\"xaxis\":\"x\",\"y\":{\"dtype\":\"f8\",\"bdata\":\"yXa+nxqwekA=\"},\"yaxis\":\"y\",\"type\":\"bar\"},{\"alignmentgroup\":\"True\",\"customdata\":[[\"Daniel Hicks\"]],\"hovertemplate\":\"Región=Escuintla\\u003cbr\\u003eContinente=%{x}\\u003cbr\\u003eGanancia Total=%{y}\\u003cbr\\u003eCliente=%{customdata[0]}\\u003cextra\\u003e\\u003c\\u002fextra\\u003e\",\"legendgroup\":\"Escuintla\",\"marker\":{\"color\":\"#FF97FF\",\"pattern\":{\"shape\":\"\"}},\"name\":\"Escuintla\",\"offsetgroup\":\"Escuintla\",\"orientation\":\"v\",\"showlegend\":true,\"textposition\":\"auto\",\"x\":[\"North America\"],\"xaxis\":\"x\",\"y\":{\"dtype\":\"f8\",\"bdata\":\"uB6F61HqvEA=\"},\"yaxis\":\"y\",\"type\":\"bar\"},{\"alignmentgroup\":\"True\",\"customdata\":[[\"Stephen Martinez\"]],\"hovertemplate\":\"Región=Florida\\u003cbr\\u003eContinente=%{x}\\u003cbr\\u003eGanancia Total=%{y}\\u003cbr\\u003eCliente=%{customdata[0]}\\u003cextra\\u003e\\u003c\\u002fextra\\u003e\",\"legendgroup\":\"Florida\",\"marker\":{\"color\":\"#FECB52\",\"pattern\":{\"shape\":\"\"}},\"name\":\"Florida\",\"offsetgroup\":\"Florida\",\"orientation\":\"v\",\"showlegend\":true,\"textposition\":\"auto\",\"x\":[\"North America\"],\"xaxis\":\"x\",\"y\":{\"dtype\":\"f8\",\"bdata\":\"AAAAAIDSr0A=\"},\"yaxis\":\"y\",\"type\":\"bar\"},{\"alignmentgroup\":\"True\",\"customdata\":[[\"Gary Mcclure\"]],\"hovertemplate\":\"Región=Guatemala City\\u003cbr\\u003eContinente=%{x}\\u003cbr\\u003eGanancia Total=%{y}\\u003cbr\\u003eCliente=%{customdata[0]}\\u003cextra\\u003e\\u003c\\u002fextra\\u003e\",\"legendgroup\":\"Guatemala City\",\"marker\":{\"color\":\"#636efa\",\"pattern\":{\"shape\":\"\"}},\"name\":\"Guatemala City\",\"offsetgroup\":\"Guatemala City\",\"orientation\":\"v\",\"showlegend\":true,\"textposition\":\"auto\",\"x\":[\"North America\"],\"xaxis\":\"x\",\"y\":{\"dtype\":\"f8\",\"bdata\":\"7FG4HoU9kkA=\"},\"yaxis\":\"y\",\"type\":\"bar\"},{\"alignmentgroup\":\"True\",\"customdata\":[[\"Stanley Morris\"]],\"hovertemplate\":\"Región=Havana\\u003cbr\\u003eContinente=%{x}\\u003cbr\\u003eGanancia Total=%{y}\\u003cbr\\u003eCliente=%{customdata[0]}\\u003cextra\\u003e\\u003c\\u002fextra\\u003e\",\"legendgroup\":\"Havana\",\"marker\":{\"color\":\"#EF553B\",\"pattern\":{\"shape\":\"\"}},\"name\":\"Havana\",\"offsetgroup\":\"Havana\",\"orientation\":\"v\",\"showlegend\":true,\"textposition\":\"auto\",\"x\":[\"North America\"],\"xaxis\":\"x\",\"y\":{\"dtype\":\"f8\",\"bdata\":\"1edqK\\u002fbjkkA=\"},\"yaxis\":\"y\",\"type\":\"bar\"},{\"alignmentgroup\":\"True\",\"customdata\":[[\"Rebecca Silva\"]],\"hovertemplate\":\"Región=Jalisco\\u003cbr\\u003eContinente=%{x}\\u003cbr\\u003eGanancia Total=%{y}\\u003cbr\\u003eCliente=%{customdata[0]}\\u003cextra\\u003e\\u003c\\u002fextra\\u003e\",\"legendgroup\":\"Jalisco\",\"marker\":{\"color\":\"#00cc96\",\"pattern\":{\"shape\":\"\"}},\"name\":\"Jalisco\",\"offsetgroup\":\"Jalisco\",\"orientation\":\"v\",\"showlegend\":true,\"textposition\":\"auto\",\"x\":[\"North America\"],\"xaxis\":\"x\",\"y\":{\"dtype\":\"f8\",\"bdata\":\"yzLEsS4tkUA=\"},\"yaxis\":\"y\",\"type\":\"bar\"},{\"alignmentgroup\":\"True\",\"customdata\":[[\"Jose Williams\"]],\"hovertemplate\":\"Región=Mexico City\\u003cbr\\u003eContinente=%{x}\\u003cbr\\u003eGanancia Total=%{y}\\u003cbr\\u003eCliente=%{customdata[0]}\\u003cextra\\u003e\\u003c\\u002fextra\\u003e\",\"legendgroup\":\"Mexico City\",\"marker\":{\"color\":\"#ab63fa\",\"pattern\":{\"shape\":\"\"}},\"name\":\"Mexico City\",\"offsetgroup\":\"Mexico City\",\"orientation\":\"v\",\"showlegend\":true,\"textposition\":\"auto\",\"x\":[\"North America\"],\"xaxis\":\"x\",\"y\":{\"dtype\":\"f8\",\"bdata\":\"IR\\u002f0bFZwgEA=\"},\"yaxis\":\"y\",\"type\":\"bar\"},{\"alignmentgroup\":\"True\",\"customdata\":[[\"Christina Young\"]],\"hovertemplate\":\"Región=Nuevo Leon\\u003cbr\\u003eContinente=%{x}\\u003cbr\\u003eGanancia Total=%{y}\\u003cbr\\u003eCliente=%{customdata[0]}\\u003cextra\\u003e\\u003c\\u002fextra\\u003e\",\"legendgroup\":\"Nuevo Leon\",\"marker\":{\"color\":\"#FFA15A\",\"pattern\":{\"shape\":\"\"}},\"name\":\"Nuevo Leon\",\"offsetgroup\":\"Nuevo Leon\",\"orientation\":\"v\",\"showlegend\":true,\"textposition\":\"auto\",\"x\":[\"North America\"],\"xaxis\":\"x\",\"y\":{\"dtype\":\"f8\",\"bdata\":\"PzVeuonWs0A=\"},\"yaxis\":\"y\",\"type\":\"bar\"},{\"alignmentgroup\":\"True\",\"customdata\":[[\"Jason Anderson\"]],\"hovertemplate\":\"Región=Ontario\\u003cbr\\u003eContinente=%{x}\\u003cbr\\u003eGanancia Total=%{y}\\u003cbr\\u003eCliente=%{customdata[0]}\\u003cextra\\u003e\\u003c\\u002fextra\\u003e\",\"legendgroup\":\"Ontario\",\"marker\":{\"color\":\"#19d3f3\",\"pattern\":{\"shape\":\"\"}},\"name\":\"Ontario\",\"offsetgroup\":\"Ontario\",\"orientation\":\"v\",\"showlegend\":true,\"textposition\":\"auto\",\"x\":[\"North America\"],\"xaxis\":\"x\",\"y\":{\"dtype\":\"f8\",\"bdata\":\"nDOitPcXpUA=\"},\"yaxis\":\"y\",\"type\":\"bar\"},{\"alignmentgroup\":\"True\",\"customdata\":[[\"Alicia Rice\"]],\"hovertemplate\":\"Región=Quebec\\u003cbr\\u003eContinente=%{x}\\u003cbr\\u003eGanancia Total=%{y}\\u003cbr\\u003eCliente=%{customdata[0]}\\u003cextra\\u003e\\u003c\\u002fextra\\u003e\",\"legendgroup\":\"Quebec\",\"marker\":{\"color\":\"#FF6692\",\"pattern\":{\"shape\":\"\"}},\"name\":\"Quebec\",\"offsetgroup\":\"Quebec\",\"orientation\":\"v\",\"showlegend\":true,\"textposition\":\"auto\",\"x\":[\"North America\"],\"xaxis\":\"x\",\"y\":{\"dtype\":\"f8\",\"bdata\":\"lrIMcWyxlUA=\"},\"yaxis\":\"y\",\"type\":\"bar\"},{\"alignmentgroup\":\"True\",\"customdata\":[[\"Richard Flores\"]],\"hovertemplate\":\"Región=Quetzaltenango\\u003cbr\\u003eContinente=%{x}\\u003cbr\\u003eGanancia Total=%{y}\\u003cbr\\u003eCliente=%{customdata[0]}\\u003cextra\\u003e\\u003c\\u002fextra\\u003e\",\"legendgroup\":\"Quetzaltenango\",\"marker\":{\"color\":\"#B6E880\",\"pattern\":{\"shape\":\"\"}},\"name\":\"Quetzaltenango\",\"offsetgroup\":\"Quetzaltenango\",\"orientation\":\"v\",\"showlegend\":true,\"textposition\":\"auto\",\"x\":[\"North America\"],\"xaxis\":\"x\",\"y\":{\"dtype\":\"f8\",\"bdata\":\"EqW9wTeDr0A=\"},\"yaxis\":\"y\",\"type\":\"bar\"},{\"alignmentgroup\":\"True\",\"customdata\":[[\"Marie Cross\"]],\"hovertemplate\":\"Región=Santiago de Cuba\\u003cbr\\u003eContinente=%{x}\\u003cbr\\u003eGanancia Total=%{y}\\u003cbr\\u003eCliente=%{customdata[0]}\\u003cextra\\u003e\\u003c\\u002fextra\\u003e\",\"legendgroup\":\"Santiago de Cuba\",\"marker\":{\"color\":\"#FF97FF\",\"pattern\":{\"shape\":\"\"}},\"name\":\"Santiago de Cuba\",\"offsetgroup\":\"Santiago de Cuba\",\"orientation\":\"v\",\"showlegend\":true,\"textposition\":\"auto\",\"x\":[\"North America\"],\"xaxis\":\"x\",\"y\":{\"dtype\":\"f8\",\"bdata\":\"ldQJaGLakkA=\"},\"yaxis\":\"y\",\"type\":\"bar\"},{\"alignmentgroup\":\"True\",\"customdata\":[[\"Leon Oconnell\"]],\"hovertemplate\":\"Región=Texas\\u003cbr\\u003eContinente=%{x}\\u003cbr\\u003eGanancia Total=%{y}\\u003cbr\\u003eCliente=%{customdata[0]}\\u003cextra\\u003e\\u003c\\u002fextra\\u003e\",\"legendgroup\":\"Texas\",\"marker\":{\"color\":\"#FECB52\",\"pattern\":{\"shape\":\"\"}},\"name\":\"Texas\",\"offsetgroup\":\"Texas\",\"orientation\":\"v\",\"showlegend\":true,\"textposition\":\"auto\",\"x\":[\"North America\"],\"xaxis\":\"x\",\"y\":{\"dtype\":\"f8\",\"bdata\":\"XI\\u002fC9SjUgEA=\"},\"yaxis\":\"y\",\"type\":\"bar\"},{\"alignmentgroup\":\"True\",\"customdata\":[[\"Brandon Evans\"]],\"hovertemplate\":\"Región=Auckland\\u003cbr\\u003eContinente=%{x}\\u003cbr\\u003eGanancia Total=%{y}\\u003cbr\\u003eCliente=%{customdata[0]}\\u003cextra\\u003e\\u003c\\u002fextra\\u003e\",\"legendgroup\":\"Auckland\",\"marker\":{\"color\":\"#636efa\",\"pattern\":{\"shape\":\"\"}},\"name\":\"Auckland\",\"offsetgroup\":\"Auckland\",\"orientation\":\"v\",\"showlegend\":true,\"textposition\":\"auto\",\"x\":[\"Oceania\"],\"xaxis\":\"x\",\"y\":{\"dtype\":\"f8\",\"bdata\":\"7lpCPmgdskA=\"},\"yaxis\":\"y\",\"type\":\"bar\"},{\"alignmentgroup\":\"True\",\"customdata\":[[\"Mark Hill\"]],\"hovertemplate\":\"Región=Auki\\u003cbr\\u003eContinente=%{x}\\u003cbr\\u003eGanancia Total=%{y}\\u003cbr\\u003eCliente=%{customdata[0]}\\u003cextra\\u003e\\u003c\\u002fextra\\u003e\",\"legendgroup\":\"Auki\",\"marker\":{\"color\":\"#EF553B\",\"pattern\":{\"shape\":\"\"}},\"name\":\"Auki\",\"offsetgroup\":\"Auki\",\"orientation\":\"v\",\"showlegend\":true,\"textposition\":\"auto\",\"x\":[\"Oceania\"],\"xaxis\":\"x\",\"y\":{\"dtype\":\"f8\",\"bdata\":\"FK5H4XpxmUA=\"},\"yaxis\":\"y\",\"type\":\"bar\"},{\"alignmentgroup\":\"True\",\"customdata\":[[\"Marissa Leach\"]],\"hovertemplate\":\"Región=Christchurch\\u003cbr\\u003eContinente=%{x}\\u003cbr\\u003eGanancia Total=%{y}\\u003cbr\\u003eCliente=%{customdata[0]}\\u003cextra\\u003e\\u003c\\u002fextra\\u003e\",\"legendgroup\":\"Christchurch\",\"marker\":{\"color\":\"#00cc96\",\"pattern\":{\"shape\":\"\"}},\"name\":\"Christchurch\",\"offsetgroup\":\"Christchurch\",\"orientation\":\"v\",\"showlegend\":true,\"textposition\":\"auto\",\"x\":[\"Oceania\"],\"xaxis\":\"x\",\"y\":{\"dtype\":\"f8\",\"bdata\":\"FK5H4Xpwl0A=\"},\"yaxis\":\"y\",\"type\":\"bar\"},{\"alignmentgroup\":\"True\",\"customdata\":[[\"Brandon Evans\"]],\"hovertemplate\":\"Región=Gizo\\u003cbr\\u003eContinente=%{x}\\u003cbr\\u003eGanancia Total=%{y}\\u003cbr\\u003eCliente=%{customdata[0]}\\u003cextra\\u003e\\u003c\\u002fextra\\u003e\",\"legendgroup\":\"Gizo\",\"marker\":{\"color\":\"#ab63fa\",\"pattern\":{\"shape\":\"\"}},\"name\":\"Gizo\",\"offsetgroup\":\"Gizo\",\"orientation\":\"v\",\"showlegend\":true,\"textposition\":\"auto\",\"x\":[\"Oceania\"],\"xaxis\":\"x\",\"y\":{\"dtype\":\"f8\",\"bdata\":\"UfwYc9cPlEA=\"},\"yaxis\":\"y\",\"type\":\"bar\"},{\"alignmentgroup\":\"True\",\"customdata\":[[\"Adrienne Ellis\"]],\"hovertemplate\":\"Región=Honiara\\u003cbr\\u003eContinente=%{x}\\u003cbr\\u003eGanancia Total=%{y}\\u003cbr\\u003eCliente=%{customdata[0]}\\u003cextra\\u003e\\u003c\\u002fextra\\u003e\",\"legendgroup\":\"Honiara\",\"marker\":{\"color\":\"#FFA15A\",\"pattern\":{\"shape\":\"\"}},\"name\":\"Honiara\",\"offsetgroup\":\"Honiara\",\"orientation\":\"v\",\"showlegend\":true,\"textposition\":\"auto\",\"x\":[\"Oceania\"],\"xaxis\":\"x\",\"y\":{\"dtype\":\"f8\",\"bdata\":\"30+Nl27Rc0A=\"},\"yaxis\":\"y\",\"type\":\"bar\"},{\"alignmentgroup\":\"True\",\"customdata\":[[\"Alicia Rice\"]],\"hovertemplate\":\"Región=Lae\\u003cbr\\u003eContinente=%{x}\\u003cbr\\u003eGanancia Total=%{y}\\u003cbr\\u003eCliente=%{customdata[0]}\\u003cextra\\u003e\\u003c\\u002fextra\\u003e\",\"legendgroup\":\"Lae\",\"marker\":{\"color\":\"#19d3f3\",\"pattern\":{\"shape\":\"\"}},\"name\":\"Lae\",\"offsetgroup\":\"Lae\",\"orientation\":\"v\",\"showlegend\":true,\"textposition\":\"auto\",\"x\":[\"Oceania\"],\"xaxis\":\"x\",\"y\":{\"dtype\":\"f8\",\"bdata\":\"j8L1KFzHakA=\"},\"yaxis\":\"y\",\"type\":\"bar\"},{\"alignmentgroup\":\"True\",\"customdata\":[[\"Gene Miller\"]],\"hovertemplate\":\"Región=Lautoka\\u003cbr\\u003eContinente=%{x}\\u003cbr\\u003eGanancia Total=%{y}\\u003cbr\\u003eCliente=%{customdata[0]}\\u003cextra\\u003e\\u003c\\u002fextra\\u003e\",\"legendgroup\":\"Lautoka\",\"marker\":{\"color\":\"#FF6692\",\"pattern\":{\"shape\":\"\"}},\"name\":\"Lautoka\",\"offsetgroup\":\"Lautoka\",\"orientation\":\"v\",\"showlegend\":true,\"textposition\":\"auto\",\"x\":[\"Oceania\"],\"xaxis\":\"x\",\"y\":{\"dtype\":\"f8\",\"bdata\":\"XI\\u002fC9ShWgUA=\"},\"yaxis\":\"y\",\"type\":\"bar\"},{\"alignmentgroup\":\"True\",\"customdata\":[[\"Jose Williams\"]],\"hovertemplate\":\"Región=Madang\\u003cbr\\u003eContinente=%{x}\\u003cbr\\u003eGanancia Total=%{y}\\u003cbr\\u003eCliente=%{customdata[0]}\\u003cextra\\u003e\\u003c\\u002fextra\\u003e\",\"legendgroup\":\"Madang\",\"marker\":{\"color\":\"#B6E880\",\"pattern\":{\"shape\":\"\"}},\"name\":\"Madang\",\"offsetgroup\":\"Madang\",\"orientation\":\"v\",\"showlegend\":true,\"textposition\":\"auto\",\"x\":[\"Oceania\"],\"xaxis\":\"x\",\"y\":{\"dtype\":\"f8\",\"bdata\":\"mpmZmZmZaEA=\"},\"yaxis\":\"y\",\"type\":\"bar\"},{\"alignmentgroup\":\"True\",\"customdata\":[[\"Emily Mitchell\"]],\"hovertemplate\":\"Región=Nadi\\u003cbr\\u003eContinente=%{x}\\u003cbr\\u003eGanancia Total=%{y}\\u003cbr\\u003eCliente=%{customdata[0]}\\u003cextra\\u003e\\u003c\\u002fextra\\u003e\",\"legendgroup\":\"Nadi\",\"marker\":{\"color\":\"#FF97FF\",\"pattern\":{\"shape\":\"\"}},\"name\":\"Nadi\",\"offsetgroup\":\"Nadi\",\"orientation\":\"v\",\"showlegend\":true,\"textposition\":\"auto\",\"x\":[\"Oceania\"],\"xaxis\":\"x\",\"y\":{\"dtype\":\"f8\",\"bdata\":\"hetRuB7lZEA=\"},\"yaxis\":\"y\",\"type\":\"bar\"},{\"alignmentgroup\":\"True\",\"customdata\":[[\"Mark Hill\"]],\"hovertemplate\":\"Región=New South Wales\\u003cbr\\u003eContinente=%{x}\\u003cbr\\u003eGanancia Total=%{y}\\u003cbr\\u003eCliente=%{customdata[0]}\\u003cextra\\u003e\\u003c\\u002fextra\\u003e\",\"legendgroup\":\"New South Wales\",\"marker\":{\"color\":\"#FECB52\",\"pattern\":{\"shape\":\"\"}},\"name\":\"New South Wales\",\"offsetgroup\":\"New South Wales\",\"orientation\":\"v\",\"showlegend\":true,\"textposition\":\"auto\",\"x\":[\"Oceania\"],\"xaxis\":\"x\",\"y\":{\"dtype\":\"f8\",\"bdata\":\"PQrXo3C2oUA=\"},\"yaxis\":\"y\",\"type\":\"bar\"},{\"alignmentgroup\":\"True\",\"customdata\":[[\"Linda Torres\"]],\"hovertemplate\":\"Región=Port Moresby\\u003cbr\\u003eContinente=%{x}\\u003cbr\\u003eGanancia Total=%{y}\\u003cbr\\u003eCliente=%{customdata[0]}\\u003cextra\\u003e\\u003c\\u002fextra\\u003e\",\"legendgroup\":\"Port Moresby\",\"marker\":{\"color\":\"#636efa\",\"pattern\":{\"shape\":\"\"}},\"name\":\"Port Moresby\",\"offsetgroup\":\"Port Moresby\",\"orientation\":\"v\",\"showlegend\":true,\"textposition\":\"auto\",\"x\":[\"Oceania\"],\"xaxis\":\"x\",\"y\":{\"dtype\":\"f8\",\"bdata\":\"f2q8dJNVekA=\"},\"yaxis\":\"y\",\"type\":\"bar\"},{\"alignmentgroup\":\"True\",\"customdata\":[[\"Scott Lopez\"]],\"hovertemplate\":\"Región=Queensland\\u003cbr\\u003eContinente=%{x}\\u003cbr\\u003eGanancia Total=%{y}\\u003cbr\\u003eCliente=%{customdata[0]}\\u003cextra\\u003e\\u003c\\u002fextra\\u003e\",\"legendgroup\":\"Queensland\",\"marker\":{\"color\":\"#EF553B\",\"pattern\":{\"shape\":\"\"}},\"name\":\"Queensland\",\"offsetgroup\":\"Queensland\",\"orientation\":\"v\",\"showlegend\":true,\"textposition\":\"auto\",\"x\":[\"Oceania\"],\"xaxis\":\"x\",\"y\":{\"dtype\":\"f8\",\"bdata\":\"6lvmdFk8SEA=\"},\"yaxis\":\"y\",\"type\":\"bar\"},{\"alignmentgroup\":\"True\",\"customdata\":[[\"Cheryl Gray\"]],\"hovertemplate\":\"Región=Suva\\u003cbr\\u003eContinente=%{x}\\u003cbr\\u003eGanancia Total=%{y}\\u003cbr\\u003eCliente=%{customdata[0]}\\u003cextra\\u003e\\u003c\\u002fextra\\u003e\",\"legendgroup\":\"Suva\",\"marker\":{\"color\":\"#00cc96\",\"pattern\":{\"shape\":\"\"}},\"name\":\"Suva\",\"offsetgroup\":\"Suva\",\"orientation\":\"v\",\"showlegend\":true,\"textposition\":\"auto\",\"x\":[\"Oceania\"],\"xaxis\":\"x\",\"y\":{\"dtype\":\"f8\",\"bdata\":\"c9cS8kHeo0A=\"},\"yaxis\":\"y\",\"type\":\"bar\"},{\"alignmentgroup\":\"True\",\"customdata\":[[\"Kristin Romero\"]],\"hovertemplate\":\"Región=Victoria\\u003cbr\\u003eContinente=%{x}\\u003cbr\\u003eGanancia Total=%{y}\\u003cbr\\u003eCliente=%{customdata[0]}\\u003cextra\\u003e\\u003c\\u002fextra\\u003e\",\"legendgroup\":\"Victoria\",\"marker\":{\"color\":\"#ab63fa\",\"pattern\":{\"shape\":\"\"}},\"name\":\"Victoria\",\"offsetgroup\":\"Victoria\",\"orientation\":\"v\",\"showlegend\":true,\"textposition\":\"auto\",\"x\":[\"Oceania\"],\"xaxis\":\"x\",\"y\":{\"dtype\":\"f8\",\"bdata\":\"4XoUrkc5ZkA=\"},\"yaxis\":\"y\",\"type\":\"bar\"},{\"alignmentgroup\":\"True\",\"customdata\":[[\"Martha Drake\"]],\"hovertemplate\":\"Región=Wellington\\u003cbr\\u003eContinente=%{x}\\u003cbr\\u003eGanancia Total=%{y}\\u003cbr\\u003eCliente=%{customdata[0]}\\u003cextra\\u003e\\u003c\\u002fextra\\u003e\",\"legendgroup\":\"Wellington\",\"marker\":{\"color\":\"#FFA15A\",\"pattern\":{\"shape\":\"\"}},\"name\":\"Wellington\",\"offsetgroup\":\"Wellington\",\"orientation\":\"v\",\"showlegend\":true,\"textposition\":\"auto\",\"x\":[\"Oceania\"],\"xaxis\":\"x\",\"y\":{\"dtype\":\"f8\",\"bdata\":\"WmQ7309NXUA=\"},\"yaxis\":\"y\",\"type\":\"bar\"},{\"alignmentgroup\":\"True\",\"customdata\":[[\"Benjamin Miller\"]],\"hovertemplate\":\"Región=Arequipa\\u003cbr\\u003eContinente=%{x}\\u003cbr\\u003eGanancia Total=%{y}\\u003cbr\\u003eCliente=%{customdata[0]}\\u003cextra\\u003e\\u003c\\u002fextra\\u003e\",\"legendgroup\":\"Arequipa\",\"marker\":{\"color\":\"#19d3f3\",\"pattern\":{\"shape\":\"\"}},\"name\":\"Arequipa\",\"offsetgroup\":\"Arequipa\",\"orientation\":\"v\",\"showlegend\":true,\"textposition\":\"auto\",\"x\":[\"South America\"],\"xaxis\":\"x\",\"y\":{\"dtype\":\"f8\",\"bdata\":\"R3L5D+n2lkA=\"},\"yaxis\":\"y\",\"type\":\"bar\"},{\"alignmentgroup\":\"True\",\"customdata\":[[\"Misty Boone\"]],\"hovertemplate\":\"Región=Bahia\\u003cbr\\u003eContinente=%{x}\\u003cbr\\u003eGanancia Total=%{y}\\u003cbr\\u003eCliente=%{customdata[0]}\\u003cextra\\u003e\\u003c\\u002fextra\\u003e\",\"legendgroup\":\"Bahia\",\"marker\":{\"color\":\"#FF6692\",\"pattern\":{\"shape\":\"\"}},\"name\":\"Bahia\",\"offsetgroup\":\"Bahia\",\"orientation\":\"v\",\"showlegend\":true,\"textposition\":\"auto\",\"x\":[\"South America\"],\"xaxis\":\"x\",\"y\":{\"dtype\":\"f8\",\"bdata\":\"tMh2vp+KhUA=\"},\"yaxis\":\"y\",\"type\":\"bar\"},{\"alignmentgroup\":\"True\",\"customdata\":[[\"Ryan Meyer\"]],\"hovertemplate\":\"Región=Bogota\\u003cbr\\u003eContinente=%{x}\\u003cbr\\u003eGanancia Total=%{y}\\u003cbr\\u003eCliente=%{customdata[0]}\\u003cextra\\u003e\\u003c\\u002fextra\\u003e\",\"legendgroup\":\"Bogota\",\"marker\":{\"color\":\"#B6E880\",\"pattern\":{\"shape\":\"\"}},\"name\":\"Bogota\",\"offsetgroup\":\"Bogota\",\"orientation\":\"v\",\"showlegend\":true,\"textposition\":\"auto\",\"x\":[\"South America\"],\"xaxis\":\"x\",\"y\":{\"dtype\":\"f8\",\"bdata\":\"P1dbsb8Mf0A=\"},\"yaxis\":\"y\",\"type\":\"bar\"},{\"alignmentgroup\":\"True\",\"customdata\":[[\"Martha Drake\"]],\"hovertemplate\":\"Región=Buenos Aires\\u003cbr\\u003eContinente=%{x}\\u003cbr\\u003eGanancia Total=%{y}\\u003cbr\\u003eCliente=%{customdata[0]}\\u003cextra\\u003e\\u003c\\u002fextra\\u003e\",\"legendgroup\":\"Buenos Aires\",\"marker\":{\"color\":\"#FF97FF\",\"pattern\":{\"shape\":\"\"}},\"name\":\"Buenos Aires\",\"offsetgroup\":\"Buenos Aires\",\"orientation\":\"v\",\"showlegend\":true,\"textposition\":\"auto\",\"x\":[\"South America\"],\"xaxis\":\"x\",\"y\":{\"dtype\":\"f8\",\"bdata\":\"GCZTBaNJjkA=\"},\"yaxis\":\"y\",\"type\":\"bar\"},{\"alignmentgroup\":\"True\",\"customdata\":[[\"Stanley Morris\"]],\"hovertemplate\":\"Región=Cali\\u003cbr\\u003eContinente=%{x}\\u003cbr\\u003eGanancia Total=%{y}\\u003cbr\\u003eCliente=%{customdata[0]}\\u003cextra\\u003e\\u003c\\u002fextra\\u003e\",\"legendgroup\":\"Cali\",\"marker\":{\"color\":\"#FECB52\",\"pattern\":{\"shape\":\"\"}},\"name\":\"Cali\",\"offsetgroup\":\"Cali\",\"orientation\":\"v\",\"showlegend\":true,\"textposition\":\"auto\",\"x\":[\"South America\"],\"xaxis\":\"x\",\"y\":{\"dtype\":\"f8\",\"bdata\":\"fT81XrrleEA=\"},\"yaxis\":\"y\",\"type\":\"bar\"},{\"alignmentgroup\":\"True\",\"customdata\":[[\"Christina Young\"]],\"hovertemplate\":\"Región=Caracas\\u003cbr\\u003eContinente=%{x}\\u003cbr\\u003eGanancia Total=%{y}\\u003cbr\\u003eCliente=%{customdata[0]}\\u003cextra\\u003e\\u003c\\u002fextra\\u003e\",\"legendgroup\":\"Caracas\",\"marker\":{\"color\":\"#636efa\",\"pattern\":{\"shape\":\"\"}},\"name\":\"Caracas\",\"offsetgroup\":\"Caracas\",\"orientation\":\"v\",\"showlegend\":true,\"textposition\":\"auto\",\"x\":[\"South America\"],\"xaxis\":\"x\",\"y\":{\"dtype\":\"f8\",\"bdata\":\"PujZrPofd0A=\"},\"yaxis\":\"y\",\"type\":\"bar\"},{\"alignmentgroup\":\"True\",\"customdata\":[[\"Brandi Ferguson\"]],\"hovertemplate\":\"Región=Cordoba\\u003cbr\\u003eContinente=%{x}\\u003cbr\\u003eGanancia Total=%{y}\\u003cbr\\u003eCliente=%{customdata[0]}\\u003cextra\\u003e\\u003c\\u002fextra\\u003e\",\"legendgroup\":\"Cordoba\",\"marker\":{\"color\":\"#EF553B\",\"pattern\":{\"shape\":\"\"}},\"name\":\"Cordoba\",\"offsetgroup\":\"Cordoba\",\"orientation\":\"v\",\"showlegend\":true,\"textposition\":\"auto\",\"x\":[\"South America\"],\"xaxis\":\"x\",\"y\":{\"dtype\":\"f8\",\"bdata\":\"Ke0NvjDIhUA=\"},\"yaxis\":\"y\",\"type\":\"bar\"},{\"alignmentgroup\":\"True\",\"customdata\":[[\"Evan Ramos\"]],\"hovertemplate\":\"Región=Cusco\\u003cbr\\u003eContinente=%{x}\\u003cbr\\u003eGanancia Total=%{y}\\u003cbr\\u003eCliente=%{customdata[0]}\\u003cextra\\u003e\\u003c\\u002fextra\\u003e\",\"legendgroup\":\"Cusco\",\"marker\":{\"color\":\"#00cc96\",\"pattern\":{\"shape\":\"\"}},\"name\":\"Cusco\",\"offsetgroup\":\"Cusco\",\"orientation\":\"v\",\"showlegend\":true,\"textposition\":\"auto\",\"x\":[\"South America\"],\"xaxis\":\"x\",\"y\":{\"dtype\":\"f8\",\"bdata\":\"c2iR7XzHd0A=\"},\"yaxis\":\"y\",\"type\":\"bar\"},{\"alignmentgroup\":\"True\",\"customdata\":[[\"Richard Flores\"]],\"hovertemplate\":\"Región=Lima\\u003cbr\\u003eContinente=%{x}\\u003cbr\\u003eGanancia Total=%{y}\\u003cbr\\u003eCliente=%{customdata[0]}\\u003cextra\\u003e\\u003c\\u002fextra\\u003e\",\"legendgroup\":\"Lima\",\"marker\":{\"color\":\"#ab63fa\",\"pattern\":{\"shape\":\"\"}},\"name\":\"Lima\",\"offsetgroup\":\"Lima\",\"orientation\":\"v\",\"showlegend\":true,\"textposition\":\"auto\",\"x\":[\"South America\"],\"xaxis\":\"x\",\"y\":{\"dtype\":\"f8\",\"bdata\":\"mpmZmZkBdEA=\"},\"yaxis\":\"y\",\"type\":\"bar\"},{\"alignmentgroup\":\"True\",\"customdata\":[[\"Michelle Wells\"]],\"hovertemplate\":\"Región=Maracaibo\\u003cbr\\u003eContinente=%{x}\\u003cbr\\u003eGanancia Total=%{y}\\u003cbr\\u003eCliente=%{customdata[0]}\\u003cextra\\u003e\\u003c\\u002fextra\\u003e\",\"legendgroup\":\"Maracaibo\",\"marker\":{\"color\":\"#FFA15A\",\"pattern\":{\"shape\":\"\"}},\"name\":\"Maracaibo\",\"offsetgroup\":\"Maracaibo\",\"orientation\":\"v\",\"showlegend\":true,\"textposition\":\"auto\",\"x\":[\"South America\"],\"xaxis\":\"x\",\"y\":{\"dtype\":\"f8\",\"bdata\":\"eekmMQgXfUA=\"},\"yaxis\":\"y\",\"type\":\"bar\"},{\"alignmentgroup\":\"True\",\"customdata\":[[\"Mark Simmons\"]],\"hovertemplate\":\"Región=Medellin\\u003cbr\\u003eContinente=%{x}\\u003cbr\\u003eGanancia Total=%{y}\\u003cbr\\u003eCliente=%{customdata[0]}\\u003cextra\\u003e\\u003c\\u002fextra\\u003e\",\"legendgroup\":\"Medellin\",\"marker\":{\"color\":\"#19d3f3\",\"pattern\":{\"shape\":\"\"}},\"name\":\"Medellin\",\"offsetgroup\":\"Medellin\",\"orientation\":\"v\",\"showlegend\":true,\"textposition\":\"auto\",\"x\":[\"South America\"],\"xaxis\":\"x\",\"y\":{\"dtype\":\"f8\",\"bdata\":\"t9EA3gJecEA=\"},\"yaxis\":\"y\",\"type\":\"bar\"},{\"alignmentgroup\":\"True\",\"customdata\":[[\"Scott Lopez\"]],\"hovertemplate\":\"Región=Rio de Janeiro\\u003cbr\\u003eContinente=%{x}\\u003cbr\\u003eGanancia Total=%{y}\\u003cbr\\u003eCliente=%{customdata[0]}\\u003cextra\\u003e\\u003c\\u002fextra\\u003e\",\"legendgroup\":\"Rio de Janeiro\",\"marker\":{\"color\":\"#FF6692\",\"pattern\":{\"shape\":\"\"}},\"name\":\"Rio de Janeiro\",\"offsetgroup\":\"Rio de Janeiro\",\"orientation\":\"v\",\"showlegend\":true,\"textposition\":\"auto\",\"x\":[\"South America\"],\"xaxis\":\"x\",\"y\":{\"dtype\":\"f8\",\"bdata\":\"bAn5oGcdZUA=\"},\"yaxis\":\"y\",\"type\":\"bar\"},{\"alignmentgroup\":\"True\",\"customdata\":[[\"Kevin Elliott\"]],\"hovertemplate\":\"Región=Santa Fe\\u003cbr\\u003eContinente=%{x}\\u003cbr\\u003eGanancia Total=%{y}\\u003cbr\\u003eCliente=%{customdata[0]}\\u003cextra\\u003e\\u003c\\u002fextra\\u003e\",\"legendgroup\":\"Santa Fe\",\"marker\":{\"color\":\"#B6E880\",\"pattern\":{\"shape\":\"\"}},\"name\":\"Santa Fe\",\"offsetgroup\":\"Santa Fe\",\"orientation\":\"v\",\"showlegend\":true,\"textposition\":\"auto\",\"x\":[\"South America\"],\"xaxis\":\"x\",\"y\":{\"dtype\":\"f8\",\"bdata\":\"dnEbDbDRvkA=\"},\"yaxis\":\"y\",\"type\":\"bar\"},{\"alignmentgroup\":\"True\",\"customdata\":[[\"Gabriel Sanders\"]],\"hovertemplate\":\"Región=Sao Paulo\\u003cbr\\u003eContinente=%{x}\\u003cbr\\u003eGanancia Total=%{y}\\u003cbr\\u003eCliente=%{customdata[0]}\\u003cextra\\u003e\\u003c\\u002fextra\\u003e\",\"legendgroup\":\"Sao Paulo\",\"marker\":{\"color\":\"#FF97FF\",\"pattern\":{\"shape\":\"\"}},\"name\":\"Sao Paulo\",\"offsetgroup\":\"Sao Paulo\",\"orientation\":\"v\",\"showlegend\":true,\"textposition\":\"auto\",\"x\":[\"South America\"],\"xaxis\":\"x\",\"y\":{\"dtype\":\"f8\",\"bdata\":\"rkfhepSPvUA=\"},\"yaxis\":\"y\",\"type\":\"bar\"},{\"alignmentgroup\":\"True\",\"customdata\":[[\"Elizabeth Jensen\"]],\"hovertemplate\":\"Región=Valencia\\u003cbr\\u003eContinente=%{x}\\u003cbr\\u003eGanancia Total=%{y}\\u003cbr\\u003eCliente=%{customdata[0]}\\u003cextra\\u003e\\u003c\\u002fextra\\u003e\",\"legendgroup\":\"Valencia\",\"marker\":{\"color\":\"#FECB52\",\"pattern\":{\"shape\":\"\"}},\"name\":\"Valencia\",\"offsetgroup\":\"Valencia\",\"orientation\":\"v\",\"showlegend\":true,\"textposition\":\"auto\",\"x\":[\"South America\"],\"xaxis\":\"x\",\"y\":{\"dtype\":\"f8\",\"bdata\":\"EoPAyqE8kkA=\"},\"yaxis\":\"y\",\"type\":\"bar\"}],                        {\"template\":{\"data\":{\"histogram2dcontour\":[{\"type\":\"histogram2dcontour\",\"colorbar\":{\"outlinewidth\":0,\"ticks\":\"\"},\"colorscale\":[[0.0,\"#0d0887\"],[0.1111111111111111,\"#46039f\"],[0.2222222222222222,\"#7201a8\"],[0.3333333333333333,\"#9c179e\"],[0.4444444444444444,\"#bd3786\"],[0.5555555555555556,\"#d8576b\"],[0.6666666666666666,\"#ed7953\"],[0.7777777777777778,\"#fb9f3a\"],[0.8888888888888888,\"#fdca26\"],[1.0,\"#f0f921\"]]}],\"choropleth\":[{\"type\":\"choropleth\",\"colorbar\":{\"outlinewidth\":0,\"ticks\":\"\"}}],\"histogram2d\":[{\"type\":\"histogram2d\",\"colorbar\":{\"outlinewidth\":0,\"ticks\":\"\"},\"colorscale\":[[0.0,\"#0d0887\"],[0.1111111111111111,\"#46039f\"],[0.2222222222222222,\"#7201a8\"],[0.3333333333333333,\"#9c179e\"],[0.4444444444444444,\"#bd3786\"],[0.5555555555555556,\"#d8576b\"],[0.6666666666666666,\"#ed7953\"],[0.7777777777777778,\"#fb9f3a\"],[0.8888888888888888,\"#fdca26\"],[1.0,\"#f0f921\"]]}],\"heatmap\":[{\"type\":\"heatmap\",\"colorbar\":{\"outlinewidth\":0,\"ticks\":\"\"},\"colorscale\":[[0.0,\"#0d0887\"],[0.1111111111111111,\"#46039f\"],[0.2222222222222222,\"#7201a8\"],[0.3333333333333333,\"#9c179e\"],[0.4444444444444444,\"#bd3786\"],[0.5555555555555556,\"#d8576b\"],[0.6666666666666666,\"#ed7953\"],[0.7777777777777778,\"#fb9f3a\"],[0.8888888888888888,\"#fdca26\"],[1.0,\"#f0f921\"]]}],\"contourcarpet\":[{\"type\":\"contourcarpet\",\"colorbar\":{\"outlinewidth\":0,\"ticks\":\"\"}}],\"contour\":[{\"type\":\"contour\",\"colorbar\":{\"outlinewidth\":0,\"ticks\":\"\"},\"colorscale\":[[0.0,\"#0d0887\"],[0.1111111111111111,\"#46039f\"],[0.2222222222222222,\"#7201a8\"],[0.3333333333333333,\"#9c179e\"],[0.4444444444444444,\"#bd3786\"],[0.5555555555555556,\"#d8576b\"],[0.6666666666666666,\"#ed7953\"],[0.7777777777777778,\"#fb9f3a\"],[0.8888888888888888,\"#fdca26\"],[1.0,\"#f0f921\"]]}],\"surface\":[{\"type\":\"surface\",\"colorbar\":{\"outlinewidth\":0,\"ticks\":\"\"},\"colorscale\":[[0.0,\"#0d0887\"],[0.1111111111111111,\"#46039f\"],[0.2222222222222222,\"#7201a8\"],[0.3333333333333333,\"#9c179e\"],[0.4444444444444444,\"#bd3786\"],[0.5555555555555556,\"#d8576b\"],[0.6666666666666666,\"#ed7953\"],[0.7777777777777778,\"#fb9f3a\"],[0.8888888888888888,\"#fdca26\"],[1.0,\"#f0f921\"]]}],\"mesh3d\":[{\"type\":\"mesh3d\",\"colorbar\":{\"outlinewidth\":0,\"ticks\":\"\"}}],\"scatter\":[{\"fillpattern\":{\"fillmode\":\"overlay\",\"size\":10,\"solidity\":0.2},\"type\":\"scatter\"}],\"parcoords\":[{\"type\":\"parcoords\",\"line\":{\"colorbar\":{\"outlinewidth\":0,\"ticks\":\"\"}}}],\"scatterpolargl\":[{\"type\":\"scatterpolargl\",\"marker\":{\"colorbar\":{\"outlinewidth\":0,\"ticks\":\"\"}}}],\"bar\":[{\"error_x\":{\"color\":\"#2a3f5f\"},\"error_y\":{\"color\":\"#2a3f5f\"},\"marker\":{\"line\":{\"color\":\"#E5ECF6\",\"width\":0.5},\"pattern\":{\"fillmode\":\"overlay\",\"size\":10,\"solidity\":0.2}},\"type\":\"bar\"}],\"scattergeo\":[{\"type\":\"scattergeo\",\"marker\":{\"colorbar\":{\"outlinewidth\":0,\"ticks\":\"\"}}}],\"scatterpolar\":[{\"type\":\"scatterpolar\",\"marker\":{\"colorbar\":{\"outlinewidth\":0,\"ticks\":\"\"}}}],\"histogram\":[{\"marker\":{\"pattern\":{\"fillmode\":\"overlay\",\"size\":10,\"solidity\":0.2}},\"type\":\"histogram\"}],\"scattergl\":[{\"type\":\"scattergl\",\"marker\":{\"colorbar\":{\"outlinewidth\":0,\"ticks\":\"\"}}}],\"scatter3d\":[{\"type\":\"scatter3d\",\"line\":{\"colorbar\":{\"outlinewidth\":0,\"ticks\":\"\"}},\"marker\":{\"colorbar\":{\"outlinewidth\":0,\"ticks\":\"\"}}}],\"scattermap\":[{\"type\":\"scattermap\",\"marker\":{\"colorbar\":{\"outlinewidth\":0,\"ticks\":\"\"}}}],\"scattermapbox\":[{\"type\":\"scattermapbox\",\"marker\":{\"colorbar\":{\"outlinewidth\":0,\"ticks\":\"\"}}}],\"scatterternary\":[{\"type\":\"scatterternary\",\"marker\":{\"colorbar\":{\"outlinewidth\":0,\"ticks\":\"\"}}}],\"scattercarpet\":[{\"type\":\"scattercarpet\",\"marker\":{\"colorbar\":{\"outlinewidth\":0,\"ticks\":\"\"}}}],\"carpet\":[{\"aaxis\":{\"endlinecolor\":\"#2a3f5f\",\"gridcolor\":\"white\",\"linecolor\":\"white\",\"minorgridcolor\":\"white\",\"startlinecolor\":\"#2a3f5f\"},\"baxis\":{\"endlinecolor\":\"#2a3f5f\",\"gridcolor\":\"white\",\"linecolor\":\"white\",\"minorgridcolor\":\"white\",\"startlinecolor\":\"#2a3f5f\"},\"type\":\"carpet\"}],\"table\":[{\"cells\":{\"fill\":{\"color\":\"#EBF0F8\"},\"line\":{\"color\":\"white\"}},\"header\":{\"fill\":{\"color\":\"#C8D4E3\"},\"line\":{\"color\":\"white\"}},\"type\":\"table\"}],\"barpolar\":[{\"marker\":{\"line\":{\"color\":\"#E5ECF6\",\"width\":0.5},\"pattern\":{\"fillmode\":\"overlay\",\"size\":10,\"solidity\":0.2}},\"type\":\"barpolar\"}],\"pie\":[{\"automargin\":true,\"type\":\"pie\"}]},\"layout\":{\"autotypenumbers\":\"strict\",\"colorway\":[\"#636efa\",\"#EF553B\",\"#00cc96\",\"#ab63fa\",\"#FFA15A\",\"#19d3f3\",\"#FF6692\",\"#B6E880\",\"#FF97FF\",\"#FECB52\"],\"font\":{\"color\":\"#2a3f5f\"},\"hovermode\":\"closest\",\"hoverlabel\":{\"align\":\"left\"},\"paper_bgcolor\":\"white\",\"plot_bgcolor\":\"#E5ECF6\",\"polar\":{\"bgcolor\":\"#E5ECF6\",\"angularaxis\":{\"gridcolor\":\"white\",\"linecolor\":\"white\",\"ticks\":\"\"},\"radialaxis\":{\"gridcolor\":\"white\",\"linecolor\":\"white\",\"ticks\":\"\"}},\"ternary\":{\"bgcolor\":\"#E5ECF6\",\"aaxis\":{\"gridcolor\":\"white\",\"linecolor\":\"white\",\"ticks\":\"\"},\"baxis\":{\"gridcolor\":\"white\",\"linecolor\":\"white\",\"ticks\":\"\"},\"caxis\":{\"gridcolor\":\"white\",\"linecolor\":\"white\",\"ticks\":\"\"}},\"coloraxis\":{\"colorbar\":{\"outlinewidth\":0,\"ticks\":\"\"}},\"colorscale\":{\"sequential\":[[0.0,\"#0d0887\"],[0.1111111111111111,\"#46039f\"],[0.2222222222222222,\"#7201a8\"],[0.3333333333333333,\"#9c179e\"],[0.4444444444444444,\"#bd3786\"],[0.5555555555555556,\"#d8576b\"],[0.6666666666666666,\"#ed7953\"],[0.7777777777777778,\"#fb9f3a\"],[0.8888888888888888,\"#fdca26\"],[1.0,\"#f0f921\"]],\"sequentialminus\":[[0.0,\"#0d0887\"],[0.1111111111111111,\"#46039f\"],[0.2222222222222222,\"#7201a8\"],[0.3333333333333333,\"#9c179e\"],[0.4444444444444444,\"#bd3786\"],[0.5555555555555556,\"#d8576b\"],[0.6666666666666666,\"#ed7953\"],[0.7777777777777778,\"#fb9f3a\"],[0.8888888888888888,\"#fdca26\"],[1.0,\"#f0f921\"]],\"diverging\":[[0,\"#8e0152\"],[0.1,\"#c51b7d\"],[0.2,\"#de77ae\"],[0.3,\"#f1b6da\"],[0.4,\"#fde0ef\"],[0.5,\"#f7f7f7\"],[0.6,\"#e6f5d0\"],[0.7,\"#b8e186\"],[0.8,\"#7fbc41\"],[0.9,\"#4d9221\"],[1,\"#276419\"]]},\"xaxis\":{\"gridcolor\":\"white\",\"linecolor\":\"white\",\"ticks\":\"\",\"title\":{\"standoff\":15},\"zerolinecolor\":\"white\",\"automargin\":true,\"zerolinewidth\":2},\"yaxis\":{\"gridcolor\":\"white\",\"linecolor\":\"white\",\"ticks\":\"\",\"title\":{\"standoff\":15},\"zerolinecolor\":\"white\",\"automargin\":true,\"zerolinewidth\":2},\"scene\":{\"xaxis\":{\"backgroundcolor\":\"#E5ECF6\",\"gridcolor\":\"white\",\"linecolor\":\"white\",\"showbackground\":true,\"ticks\":\"\",\"zerolinecolor\":\"white\",\"gridwidth\":2},\"yaxis\":{\"backgroundcolor\":\"#E5ECF6\",\"gridcolor\":\"white\",\"linecolor\":\"white\",\"showbackground\":true,\"ticks\":\"\",\"zerolinecolor\":\"white\",\"gridwidth\":2},\"zaxis\":{\"backgroundcolor\":\"#E5ECF6\",\"gridcolor\":\"white\",\"linecolor\":\"white\",\"showbackground\":true,\"ticks\":\"\",\"zerolinecolor\":\"white\",\"gridwidth\":2}},\"shapedefaults\":{\"line\":{\"color\":\"#2a3f5f\"}},\"annotationdefaults\":{\"arrowcolor\":\"#2a3f5f\",\"arrowhead\":0,\"arrowwidth\":1},\"geo\":{\"bgcolor\":\"white\",\"landcolor\":\"#E5ECF6\",\"subunitcolor\":\"white\",\"showland\":true,\"showlakes\":true,\"lakecolor\":\"white\"},\"title\":{\"x\":0.05},\"mapbox\":{\"style\":\"light\"}}},\"xaxis\":{\"anchor\":\"y\",\"domain\":[0.0,1.0],\"title\":{\"text\":\"Continente\"},\"categoryorder\":\"total ascending\"},\"yaxis\":{\"anchor\":\"x\",\"domain\":[0.0,1.0],\"title\":{\"text\":\"Ganancia Total\"}},\"legend\":{\"title\":{\"text\":\"Región\"},\"tracegroupgap\":0},\"title\":{\"text\":\"Top 3 Clientes más Rentables por Región y Continente\"},\"barmode\":\"group\"},                        {\"responsive\": true}                    ).then(function(){\n",
              "                            \n",
              "var gd = document.getElementById('2c405317-1b90-406f-9c72-84d97cea9d42');\n",
              "var x = new MutationObserver(function (mutations, observer) {{\n",
              "        var display = window.getComputedStyle(gd).display;\n",
              "        if (!display || display === 'none') {{\n",
              "            console.log([gd, 'removed!']);\n",
              "            Plotly.purge(gd);\n",
              "            observer.disconnect();\n",
              "        }}\n",
              "}});\n",
              "\n",
              "// Listen for the removal of the full notebook cells\n",
              "var notebookContainer = gd.closest('#notebook-container');\n",
              "if (notebookContainer) {{\n",
              "    x.observe(notebookContainer, {childList: true});\n",
              "}}\n",
              "\n",
              "// Listen for the clearing of the current output cell\n",
              "var outputEl = gd.closest('.output');\n",
              "if (outputEl) {{\n",
              "    x.observe(outputEl, {childList: true});\n",
              "}}\n",
              "\n",
              "                        })                };            </script>        </div>"
            ]
          },
          "metadata": {}
        }
      ]
    }
  ]
}